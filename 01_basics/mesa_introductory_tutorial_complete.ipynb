{
 "cells": [
  {
   "cell_type": "markdown",
   "id": "ed4bb4ad",
   "metadata": {},
   "source": [
    "# Mesa Introductory Tutorial\n",
    "\n",
    "This tutorial has been adapted from the Mesa package introductory tutorial [GitHub](https://github.com/projectmesa/mesa/blob/main/docs/tutorials/intro_tutorial.rst). It has been purposefully simplified for the context of this course."
   ]
  },
  {
   "cell_type": "markdown",
   "id": "bc10d07b",
   "metadata": {},
   "source": [
    "## Description\n",
    "\n",
    "[Mesa](https://github.com/projectmesa/mesa) is a Python framework for\n",
    "[agent-based modeling](https://en.wikipedia.org/wiki/Agent-based_model). Getting\n",
    "started with Mesa is easy. In this tutorial, we will walk through\n",
    "creating a simple model and progressively add functionality which will\n",
    "illustrate Mesa’s core features.\n",
    "\n",
    "The turorial will be given sequentially in 4 blocks:\n",
    "\n",
    "1. The base for this tutorial is a very simple model of agents exchanging money. \n",
    "2. Next, we add *space* to allow agents to move. \n",
    "3. Then, we’ll cover two of Mesa’s analytic tools: the *data collector* and *batch runner*.\n",
    "4. After that, we’ll add an *interactive visualization* which lets us watch the model as it runs. Finally, we go over how to write your own visualization module.\n",
    "\n",
    "You can also find all the full code this tutorial describes in the **examples/boltzmann_wealth_model** directory of the Mesa repository.\n",
    "\n",
    "## Sample Model Description\n",
    "\n",
    "The tutorial model is a very simple simulated agent-based economy, drawn\n",
    "from econophysics and presenting a statistical mechanics approach to\n",
    "wealth distribution. The rules of our tutorial model:\n",
    "\n",
    "1. There are some number of agents.\n",
    "2. All agents begin with 1 unit of money.\n",
    "3. At every step of the model, an agent gives 1 unit of money (if they\n",
    "   have it) to some other agent.\n",
    "\n",
    "Despite its simplicity, this model yields results that are often\n",
    "unexpected to those not familiar with it. For our purposes, it also\n",
    "easily demonstrates Mesa’s core features.\n",
    "\n",
    "Let’s get started."
   ]
  },
  {
   "cell_type": "markdown",
   "id": "6c301d01",
   "metadata": {},
   "source": [
    "## Building a sample model\n",
    "\n",
    "Once the instalation of the neccesary requirements is ready you can start building the model.\n",
    "\n",
    "- Python 3 is installed\n",
    "- Jupyter Noteboks is installed (Anaconda or through Mesa)\n",
    "- Mesa is installed\n",
    "\n",
    "Now you can write models interactively in [Jupyter Notebook](http://jupyter.org/) cells."
   ]
  },
  {
   "cell_type": "markdown",
   "id": "7613cca0",
   "metadata": {},
   "source": [
    "## Setting up the model\n",
    "\n",
    "To begin writing the model code, we start with two core classes: one for\n",
    "the overall model, the other for the agents. The model class holds the\n",
    "model-level attributes, manages the agents, and generally handles the\n",
    "global level of our model. Each instantiation of the model class will be\n",
    "a specific model run. Each model will contain multiple agents, all of\n",
    "which are instantiations of the agent class. Both the model and agent\n",
    "classes are child classes of Mesa’s generic ``Model`` and ``Agent``\n",
    "classes.\n",
    "\n",
    "Each agent has only one variable: how much wealth it currently has.\n",
    "(Each agent will also have a unique identifier (i.e., a name), stored in\n",
    "the ``unique_id`` variable. Giving each agent a unique id is a good\n",
    "practice when doing agent-based modeling.)\n",
    "\n",
    "There is only one model-level parameter: how many agents the model\n",
    "contains. When a new model is started, we want it to populate itself\n",
    "with the given number of agents.\n",
    "\n",
    "The beginning of both classes looks like this:"
   ]
  },
  {
   "cell_type": "code",
   "execution_count": 13,
   "id": "388a82ef",
   "metadata": {},
   "outputs": [],
   "source": [
    "# Setting up the model - agen variables and model-level parameters\n",
    "\n",
    "from mesa import Agent, Model\n",
    "\n",
    "class MoneyAgent(Agent):\n",
    "    \"\"\"An agent with fixed initial wealth.\"\"\"\n",
    "\n",
    "    def __init__(self, unique_id, model):\n",
    "        super().__init__(unique_id, model)\n",
    "        \n",
    "        self.wealth = 1    # < agent variable: how much wealth it currently has\n",
    "\n",
    "\n",
    "class MoneyModel(Model):\n",
    "    \"\"\"A model with some number of agents.\"\"\"\n",
    "\n",
    "    def __init__(self, N):\n",
    "        super().__init__()\n",
    "        \n",
    "        self.num_agents = N    # < model-level parameter: how many agents the model contains\n",
    "        \n",
    "        # Create agents\n",
    "        for i in range(self.num_agents):\n",
    "            a = MoneyAgent(i, self)"
   ]
  },
  {
   "cell_type": "markdown",
   "id": "6579f4f1",
   "metadata": {},
   "source": [
    "## Adding the scheduler\n",
    "\n",
    "Time in most agent-based models moves in steps, sometimes also called\n",
    "**ticks**. At each step of the model, one or more of the agents –\n",
    "usually all of them – are activated and take their own step, changing\n",
    "internally and/or interacting with one another or the environment.\n",
    "\n",
    "The **scheduler** is a special model component which controls the order\n",
    "in which agents are activated. For example, all the agents may activate\n",
    "in the same order every step; their order might be shuffled; we may try\n",
    "to simulate all the agents acting at the same time; and more. Mesa\n",
    "offers a few different built-in scheduler classes, with a common\n",
    "interface. That makes it easy to change the activation regime a given\n",
    "model uses, and see whether it changes the model behavior. This may not\n",
    "seem important, but scheduling patterns can have an impact on your\n",
    "results.\n",
    "\n",
    "For now, let’s use one of the simplest ones: ``RandomActivation``, which\n",
    "activates all the agents once per step, in random order. Every agent is\n",
    "expected to have a ``step`` method. The step method is the action the\n",
    "agent takes when it is activated by the model schedule. We add an agent\n",
    "to the schedule using the ``add`` method; when we call the schedule’s\n",
    "``step`` method, the model shuffles the order of the agents, then\n",
    "activates and executes each agent’s ``step`` method.\n",
    "\n",
    "With that in mind, the model code with the scheduler added looks like\n",
    "this:"
   ]
  },
  {
   "cell_type": "code",
   "execution_count": 14,
   "id": "6905686a",
   "metadata": {},
   "outputs": [],
   "source": [
    "# Adding the scheduler - agent step and model step actions\n",
    "\n",
    "from mesa import Agent, Model\n",
    "from mesa.time import RandomActivation\n",
    "\n",
    "class MoneyAgent(Agent):\n",
    "    \"\"\"An agent with fixed initial wealth.\"\"\"\n",
    "\n",
    "    def __init__(self, unique_id, model):\n",
    "        super().__init__(unique_id, model)\n",
    "        self.wealth = 1\n",
    "\n",
    "    def step(self):\n",
    "        # The agent's step will go here.\n",
    "        # For demonstration purposes we will print the agent's unique_id\n",
    "        print(\"Hi, I am agent \" + str(self.unique_id) + \".\")    # < agent step: action when activated\n",
    "\n",
    "\n",
    "class MoneyModel(Model):\n",
    "    \"\"\"A model with some number of agents.\"\"\"\n",
    "\n",
    "    def __init__(self, N):\n",
    "        super().__init__()\n",
    "        self.num_agents = N\n",
    "        self.schedule = RandomActivation(self)\n",
    "        # Create agents\n",
    "        for i in range(self.num_agents):\n",
    "            a = MoneyAgent(i, self)\n",
    "            self.schedule.add(a)\n",
    "\n",
    "    def step(self):\n",
    "        \"\"\"Advance the model by one step.\"\"\"\n",
    "        self.schedule.step()    # < model step: activate and execute each agent's step"
   ]
  },
  {
   "cell_type": "markdown",
   "id": "a40dc714",
   "metadata": {},
   "source": [
    "### Running the model\n",
    "\n",
    "At this point, we have a model which runs – it just doesn’t do anything.\n",
    "You can see for yourself with a few easy lines. If you’ve been working\n",
    "in an interactive session, you can create a model object directly. \n",
    "\n",
    "Then create the model object, and run it for one step:"
   ]
  },
  {
   "cell_type": "code",
   "execution_count": 15,
   "id": "5a189b3d",
   "metadata": {},
   "outputs": [
    {
     "name": "stdout",
     "output_type": "stream",
     "text": [
      "Hi, I am agent 3.\n",
      "Hi, I am agent 8.\n",
      "Hi, I am agent 7.\n",
      "Hi, I am agent 9.\n",
      "Hi, I am agent 4.\n",
      "Hi, I am agent 0.\n",
      "Hi, I am agent 1.\n",
      "Hi, I am agent 6.\n",
      "Hi, I am agent 2.\n",
      "Hi, I am agent 5.\n"
     ]
    }
   ],
   "source": [
    "# Test the model\n",
    "\n",
    "empty_model = MoneyModel(10)\n",
    "empty_model.step()"
   ]
  },
  {
   "cell_type": "markdown",
   "id": "c429eaeb",
   "metadata": {},
   "source": [
    "### Exercise\n",
    "\n",
    "Try modifying the code above to have every agent print out its\n",
    "``wealth`` when it is activated. Run a few steps of the model to see how\n",
    "the agent activation order is shuffled each step."
   ]
  },
  {
   "cell_type": "markdown",
   "id": "ef50f158",
   "metadata": {},
   "source": [
    "## Agent Step\n",
    "\n",
    "Now we just need to have the agents do what we intend for them to do:\n",
    "check their wealth, and if they have the money, give one unit of it away\n",
    "to another random agent. To allow the agent to choose another agent at\n",
    "random, we use the ``model.random`` random-number generator. This works\n",
    "just like Python’s ``random`` module, but with a fixed seed set when the\n",
    "model is instantiated, that can be used to replicate a specific model\n",
    "run later.\n",
    "\n",
    "To pick an agent at random, we need a list of all agents. Notice that\n",
    "there isn’t such a list explicitly in the model. The scheduler, however,\n",
    "does have an internal list of all the agents it is scheduled to\n",
    "activate.\n",
    "\n",
    "With that in mind, we rewrite the agent ``step`` method, like this:"
   ]
  },
  {
   "cell_type": "code",
   "execution_count": 16,
   "id": "3dc3e4c5",
   "metadata": {},
   "outputs": [],
   "source": [
    "# Agent Step\n",
    "\n",
    "import random\n",
    "\n",
    "class MoneyAgent(Agent):\n",
    "    \"\"\"An agent with fixed initial wealth.\"\"\"\n",
    "\n",
    "    def __init__(self, unique_id, model):\n",
    "        super().__init__(unique_id, model)\n",
    "        self.wealth = 1\n",
    "        self.random = random.Random()\n",
    "\n",
    "    def step(self):    # < agent step: 'rules' action when activated\n",
    "        if self.wealth == 0:\n",
    "            return\n",
    "        other_agent = self.random.choice(self.model.schedule.agents)\n",
    "        other_agent.wealth += 1\n",
    "        self.wealth -= 1"
   ]
  },
  {
   "cell_type": "markdown",
   "id": "8a9e7fb7",
   "metadata": {},
   "source": [
    "### Running your first model\n",
    "\n",
    "With that last piece in hand, it’s time for the first rudimentary run of\n",
    "the model.\n",
    "\n",
    "Now let’s create a model with 10 agents, and run it for 10 steps."
   ]
  },
  {
   "cell_type": "code",
   "execution_count": 17,
   "id": "b0cc7f7c",
   "metadata": {},
   "outputs": [],
   "source": [
    "# Test the model\n",
    "\n",
    "model = MoneyModel(10)\n",
    "for i in range(10):\n",
    "    model.step()"
   ]
  },
  {
   "cell_type": "markdown",
   "id": "c668e344",
   "metadata": {},
   "source": [
    "### Data visualization\n",
    "\n",
    "Next, we need to get some data out of the model. Specifically, we want\n",
    "to see the distribution of the agent’s wealth. We can get the wealth\n",
    "values with list comprehension, and then use matplotlib (or another\n",
    "graphics library) to visualize the data in a histogram.\n",
    "\n",
    "You’ll should see something like the distribution. Yours will\n",
    "almost certainly look at least slightly different, since each run of the\n",
    "model is random, after all."
   ]
  },
  {
   "cell_type": "code",
   "execution_count": 18,
   "id": "f69c5028",
   "metadata": {},
   "outputs": [
    {
     "data": {
      "text/plain": [
       "(array([3., 0., 0., 5., 0., 0., 1., 0., 0., 1.]),\n",
       " array([0. , 0.3, 0.6, 0.9, 1.2, 1.5, 1.8, 2.1, 2.4, 2.7, 3. ]),\n",
       " <BarContainer object of 10 artists>)"
      ]
     },
     "execution_count": 18,
     "metadata": {},
     "output_type": "execute_result"
    },
    {
     "data": {
      "image/png": "[encoded data removed]",
      "text/plain": [
       "<Figure size 432x288 with 1 Axes>"
      ]
     },
     "metadata": {
      "needs_background": "light"
     },
     "output_type": "display_data"
    }
   ],
   "source": [
    "# Show results\n",
    "# For a jupyter notebook add the following line:\n",
    "%matplotlib inline\n",
    "\n",
    "# The below is needed for both notebooks and scripts\n",
    "import matplotlib.pyplot as plt\n",
    "\n",
    "agent_wealth = [a.wealth for a in model.schedule.agents]\n",
    "plt.hist(agent_wealth)"
   ]
  },
  {
   "cell_type": "markdown",
   "id": "521a9420",
   "metadata": {},
   "source": [
    "### Sampling distribution from multiple models\n",
    "\n",
    "To get a better idea of how a model behaves, we can create multiple\n",
    "model runs and see the distribution that emerges from all of them. We\n",
    "can do this with a nested for loop:\n",
    "\n",
    "This runs 100 instantiations of the model, and runs each for 10 steps.\n",
    "(Notice that we set the histogram bins to be integers, since agents can\n",
    "only have whole numbers of wealth). This distribution looks a lot\n",
    "smoother. By running the model 100 times, we smooth out some of the\n",
    "‘noise’ of randomness, and get to the model’s overall expected behavior.\n",
    "\n",
    "This outcome might be surprising. Despite the fact that all agents, on\n",
    "average, give and receive one unit of money every step, the model\n",
    "converges to a state where most agents have a small amount of money and\n",
    "a small number have a lot of money."
   ]
  },
  {
   "cell_type": "code",
   "execution_count": 7,
   "id": "03406524",
   "metadata": {},
   "outputs": [
    {
     "data": {
      "text/plain": [
       "(array([428., 305., 155.,  78.,  22.,  10.,   2.]),\n",
       " array([0, 1, 2, 3, 4, 5, 6, 7]),\n",
       " <BarContainer object of 7 artists>)"
      ]
     },
     "execution_count": 7,
     "metadata": {},
     "output_type": "execute_result"
    },
    {
     "data": {
      "image/png": "[encoded data removed]",
      "text/plain": [
       "<Figure size 432x288 with 1 Axes>"
      ]
     },
     "metadata": {
      "needs_background": "light"
     },
     "output_type": "display_data"
    }
   ],
   "source": [
    "# Ploting sampling distribution\n",
    "\n",
    "all_wealth = []\n",
    "# This runs the model 100 times, each model executing 10 steps.\n",
    "for j in range(100):\n",
    "    # Run the model\n",
    "    model = MoneyModel(10)\n",
    "    for i in range(10):\n",
    "        model.step()\n",
    "\n",
    "    # Store the results\n",
    "    for agent in model.schedule.agents:\n",
    "        all_wealth.append(agent.wealth)\n",
    "\n",
    "plt.hist(all_wealth, bins=range(max(all_wealth) + 1))"
   ]
  },
  {
   "cell_type": "markdown",
   "id": "6ebc65f0",
   "metadata": {},
   "source": [
    "## Adding space\n",
    "\n",
    "Many ABMs have a spatial element, with agents moving around and\n",
    "interacting with nearby neighbors. Mesa currently supports two overall\n",
    "kinds of spaces: grid, and continuous. Grids are divided into cells, and\n",
    "agents can only be on a particular cell, like pieces on a chess board.\n",
    "Continuous space, in contrast, allows agents to have any arbitrary\n",
    "position. Both grids and continuous spaces are frequently\n",
    "[toroidal](https://en.wikipedia.org/wiki/Toroidal_graph), meaning\n",
    "that the edges wrap around, with cells on the right edge connected to\n",
    "those on the left edge, and the top to the bottom. This prevents some\n",
    "cells having fewer neighbors than others, or agents being able to go off\n",
    "the edge of the environment.\n",
    "\n",
    "Let’s add a simple spatial element to our model by putting our agents on\n",
    "a grid and make them walk around at random. Instead of giving their unit\n",
    "of money to any random agent, they’ll give it to an agent on the same\n",
    "cell.\n",
    "\n",
    "Mesa has two main types of grids: ``SingleGrid`` and ``MultiGrid``.\n",
    "``SingleGrid`` enforces at most one agent per cell; ``MultiGrid`` allows\n",
    "multiple agents to be in the same cell. Since we want agents to be able\n",
    "to share a cell, we use ``MultiGrid``.\n",
    "\n",
    "`from mesa.space import MultiGrid`\n",
    "\n",
    "We instantiate a grid with width and height parameters, and a boolean as\n",
    "to whether the grid is toroidal. Let’s make width and height model\n",
    "parameters, in addition to the number of agents, and have the grid\n",
    "always be toroidal. We can place agents on a grid with the grid’s\n",
    "``place_agent`` method, which takes an agent and an (x, y) tuple of the\n",
    "coordinates to place the agent.\n",
    "\n",
    "Under the hood, each agent’s position is stored in two ways: the agent\n",
    "is contained in the grid in the cell it is currently in, and the agent\n",
    "has a ``pos`` variable with an (x, y) coordinate tuple. The\n",
    "``place_agent`` method adds the coordinate to the agent automatically."
   ]
  },
  {
   "cell_type": "code",
   "execution_count": 8,
   "id": "67238034",
   "metadata": {},
   "outputs": [],
   "source": [
    "# Adding space\n",
    "\n",
    "import random\n",
    "from mesa.space import MultiGrid\n",
    "\n",
    "class MoneyAgent(Agent):\n",
    "    \"\"\"An agent with fixed initial wealth.\"\"\"\n",
    "\n",
    "    def __init__(self, unique_id, model):\n",
    "        super().__init__(unique_id, model)\n",
    "        self.wealth = 1\n",
    "        self.random = random.Random()\n",
    "        \n",
    "    def move(self):\n",
    "        possible_steps = self.model.grid.get_neighborhood(\n",
    "            self.pos, moore=True, include_center=False\n",
    "        )\n",
    "        new_position = self.random.choice(possible_steps)\n",
    "        self.model.grid.move_agent(self, new_position)\n",
    "\n",
    "    def give_money(self):\n",
    "        cellmates = self.model.grid.get_cell_list_contents([self.pos])\n",
    "        if len(cellmates) > 1:\n",
    "            other_agent = self.random.choice(cellmates)\n",
    "            other_agent.wealth += 1\n",
    "            self.wealth -= 1\n",
    "\n",
    "    def step(self):\n",
    "        self.move()\n",
    "        if self.wealth > 0:\n",
    "            self.give_money()\n",
    "\n",
    "\n",
    "class MoneyModel(Model):\n",
    "    \"\"\"A model with some number of agents.\"\"\"\n",
    "\n",
    "    def __init__(self, N, width, height):\n",
    "        super().__init__()\n",
    "        self.num_agents = N\n",
    "        self.grid = MultiGrid(width, height, True)\n",
    "        self.schedule = RandomActivation(self)\n",
    "        self.random = random.Random()\n",
    "        \n",
    "        # Create agents\n",
    "        for i in range(self.num_agents):\n",
    "            a = MoneyAgent(i, self)\n",
    "            self.schedule.add(a)\n",
    "            # Add the agent to a random grid cell\n",
    "            x = self.random.randrange(self.grid.width)\n",
    "            y = self.random.randrange(self.grid.height)\n",
    "            self.grid.place_agent(a, (x, y))\n",
    "\n",
    "    def step(self):\n",
    "        self.schedule.step()"
   ]
  },
  {
   "cell_type": "markdown",
   "id": "8adf1f51",
   "metadata": {},
   "source": [
    "### Running the model\n",
    "\n",
    "Now we need to add to the agents’ behaviors, letting them move around\n",
    "and only give money to other agents in the same cell.\n",
    "\n",
    "First let’s handle movement, and have the agents move to a neighboring\n",
    "cell. The grid object provides a ``move_agent`` method, which like you’d\n",
    "imagine, moves an agent to a given cell. That still leaves us to get the\n",
    "possible neighboring cells to move to. There are a couple ways to do\n",
    "this. One is to use the current coordinates, and loop over all\n",
    "coordinates +/- 1 away from it. For example:\n",
    "\n",
    "`\n",
    "   neighbors = []\n",
    "   x, y = self.pos\n",
    "   for dx in [-1, 0, 1]:\n",
    "       for dy in [-1, 0, 1]:\n",
    "           neighbors.append((x+dx, y+dy))\n",
    "`\n",
    "\n",
    "But there’s an even simpler way, using the grid’s built-in\n",
    "``get_neighborhood`` method, which returns all the neighbors of a given\n",
    "cell. This method can get two types of cell neighborhoods:\n",
    "[Moore](https://en.wikipedia.org/wiki/Moore_neighborhood) (includes\n",
    "all 8 surrounding squares), and [Von\n",
    "Neumann](https://en.wikipedia.org/wiki/Von_Neumann_neighborhood)\\ (only\n",
    "up/down/left/right). It also needs an argument as to whether to include\n",
    "the center cell itself as one of the neighbors.\n",
    "\n",
    "With that in mind, the agent’s ``move`` method looks like this:\n",
    "\n",
    "**continue**"
   ]
  },
  {
   "cell_type": "markdown",
   "id": "3495433b",
   "metadata": {},
   "source": [
    "Let’s create a model with 50 agents on a 10x10 grid, and run it for 20\n",
    "steps."
   ]
  },
  {
   "cell_type": "code",
   "execution_count": 9,
   "id": "03bd6ada",
   "metadata": {},
   "outputs": [],
   "source": [
    "# Test the model\n",
    "\n",
    "model = MoneyModel(50, 10, 10)\n",
    "for i in range(20):\n",
    "    model.step()"
   ]
  },
  {
   "cell_type": "markdown",
   "id": "6b1b4286",
   "metadata": {},
   "source": [
    "### Data visualization\n",
    "\n",
    "Now let’s use matplotlib and numpy to visualize the number of agents\n",
    "residing in each cell. To do that, we create a numpy array of the same\n",
    "size as the grid, filled with zeros. Then we use the grid object’s\n",
    "``coord_iter()`` feature, which lets us loop over every cell in the\n",
    "grid, giving us each cell’s coordinates and contents in turn."
   ]
  },
  {
   "cell_type": "code",
   "execution_count": 10,
   "id": "18e98c74",
   "metadata": {},
   "outputs": [
    {
     "data": {
      "text/plain": [
       "<matplotlib.colorbar.Colorbar at 0x7fb58b9653a0>"
      ]
     },
     "execution_count": 10,
     "metadata": {},
     "output_type": "execute_result"
    },
    {
     "data": {
      "image/png": "[encoded data removed]",
      "text/plain": [
       "<Figure size 432x288 with 2 Axes>"
      ]
     },
     "metadata": {
      "needs_background": "light"
     },
     "output_type": "display_data"
    }
   ],
   "source": [
    "# Show the data in grid\n",
    "\n",
    "import numpy as np\n",
    "\n",
    "agent_counts = np.zeros((model.grid.width, model.grid.height))\n",
    "for cell in model.grid.coord_iter():\n",
    "    cell_content, x, y = cell\n",
    "    agent_count = len(cell_content)\n",
    "    agent_counts[x][y] = agent_count\n",
    "plt.imshow(agent_counts, interpolation=\"nearest\")\n",
    "plt.colorbar()\n",
    "\n",
    "# If running from a text editor or IDE, remember you'll need the following:\n",
    "# plt.show()"
   ]
  },
  {
   "cell_type": "markdown",
   "id": "d2f1c4a2",
   "metadata": {},
   "source": [
    "### Collecting Data\n",
    "\n",
    "So far, at the end of every model run, we’ve had to go and write our own\n",
    "code to get the data out of the model. This has two problems: it isn’t\n",
    "very efficient, and it only gives us end results. If we wanted to know\n",
    "the wealth of each agent at each step, we’d have to add that to the loop\n",
    "of executing steps, and figure out some way to store the data.\n",
    "\n",
    "Since one of the main goals of agent-based modeling is generating data\n",
    "for analysis, Mesa provides a class which can handle data collection and\n",
    "storage for us and make it easier to analyze.\n",
    "\n",
    "The data collector stores three categories of data: model-level\n",
    "variables, agent-level variables, and tables (which are a catch-all for\n",
    "everything else). Model- and agent-level variables are added to the data\n",
    "collector along with a function for collecting them. Model-level\n",
    "collection functions take a model object as an input, while agent-level\n",
    "collection functions take an agent object as an input. Both then return\n",
    "a value computed from the model or each agent at their current state.\n",
    "When the data collector’s ``collect`` method is called, with a model\n",
    "object as its argument, it applies each model-level collection function\n",
    "to the model, and stores the results in a dictionary, associating the\n",
    "current value with the current step of the model. Similarly, the method\n",
    "applies each agent-level collection function to each agent currently in\n",
    "the schedule, associating the resulting value with the step of the\n",
    "model, and the agent’s ``unique_id``.\n",
    "\n",
    "Let’s add a DataCollector to the model, and collect two variables. At\n",
    "the agent level, we want to collect every agent’s wealth at every step.\n",
    "At the model level, let’s measure the model’s [Gini\n",
    "Coefficient](https://en.wikipedia.org/wiki/Gini_coefficient), a\n",
    "measure of wealth inequality.\n",
    "\n",
    "At every step of the model, the datacollector will collect and store the\n",
    "model-level current Gini coefficient, as well as each agent’s wealth,\n",
    "associating each with the current step."
   ]
  },
  {
   "cell_type": "code",
   "execution_count": 11,
   "id": "2d450568",
   "metadata": {},
   "outputs": [],
   "source": [
    "# Collecting Data\n",
    "\n",
    "import random\n",
    "from mesa.datacollection import DataCollector\n",
    "\n",
    "\n",
    "def compute_gini(model):\n",
    "    agent_wealths = [agent.wealth for agent in model.schedule.agents]\n",
    "    x = sorted(agent_wealths)\n",
    "    N = model.num_agents\n",
    "    B = sum(xi * (N - i) for i, xi in enumerate(x)) / (N * sum(x))\n",
    "    return 1 + (1 / N) - 2 * B\n",
    "\n",
    "\n",
    "class MoneyAgent(Agent):\n",
    "    \"\"\"An agent with fixed initial wealth.\"\"\"\n",
    "\n",
    "    def __init__(self, unique_id, model):\n",
    "        super().__init__(unique_id, model)\n",
    "        self.wealth = 1\n",
    "        self.random = random.Random()\n",
    "        \n",
    "    def move(self):\n",
    "        possible_steps = self.model.grid.get_neighborhood(\n",
    "            self.pos, moore=True, include_center=False\n",
    "        )\n",
    "        new_position = self.random.choice(possible_steps)\n",
    "        self.model.grid.move_agent(self, new_position)\n",
    "\n",
    "    def give_money(self):\n",
    "        cellmates = self.model.grid.get_cell_list_contents([self.pos])\n",
    "        if len(cellmates) > 1:\n",
    "            other = self.random.choice(cellmates)\n",
    "            other.wealth += 1\n",
    "            self.wealth -= 1\n",
    "\n",
    "    def step(self):\n",
    "        self.move()\n",
    "        if self.wealth > 0:\n",
    "            self.give_money()\n",
    "\n",
    "\n",
    "class MoneyModel(Model):\n",
    "    \"\"\"A model with some number of agents.\"\"\"\n",
    "\n",
    "    def __init__(self, N, width, height):\n",
    "        super().__init__()\n",
    "        self.num_agents = N\n",
    "        self.grid = MultiGrid(width, height, True)\n",
    "        self.schedule = RandomActivation(self)\n",
    "        self.random = random.Random()\n",
    "        \n",
    "        # Create agents\n",
    "        for i in range(self.num_agents):\n",
    "            a = MoneyAgent(i, self)\n",
    "            self.schedule.add(a)\n",
    "            # Add the agent to a random grid cell\n",
    "            x = self.random.randrange(self.grid.width)\n",
    "            y = self.random.randrange(self.grid.height)\n",
    "            self.grid.place_agent(a, (x, y))\n",
    "\n",
    "        self.datacollector = DataCollector(\n",
    "            model_reporters={\"Gini\": compute_gini}, agent_reporters={\"Wealth\": \"wealth\"}\n",
    "        )\n",
    "\n",
    "    def step(self):\n",
    "        self.datacollector.collect(self)\n",
    "        self.schedule.step()"
   ]
  },
  {
   "cell_type": "markdown",
   "id": "b4082398",
   "metadata": {},
   "source": [
    "### Running the model\n",
    "\n",
    "We run the model just as we did above. Now is when an interactive\n",
    "session, especially via a Notebook, comes in handy: the DataCollector\n",
    "can export the data it’s collected as a pandas DataFrame, for easy\n",
    "interactive analysis."
   ]
  },
  {
   "cell_type": "code",
   "execution_count": 12,
   "id": "32f9bb96",
   "metadata": {},
   "outputs": [
    {
     "ename": "TypeError",
     "evalue": "'str' object is not callable",
     "output_type": "error",
     "traceback": [
      "\u001b[0;31m---------------------------------------------------------------------------\u001b[0m",
      "\u001b[0;31mTypeError\u001b[0m                                 Traceback (most recent call last)",
      "\u001b[0;32m/tmp/ipykernel_15354/1697068330.py\u001b[0m in \u001b[0;36m<module>\u001b[0;34m\u001b[0m\n\u001b[1;32m      3\u001b[0m \u001b[0mmodel\u001b[0m \u001b[0;34m=\u001b[0m \u001b[0mMoneyModel\u001b[0m\u001b[0;34m(\u001b[0m\u001b[0;36m50\u001b[0m\u001b[0;34m,\u001b[0m \u001b[0;36m10\u001b[0m\u001b[0;34m,\u001b[0m \u001b[0;36m10\u001b[0m\u001b[0;34m)\u001b[0m\u001b[0;34m\u001b[0m\u001b[0;34m\u001b[0m\u001b[0m\n\u001b[1;32m      4\u001b[0m \u001b[0;32mfor\u001b[0m \u001b[0mi\u001b[0m \u001b[0;32min\u001b[0m \u001b[0mrange\u001b[0m\u001b[0;34m(\u001b[0m\u001b[0;36m100\u001b[0m\u001b[0;34m)\u001b[0m\u001b[0;34m:\u001b[0m\u001b[0;34m\u001b[0m\u001b[0;34m\u001b[0m\u001b[0m\n\u001b[0;32m----> 5\u001b[0;31m     \u001b[0mmodel\u001b[0m\u001b[0;34m.\u001b[0m\u001b[0mstep\u001b[0m\u001b[0;34m(\u001b[0m\u001b[0;34m)\u001b[0m\u001b[0;34m\u001b[0m\u001b[0;34m\u001b[0m\u001b[0m\n\u001b[0m",
      "\u001b[0;32m/tmp/ipykernel_15354/2831121461.py\u001b[0m in \u001b[0;36mstep\u001b[0;34m(self)\u001b[0m\n\u001b[1;32m     65\u001b[0m \u001b[0;34m\u001b[0m\u001b[0m\n\u001b[1;32m     66\u001b[0m     \u001b[0;32mdef\u001b[0m \u001b[0mstep\u001b[0m\u001b[0;34m(\u001b[0m\u001b[0mself\u001b[0m\u001b[0;34m)\u001b[0m\u001b[0;34m:\u001b[0m\u001b[0;34m\u001b[0m\u001b[0;34m\u001b[0m\u001b[0m\n\u001b[0;32m---> 67\u001b[0;31m         \u001b[0mself\u001b[0m\u001b[0;34m.\u001b[0m\u001b[0mdatacollector\u001b[0m\u001b[0;34m.\u001b[0m\u001b[0mcollect\u001b[0m\u001b[0;34m(\u001b[0m\u001b[0mself\u001b[0m\u001b[0;34m)\u001b[0m\u001b[0;34m\u001b[0m\u001b[0;34m\u001b[0m\u001b[0m\n\u001b[0m\u001b[1;32m     68\u001b[0m         \u001b[0mself\u001b[0m\u001b[0;34m.\u001b[0m\u001b[0mschedule\u001b[0m\u001b[0;34m.\u001b[0m\u001b[0mstep\u001b[0m\u001b[0;34m(\u001b[0m\u001b[0;34m)\u001b[0m\u001b[0;34m\u001b[0m\u001b[0;34m\u001b[0m\u001b[0m\n",
      "\u001b[0;32m~/.local/lib/python3.8/site-packages/mesa/datacollection.py\u001b[0m in \u001b[0;36mcollect\u001b[0;34m(self, model)\u001b[0m\n\u001b[1;32m    141\u001b[0m                 \u001b[0magent_records\u001b[0m \u001b[0;34m=\u001b[0m \u001b[0;34m[\u001b[0m\u001b[0;34m]\u001b[0m\u001b[0;34m\u001b[0m\u001b[0;34m\u001b[0m\u001b[0m\n\u001b[1;32m    142\u001b[0m                 \u001b[0;32mfor\u001b[0m \u001b[0magent\u001b[0m \u001b[0;32min\u001b[0m \u001b[0mmodel\u001b[0m\u001b[0;34m.\u001b[0m\u001b[0mschedule\u001b[0m\u001b[0;34m.\u001b[0m\u001b[0magents\u001b[0m\u001b[0;34m:\u001b[0m\u001b[0;34m\u001b[0m\u001b[0;34m\u001b[0m\u001b[0m\n\u001b[0;32m--> 143\u001b[0;31m                     \u001b[0magent_records\u001b[0m\u001b[0;34m.\u001b[0m\u001b[0mappend\u001b[0m\u001b[0;34m(\u001b[0m\u001b[0;34m(\u001b[0m\u001b[0magent\u001b[0m\u001b[0;34m.\u001b[0m\u001b[0munique_id\u001b[0m\u001b[0;34m,\u001b[0m \u001b[0mreporter\u001b[0m\u001b[0;34m(\u001b[0m\u001b[0magent\u001b[0m\u001b[0;34m)\u001b[0m\u001b[0;34m)\u001b[0m\u001b[0;34m)\u001b[0m\u001b[0;34m\u001b[0m\u001b[0;34m\u001b[0m\u001b[0m\n\u001b[0m\u001b[1;32m    144\u001b[0m                 \u001b[0mself\u001b[0m\u001b[0;34m.\u001b[0m\u001b[0magent_vars\u001b[0m\u001b[0;34m[\u001b[0m\u001b[0mvar\u001b[0m\u001b[0;34m]\u001b[0m\u001b[0;34m.\u001b[0m\u001b[0mappend\u001b[0m\u001b[0;34m(\u001b[0m\u001b[0magent_records\u001b[0m\u001b[0;34m)\u001b[0m\u001b[0;34m\u001b[0m\u001b[0;34m\u001b[0m\u001b[0m\n\u001b[1;32m    145\u001b[0m \u001b[0;34m\u001b[0m\u001b[0m\n",
      "\u001b[0;31mTypeError\u001b[0m: 'str' object is not callable"
     ]
    }
   ],
   "source": [
    "# Test the model\n",
    "\n",
    "model = MoneyModel(50, 10, 10)\n",
    "for i in range(100):\n",
    "    model.step()"
   ]
  },
  {
   "cell_type": "markdown",
   "id": "942d3cd6",
   "metadata": {},
   "source": [
    "To get the series of Gini coefficients as a pandas DataFrame:"
   ]
  },
  {
   "cell_type": "code",
   "execution_count": null,
   "id": "a8b6be24",
   "metadata": {},
   "outputs": [],
   "source": [
    "# Plot coefficients\n",
    "\n",
    "gini = model.datacollector.get_model_vars_dataframe()\n",
    "gini.plot()"
   ]
  },
  {
   "cell_type": "markdown",
   "id": "40c0b4c0",
   "metadata": {},
   "source": [
    "Similarly, we can get the agent-wealth data:"
   ]
  },
  {
   "cell_type": "code",
   "execution_count": null,
   "id": "80149f9b",
   "metadata": {},
   "outputs": [],
   "source": [
    "# Get agent data\n",
    "agent_wealth = model.datacollector.get_agent_vars_dataframe()\n",
    "agent_wealth.head()"
   ]
  },
  {
   "cell_type": "markdown",
   "id": "782b2cda",
   "metadata": {},
   "source": [
    "You’ll see that the DataFrame’s index is pairings of model step and\n",
    "agent ID. You can analyze it the way you would any other DataFrame. For\n",
    "example, to get a histogram of agent wealth at the model’s end:"
   ]
  },
  {
   "cell_type": "code",
   "execution_count": null,
   "id": "c5764828",
   "metadata": {},
   "outputs": [],
   "source": [
    "# Plot histogram of agents wealth\n",
    "\n",
    "end_wealth = agent_wealth.xs(99, level=\"Step\")[\"Wealth\"]\n",
    "end_wealth.hist(bins=range(agent_wealth.Wealth.max() + 1))"
   ]
  },
  {
   "cell_type": "markdown",
   "id": "c64dfb6d",
   "metadata": {},
   "source": [
    "Or to plot the wealth of a given agent (in this example, agent 14):"
   ]
  },
  {
   "cell_type": "code",
   "execution_count": null,
   "id": "54811db8",
   "metadata": {},
   "outputs": [],
   "source": [
    "# Plot the trend of wealth of given agent\n",
    "\n",
    "one_agent_wealth = agent_wealth.xs(14, level=\"AgentID\")\n",
    "one_agent_wealth.Wealth.plot()"
   ]
  },
  {
   "cell_type": "markdown",
   "id": "01685e8c",
   "metadata": {},
   "source": [
    "### Batch Run\n",
    "\n",
    "Like we mentioned above, you usually won’t run a model only once, but\n",
    "multiple times, with fixed parameters to find the overall distributions\n",
    "the model generates, and with varying parameters to analyze how they\n",
    "drive the model’s outputs and behaviors. Instead of needing to write\n",
    "nested for-loops for each model, Mesa provides a ``batch_run`` function\n",
    "which automates it for you.\n",
    "\n",
    "The batch runner also requires an additional variable ``self.running``\n",
    "for the MoneyModel class. This variable enables conditional shut off of\n",
    "the model once a condition is met. In this example it will be set as\n",
    "True indefinitely."
   ]
  },
  {
   "cell_type": "code",
   "execution_count": null,
   "id": "b37f034b",
   "metadata": {},
   "outputs": [],
   "source": [
    "# Batch Run\n",
    "\n",
    "import random\n",
    "\n",
    "def compute_gini(model):\n",
    "    agent_wealths = [agent.wealth for agent in model.schedule.agents]\n",
    "    x = sorted(agent_wealths)\n",
    "    N = model.num_agents\n",
    "    B = sum(xi * (N - i) for i, xi in enumerate(x)) / (N * sum(x))\n",
    "    return 1 + (1 / N) - 2 * B\n",
    "\n",
    "\n",
    "class MoneyAgent(Agent):\n",
    "    \"\"\"An agent with fixed initial wealth.\"\"\"\n",
    "\n",
    "    def __init__(self, unique_id, model):\n",
    "        super().__init__(unique_id, model)\n",
    "        self.wealth = 1\n",
    "        self.random = random.Random()\n",
    "        \n",
    "    def move(self):\n",
    "        possible_steps = self.model.grid.get_neighborhood(\n",
    "            self.pos, moore=True, include_center=False\n",
    "        )\n",
    "        new_position = self.random.choice(possible_steps)\n",
    "        self.model.grid.move_agent(self, new_position)\n",
    "\n",
    "    def give_money(self):\n",
    "        cellmates = self.model.grid.get_cell_list_contents([self.pos])\n",
    "        if len(cellmates) > 1:\n",
    "            other = self.random.choice(cellmates)\n",
    "            other.wealth += 1\n",
    "            self.wealth -= 1\n",
    "\n",
    "    def step(self):\n",
    "        self.move()\n",
    "        if self.wealth > 0:\n",
    "            self.give_money()\n",
    "\n",
    "\n",
    "class MoneyModel(Model):\n",
    "    \"\"\"A model with some number of agents.\"\"\"\n",
    "\n",
    "    def __init__(self, N, width, height):\n",
    "        super().__init__()\n",
    "        self.num_agents = N\n",
    "        self.grid = MultiGrid(width, height, True)\n",
    "        self.schedule = RandomActivation(self)\n",
    "        self.running = True\n",
    "        self.random = random.Random()\n",
    "        \n",
    "        # Create agents\n",
    "        for i in range(self.num_agents):\n",
    "            a = MoneyAgent(i, self)\n",
    "            self.schedule.add(a)\n",
    "            # Add the agent to a random grid cell\n",
    "            x = self.random.randrange(self.grid.width)\n",
    "            y = self.random.randrange(self.grid.height)\n",
    "            self.grid.place_agent(a, (x, y))\n",
    "\n",
    "        self.datacollector = DataCollector(\n",
    "            model_reporters={\"Gini\": compute_gini}, agent_reporters={\"Wealth\": \"wealth\"}\n",
    "        )\n",
    "\n",
    "    def step(self):\n",
    "        self.datacollector.collect(self)\n",
    "        self.schedule.step()"
   ]
  },
  {
   "cell_type": "markdown",
   "id": "94fb4935",
   "metadata": {},
   "source": [
    "### Running the model\n",
    "\n",
    "We call ``batch_run`` with the following arguments:\n",
    "\n",
    "* ``model_cls``\n",
    "\n",
    "  The model class that is used for the batch run.\n",
    "\n",
    "* ``parameters``\n",
    "\n",
    "  A dictionary containing all the parameters of the model class and\n",
    "  desired values to use for the batch run as key-value pairs. Each\n",
    "  value can either be fixed ( e.g. ``{\"height\": 10, \"width\": 10}``)\n",
    "  or an iterable (e.g. ``{\"N\": range(10, 500, 10)}``). ``batch_run``\n",
    "  will then generate all possible parameter combinations based on this\n",
    "  dictionary and run the model ``iterations`` times for each combination.\n",
    "\n",
    "* ``number_processes``\n",
    "\n",
    "  Number of processors used to run the sweep in parallel. Optional.\n",
    "  If not specified, defaults to use all the available processors.\n",
    "\n",
    "  Note: Multiprocessing does make debugging challenging. If your\n",
    "  parameter sweeps are resulting in unexpected errors set ``number_processes = 1``.\n",
    "\n",
    "* ``iterations``\n",
    "\n",
    "  The number of iterations to run each parameter combination for. Optional.\n",
    "  If not specified, defaults to 1.\n",
    "\n",
    "* ``data_collection_period``\n",
    "\n",
    "  The length of the period (number of steps) after which the model and\n",
    "  agent reporters collect data. Optional. If not specified, defaults to -1,\n",
    "  i.e. only at the end of each episode.\n",
    "\n",
    "* ``max_steps``\n",
    "\n",
    "  The maximum number of time steps after which the model halts. An episode\n",
    "  does either end when ``self.running`` of the model class is set to\n",
    "  ``False`` or when ``model.schedule.steps == max_steps`` is reached.\n",
    "  Optional. If not specified, defaults to 1000.\n",
    "\n",
    "* ``display_progress``\n",
    "\n",
    "  Display the batch run progress. Optional. If not specified, defaults to ``True``.\n",
    "\n",
    "In the following example, we hold the height and width fixed, and vary\n",
    "the number of agents. We tell the batch runner to run 5 instantiations\n",
    "of the model with each number of agents, and to run each for 100 steps.\n",
    "\n",
    "We want to keep track of\n",
    "\n",
    "1. the Gini coefficient value and\n",
    "2. the individual agent’s wealth development.\n",
    "\n",
    "Since for the latter changes at each time step might be interesting, we\n",
    "set ``data_collection_period = 1``.\n",
    "\n",
    "Note: The total number of runs is 245 (= 49 different populations \\* 5\n",
    "iterations per population). However, the resulting list of dictionaries\n",
    "will be of length 6186250 (= 250 average agents per population \\* 49\n",
    "different populations \\* 5 iterations per population \\* 101 steps per\n",
    "iteration)."
   ]
  },
  {
   "cell_type": "code",
   "execution_count": null,
   "id": "ab3057ba",
   "metadata": {},
   "outputs": [],
   "source": [
    "# Test the batch model\n",
    "\n",
    "from mesa.batchrunner import batch_run\n",
    "\n",
    "params = {\"width\": 10, \"height\": 10, \"N\": range(10, 500, 10)}\n",
    "\n",
    "results = batch_run(\n",
    "    MoneyModel,\n",
    "    parameters=params,\n",
    "    iterations=5,\n",
    "    max_steps=100,\n",
    "    number_processes=None,\n",
    "    data_collection_period=1,\n",
    "    display_progress=True,\n",
    ")"
   ]
  },
  {
   "cell_type": "markdown",
   "id": "7f22bade",
   "metadata": {},
   "source": [
    "### Data collection\n",
    "\n",
    "To further analyze the return of the ``batch_run`` function, we convert\n",
    "the list of dictionaries to a Pandas DataFrame and print its keys."
   ]
  },
  {
   "cell_type": "code",
   "execution_count": null,
   "id": "a5763595",
   "metadata": {},
   "outputs": [],
   "source": [
    "# Collect batch data as Pandas dataframe\n",
    "\n",
    "import pandas as pd\n",
    "\n",
    "results_df = pd.DataFrame(results)\n",
    "print(results_df.keys())"
   ]
  },
  {
   "cell_type": "markdown",
   "id": "27cbeb06",
   "metadata": {},
   "source": [
    "### Data visualization\n",
    "\n",
    "First, we want to take a closer look at how the Gini coefficient at the\n",
    "end of each episode changes as we increase the size of the population.\n",
    "For this, we filter our results to only contain the data of one agent\n",
    "(the Gini coefficient will be the same for the entire population at any\n",
    "time) at the 100th step of each episode and then scatter-plot the values\n",
    "for the Gini coefficient over the the number of agents. Notice there are\n",
    "five values for each population size since we set ``iterations=5`` when\n",
    "calling the batch run."
   ]
  },
  {
   "cell_type": "code",
   "execution_count": null,
   "id": "5ac54a98",
   "metadata": {},
   "outputs": [],
   "source": [
    "# Trend of coefficients after each iteration\n",
    "\n",
    "results_filtered = results_df[(results_df.AgentID == 0) & (results_df.Step == 100)]\n",
    "N_values = results_filtered.N.values\n",
    "gini_values = results_filtered.Gini.values\n",
    "plt.scatter(N_values, gini_values)"
   ]
  },
  {
   "cell_type": "markdown",
   "id": "7f4795d0",
   "metadata": {},
   "source": [
    "Second, we want to display the agent’s wealth at each time step of one\n",
    "specific episode. To do this, we again filter our large data frame, this\n",
    "time with a fixed number of agents and only for a specific iteration of\n",
    "that population. To print the results, we convert the filtered data\n",
    "frame to a string specifying the desired columns to print.\n",
    "\n",
    "Pandas has built-in functions to convert to a lot of different data\n",
    "formats. For example, to display as a table in a Jupyter Notebook, we\n",
    "can use the ``to_html()`` function which takes the same arguments as\n",
    "``to_string()`` (see commented lines)."
   ]
  },
  {
   "cell_type": "code",
   "execution_count": null,
   "id": "3b0bf216",
   "metadata": {},
   "outputs": [],
   "source": [
    "# Show agent’s wealth at each time step of one specific episode\n",
    "\n",
    "# First, we filter the results\n",
    "one_episode_wealth = results_df[(results_df.N == 10) & (results_df.iteration == 2)]\n",
    "# Then, print the columns of interest of the filtered data frame\n",
    "# print(one_episode_wealth.to_string(index=False, columns=[\"Step\", \"AgentID\", \"Wealth\"]))\n",
    "# For a prettier display we can also convert the data frame to html, uncomment to test in a Jupyter Notebook\n",
    "from IPython.display import display, HTML\n",
    "display(HTML(one_episode_wealth.to_html(index=False, columns=['Step', 'AgentID', 'Wealth'], max_rows=25)))\n"
   ]
  },
  {
   "cell_type": "markdown",
   "id": "ae3e4661",
   "metadata": {},
   "source": [
    "Lastly, we want to take a look at the development of the Gini\n",
    "coefficient over the course of one iteration. Filtering and printing\n",
    "looks almost the same as above, only this time we choose a different\n",
    "episode."
   ]
  },
  {
   "cell_type": "code",
   "execution_count": null,
   "id": "503b50d1",
   "metadata": {},
   "outputs": [],
   "source": [
    "# Development of the coefficient over the course of one iteration\n",
    "\n",
    "results_one_episode = results_df[\n",
    "    (results_df.N == 10) & (results_df.iteration == 1) & (results_df.AgentID == 0)\n",
    "]\n",
    "print(results_one_episode.to_string(index=False, columns=[\"Step\", \"Gini\"], max_rows=25))\n"
   ]
  },
  {
   "cell_type": "markdown",
   "id": "d3240035",
   "metadata": {},
   "source": [
    "## Happy Modeling!"
   ]
  }
 ],
 "metadata": {
  "kernelspec": {
   "display_name": "Python 3 (ipykernel)",
   "language": "python",
   "name": "python3"
  },
  "language_info": {
   "codemirror_mode": {
    "name": "ipython",
    "version": 3
   },
   "file_extension": ".py",
   "mimetype": "text/x-python",
   "name": "python",
   "nbconvert_exporter": "python",
   "pygments_lexer": "ipython3",
   "version": "3.8.10"
  }
 },
 "nbformat": 4,
 "nbformat_minor": 5
}
