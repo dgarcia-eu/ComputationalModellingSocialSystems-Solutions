{
 "cells": [
  {
   "cell_type": "markdown",
   "id": "3201ee13",
   "metadata": {},
   "source": [
    "# Enviroment setup\n",
    "\n",
    "Best way to start using Jupyler Notebooks is through Anaconda installation.\n",
    "\n",
    "https://www.mygreatlearning.com/blog/how-to-install-jupyter-notebook/\n",
    "\n",
    "https://jupyter-notebook-beginner-guide.readthedocs.io/en/latest/install.html\n",
    "\n",
    "https://towardsdatascience.com/how-to-set-up-anaconda-and-jupyter-notebook-the-right-way-de3b7623ea4a"
   ]
  },
  {
   "cell_type": "markdown",
   "id": "87a91fcd",
   "metadata": {},
   "source": [
    "## Setup\n",
    "\n",
    "Setup is pretty straightforward for Mesa. Make sure to create a new virtual environment. I name the environment as mesaenv. Open up your terminal and change the directory to mesaenv and activate the virtual environment using the following code:"
   ]
  },
  {
   "cell_type": "code",
   "execution_count": null,
   "id": "e6fe5ed3",
   "metadata": {},
   "outputs": [],
   "source": [
    "#Run the following command to activate the virtual environment depending on your use case.\n",
    "\n",
    "#Anaconda\n",
    "conda activate mesaenv\n",
    "\n",
    "#Terminal\n",
    "source bin/activate"
   ]
  },
  {
   "cell_type": "markdown",
   "id": "9c3e29c1",
   "metadata": {},
   "source": [
    "# Mesa setup and test\n",
    "\n",
    "## Installation\n",
    "\n",
    "To start, install Mesa. We recommend doing this in a [virtual\n",
    "environment](https://virtualenvwrapper.readthedocs.org/en/stable/),\n",
    "but make sure your environment is set up with Python 3. Mesa requires\n",
    "Python3 and does not work in Python 2 environments.\n",
    "\n",
    "To install Mesa, simply:\n",
    "\n",
    "`$ pip install mesa`\n",
    "\n",
    "When you do that, it will install Mesa itself, as well as any\n",
    "dependencies that aren’t in your setup yet. Additional dependencies\n",
    "required by this tutorial can be found in the\n",
    "**examples/boltzmann_wealth_model/requirements.txt** file, which can be\n",
    "installed directly form the github repository by running:\n",
    "\n",
    "`$ pip install -r https://raw.githubusercontent.com/projectmesa/mesa/main/examples/boltzmann_wealth_model/requirements.txt`\n",
    "\n",
    "This will install the dependencies listed in the requirements.txt file which are:\n",
    "- jupyter (Ipython interactive notebook)\n",
    "- matplotlib (Python’s visualization library)\n",
    "- mesa (this ABM library – if not installed)\n",
    "- numpy (Python’s numerical python library)"
   ]
  },
  {
   "cell_type": "code",
   "execution_count": null,
   "id": "d7185818",
   "metadata": {},
   "outputs": [],
   "source": [
    "# Install a pip package in the current Jupyter kernel\n",
    "#import sys\n",
    "#!{sys.executable} -m pip install mesa"
   ]
  },
  {
   "cell_type": "code",
   "execution_count": null,
   "id": "12971331",
   "metadata": {},
   "outputs": [],
   "source": [
    "# To launch an example model, clone the repository folder and invoke mesa runserver for one of the examples/ subdirectories:\n",
    "# https://github.com/projectmesa/mesa\n",
    "# git clone https://github.com/projectmesa/mesa.git"
   ]
  },
  {
   "cell_type": "code",
   "execution_count": null,
   "id": "80fa8216",
   "metadata": {},
   "outputs": [],
   "source": [
    "# Install command on your local machinne using already prepared setup.py\n",
    "#cd /mesa\n",
    "#python3 setup.py install\n",
    "# -or- if your account doesn't have the proper privilages\n",
    "#sudo python3 setup.py install"
   ]
  },
  {
   "cell_type": "code",
   "execution_count": null,
   "id": "8f5bc63d",
   "metadata": {},
   "outputs": [],
   "source": [
    "# Run example\n",
    "# mesa runserver examples/wolf_sheep\n",
    "!mesa runserver ~/git/mesa/examples/wolf_sheep"
   ]
  },
  {
   "cell_type": "code",
   "execution_count": null,
   "id": "f50dc4a6",
   "metadata": {},
   "outputs": [],
   "source": []
  }
 ],
 "metadata": {
  "kernelspec": {
   "display_name": "Python 3 (ipykernel)",
   "language": "python",
   "name": "python3"
  },
  "language_info": {
   "codemirror_mode": {
    "name": "ipython",
    "version": 3
   },
   "file_extension": ".py",
   "mimetype": "text/x-python",
   "name": "python",
   "nbconvert_exporter": "python",
   "pygments_lexer": "ipython3",
   "version": "3.8.10"
  }
 },
 "nbformat": 4,
 "nbformat_minor": 5
}
