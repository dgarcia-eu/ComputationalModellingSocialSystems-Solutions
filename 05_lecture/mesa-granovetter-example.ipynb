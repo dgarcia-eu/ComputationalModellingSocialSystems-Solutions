{
 "cells": [
  {
   "cell_type": "markdown",
   "id": "17d451c2",
   "metadata": {},
   "source": [
    "# Granovetter threshold model"
   ]
  },
  {
   "cell_type": "markdown",
   "id": "4ca137da",
   "metadata": {},
   "source": [
    "Granovetter threshold model > Kempe generalize this model for the spread of ideas in social networks — linear\n",
    "threshold (LT) and independent cascade (IC) > This agent-based model (ABM) is a probabilistic graph-based model inspired by the Independent Cascade (IC) model."
   ]
  },
  {
   "cell_type": "markdown",
   "id": "be576874",
   "metadata": {},
   "source": [
    "A \"radical\" will have a low threshold: the benefits of rioting are high to him, the cost of arrest, low. Some would be sufficiently radical to have a threshold of 0%/0-people who will riot even when no one else does. These are the \"instigators.\" Conservatives will have high thresholds: the benefits of rioting are small or negative to them and the consequences of arrest high since they are likely to be \"respectable citizens\" rather than \"known rabble-rousers.\" Thresholds of 80% or 90%0 may be common, and we may allow for those individuals who would not join under any circumstances by assigning them a threshold of 100%."
   ]
  },
  {
   "cell_type": "markdown",
   "id": "62c4d530",
   "metadata": {},
   "source": [
    "the aim of the formal model presented here is the same: to predict, from the initial distribution of thresholds, the ultimate number or proportion making each of the two decisions. Mathematically, the question is one of finding an equilibrium in a process occurring over time."
   ]
  },
  {
   "cell_type": "code",
   "execution_count": 1,
   "id": "fa44e2e1",
   "metadata": {},
   "outputs": [],
   "source": [
    "# Setting up the model - agen variables and model-level parameters\n",
    "\n",
    "from mesa import Agent, Model\n",
    "from mesa.time import SimultaneousActivation\n",
    "from mesa.datacollection import DataCollector\n",
    "\n",
    "class GranovetterAgent(Agent):\n",
    "    \"\"\"An agent with fixed initial wealth.\"\"\"\n",
    "\n",
    "    # 1 Initialization\n",
    "    # the variation of norms and preferences within the interacting group\n",
    "    def __init__(self, unique_id, engagement_treshold, model):\n",
    "        super().__init__(unique_id, model)\n",
    "        \n",
    "        self.engagement_treshold = engagement_treshold\n",
    "        self.engaged = False\n",
    "        self.decision = False\n",
    "        #print(\"Hi, I am agent \" + str(self.unique_id) + \".\" + str(self.engagement_treshold))\n",
    "\n",
    "    # 2 Step function\n",
    "    # join a riot, for example-we can infer from this that most ended up sharing the same norm or belief \n",
    "    # about the situation, whether or not they did so at the beginning.\n",
    "    # the decision can be thought of as having a positive and negative side-deciding to do a thing or not to, as in deciding whether to join a riot-though this is not required for the formal analysis.\n",
    "    def step(self):    # < agent step: 'rules' action when activated\n",
    "        # 3 the aggregation of individual preference of similar neighbours\n",
    "        if self.engaged == True:\n",
    "            return\n",
    "        other_agents = self.model.schedule.agents\n",
    "        engagement_rate = sum(agent.engaged == True for agent in other_agents) / len(other_agents)\n",
    "        \n",
    "        # 4 binary decisions-those where an actor has two distinct and mutually exclusive behavioral alternative\n",
    "        # A further requirement is that the decision be one where the costs and benefits to the actor of making one or the other choice depend in part on how many others make which choice. We may take riots as an example. The cost to an individual of joining a riot declines as riot size increases, since the probability of being apprehended is smaller the larger the number involved\n",
    "        # A person's threshold for joining a riot is defined here as the proportion of the group he would have to see join before he would do so.\n",
    "        if engagement_rate >= self.engagement_treshold:\n",
    "            self.decision = True\n",
    "            \n",
    "    def advance(self):\n",
    "        if self.engaged == True:\n",
    "            return\n",
    "        elif self.decision == True:\n",
    "            self.engaged = True\n",
    "\n",
    "# Data collection\n",
    "def get_engagement_ratio(model):\n",
    "    '''\n",
    "    Find the % of agents that are rioting.\n",
    "    '''\n",
    "    \n",
    "    agent_engeged = [agent.engaged for agent in model.schedule.agents]\n",
    "    N = model.num_agents\n",
    "    \n",
    "    engagement_rate = sum(agent_engeged) / N\n",
    "    \n",
    "    return engagement_rate\n",
    "\n",
    "class GranovetterModel(Model):\n",
    "    \"\"\"A model with some number of agents.\"\"\"\n",
    "\n",
    "    def __init__(self, N, mu=0.25, sigma=0.122):\n",
    "        super().__init__()\n",
    "        \n",
    "        self.num_agents = N    # < model-level parameter: how many agents the model contains\n",
    "        self.schedule = SimultaneousActivation(self)\n",
    "        \n",
    "        # Create agents\n",
    "        # Using uniform distribution\n",
    "        # Riot situation - instigator starts\n",
    "        #for i in range(self.num_agents):\n",
    "        #    a = GranovetterAgent(i, i * (1 / self.num_agents), self)\n",
    "        #    self.schedule.add(a)\n",
    "            \n",
    "        # Another riot situation - only instigator riots\n",
    "        #a = GranovetterAgent(0, 0.0, self)\n",
    "        #self.schedule.add(a)\n",
    "        #for i in range(1, self.num_agents):\n",
    "        #    a = GranovetterAgent(i, (i+1) * (1 / self.num_agents), self)\n",
    "        #    self.schedule.add(a)\n",
    "        \n",
    "        # Using normal distribution\n",
    "        for i in range(self.num_agents):\n",
    "            a = GranovetterAgent(i, max(self.random.gauss(mu, sigma), 0.0), self) # Initial engagement rate in product basedon normal distr, clip negative to zero\n",
    "            self.schedule.add(a)\n",
    "        \n",
    "        # Using perturbed uniform distribution\n",
    "        #a = GranovetterAgent(0, 0.0, self)\n",
    "        #self.schedule.add(a)\n",
    "        #a = GranovetterAgent(1, 0.2, self)\n",
    "        #self.schedule.add(a)\n",
    "        #a = GranovetterAgent(2, 0.2, self)\n",
    "        #self.schedule.add(a)\n",
    "        #for i in range(3, self.num_agents):\n",
    "        #    a = GranovetterAgent(i, i * (1 / self.num_agents), self)\n",
    "        #    self.schedule.add(a)\n",
    "        \n",
    "        self.datacollector = DataCollector(    # < Note that we have both an agent and model data collector\n",
    "            model_reporters={\"engagement_ratio\": get_engagement_ratio}, agent_reporters={\"engaged\": \"engaged\"}\n",
    "        )\n",
    "        \n",
    "    def step(self):\n",
    "        self.datacollector.collect(self)\n",
    "        \"\"\"Advance the model by one step.\"\"\"\n",
    "        self.schedule.step()    # < model step: activate and execute each agent's step"
   ]
  },
  {
   "cell_type": "code",
   "execution_count": 2,
   "id": "e6c02e81",
   "metadata": {},
   "outputs": [],
   "source": [
    "# Test the model\n",
    "\n",
    "model = GranovetterModel(100)\n",
    "for i in range(10):\n",
    "    model.step()"
   ]
  },
  {
   "cell_type": "code",
   "execution_count": 3,
   "id": "55d921b2",
   "metadata": {},
   "outputs": [
    {
     "data": {
      "text/plain": [
       "<AxesSubplot:>"
      ]
     },
     "execution_count": 3,
     "metadata": {},
     "output_type": "execute_result"
    },
    {
     "data": {
      "image/png": "[encoded data removed]",
      "text/plain": [
       "<Figure size 432x288 with 1 Axes>"
      ]
     },
     "metadata": {
      "needs_background": "light"
     },
     "output_type": "display_data"
    }
   ],
   "source": [
    "# Show results\n",
    "\n",
    "model_data = model.datacollector.get_model_vars_dataframe()\n",
    "model_data.engagement_ratio.plot()"
   ]
  },
  {
   "cell_type": "code",
   "execution_count": 4,
   "id": "49bdc019",
   "metadata": {},
   "outputs": [
    {
     "data": {
      "text/html": [
       "<div>\n",
       "<style scoped>\n",
       "    .dataframe tbody tr th:only-of-type {\n",
       "        vertical-align: middle;\n",
       "    }\n",
       "\n",
       "    .dataframe tbody tr th {\n",
       "        vertical-align: top;\n",
       "    }\n",
       "\n",
       "    .dataframe thead th {\n",
       "        text-align: right;\n",
       "    }\n",
       "</style>\n",
       "<table border=\"1\" class=\"dataframe\">\n",
       "  <thead>\n",
       "    <tr style=\"text-align: right;\">\n",
       "      <th></th>\n",
       "      <th></th>\n",
       "      <th>engaged</th>\n",
       "    </tr>\n",
       "    <tr>\n",
       "      <th>Step</th>\n",
       "      <th>AgentID</th>\n",
       "      <th></th>\n",
       "    </tr>\n",
       "  </thead>\n",
       "  <tbody>\n",
       "    <tr>\n",
       "      <th rowspan=\"5\" valign=\"top\">0</th>\n",
       "      <th>0</th>\n",
       "      <td>False</td>\n",
       "    </tr>\n",
       "    <tr>\n",
       "      <th>1</th>\n",
       "      <td>False</td>\n",
       "    </tr>\n",
       "    <tr>\n",
       "      <th>2</th>\n",
       "      <td>False</td>\n",
       "    </tr>\n",
       "    <tr>\n",
       "      <th>3</th>\n",
       "      <td>False</td>\n",
       "    </tr>\n",
       "    <tr>\n",
       "      <th>4</th>\n",
       "      <td>False</td>\n",
       "    </tr>\n",
       "  </tbody>\n",
       "</table>\n",
       "</div>"
      ],
      "text/plain": [
       "              engaged\n",
       "Step AgentID         \n",
       "0    0          False\n",
       "     1          False\n",
       "     2          False\n",
       "     3          False\n",
       "     4          False"
      ]
     },
     "execution_count": 4,
     "metadata": {},
     "output_type": "execute_result"
    }
   ],
   "source": [
    "agent_data = model.datacollector.get_agent_vars_dataframe()\n",
    "agent_data.head()"
   ]
  },
  {
   "cell_type": "code",
   "execution_count": 5,
   "id": "82717a22",
   "metadata": {},
   "outputs": [
    {
     "name": "stderr",
     "output_type": "stream",
     "text": [
      "15it [00:00, 115.92it/s]\n"
     ]
    }
   ],
   "source": [
    "# Test the batch model\n",
    "\n",
    "from mesa.batchrunner import batch_run\n",
    "\n",
    "params = {\"N\": 100, \"mu\": 0.25, \"sigma\": 0.122}\n",
    "\n",
    "results = batch_run(\n",
    "    GranovetterModel,\n",
    "    parameters=params,\n",
    "    iterations=15,\n",
    "    max_steps=10,\n",
    "    number_processes=None,\n",
    "    data_collection_period=1,\n",
    "    display_progress=True,\n",
    ")"
   ]
  },
  {
   "cell_type": "code",
   "execution_count": 6,
   "id": "451d3637",
   "metadata": {},
   "outputs": [
    {
     "name": "stdout",
     "output_type": "stream",
     "text": [
      "Index(['RunId', 'iteration', 'Step', 'N', 'mu', 'sigma', 'engagement_ratio',\n",
      "       'AgentID', 'engaged'],\n",
      "      dtype='object')\n"
     ]
    }
   ],
   "source": [
    "# Collect batch data as Pandas dataframe\n",
    "\n",
    "import pandas as pd\n",
    "\n",
    "results_df = pd.DataFrame(results)\n",
    "print(results_df.keys())"
   ]
  },
  {
   "cell_type": "code",
   "execution_count": 7,
   "id": "70d76ab5",
   "metadata": {},
   "outputs": [
    {
     "data": {
      "text/plain": [
       "<matplotlib.collections.PathCollection at 0x7fa2a58c8f10>"
      ]
     },
     "execution_count": 7,
     "metadata": {},
     "output_type": "execute_result"
    },
    {
     "data": {
      "image/png": "[encoded data removed]",
      "text/plain": [
       "<Figure size 432x288 with 1 Axes>"
      ]
     },
     "metadata": {
      "needs_background": "light"
     },
     "output_type": "display_data"
    }
   ],
   "source": [
    "# Trend of coefficients after each iteration\n",
    "\n",
    "# For a jupyter notebook add the following line:\n",
    "%matplotlib inline\n",
    "\n",
    "# The below is needed for both notebooks and scripts\n",
    "import matplotlib.pyplot as plt\n",
    "\n",
    "plt.scatter(results_df.Step.values, results_df.engagement_ratio.values)"
   ]
  },
  {
   "cell_type": "code",
   "execution_count": null,
   "id": "77990e2b",
   "metadata": {},
   "outputs": [],
   "source": []
  }
 ],
 "metadata": {
  "kernelspec": {
   "display_name": "Python 3 (ipykernel)",
   "language": "python",
   "name": "python3"
  },
  "language_info": {
   "codemirror_mode": {
    "name": "ipython",
    "version": 3
   },
   "file_extension": ".py",
   "mimetype": "text/x-python",
   "name": "python",
   "nbconvert_exporter": "python",
   "pygments_lexer": "ipython3",
   "version": "3.8.10"
  }
 },
 "nbformat": 4,
 "nbformat_minor": 5
}
