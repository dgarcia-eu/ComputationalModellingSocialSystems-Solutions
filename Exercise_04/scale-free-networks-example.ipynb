{
 "cells": [
  {
   "cell_type": "markdown",
   "id": "e844522a",
   "metadata": {},
   "source": [
    "# Scale-free networks"
   ]
  },
  {
   "cell_type": "markdown",
   "id": "230db435",
   "metadata": {},
   "source": [
    "TODO: Maybe use networkx package for advanced students that want to implement complex Barnabasi network models\n",
    "TODO: The goal is to simulate netwroks and visualize them (not perform complex analysis on the network models)\n",
    "TODO: Ask Jana how complex is to use scale-free networks in Mesa to simulate and visualize"
   ]
  }
 ],
 "metadata": {
  "kernelspec": {
   "display_name": "Python 3 (ipykernel)",
   "language": "python",
   "name": "python3"
  },
  "language_info": {
   "codemirror_mode": {
    "name": "ipython",
    "version": 3
   },
   "file_extension": ".py",
   "mimetype": "text/x-python",
   "name": "python",
   "nbconvert_exporter": "python",
   "pygments_lexer": "ipython3",
   "version": "3.8.10"
  }
 },
 "nbformat": 4,
 "nbformat_minor": 5
}
