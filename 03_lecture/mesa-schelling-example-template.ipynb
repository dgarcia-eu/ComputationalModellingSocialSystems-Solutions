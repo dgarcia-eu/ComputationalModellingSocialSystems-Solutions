{
 "cells": [
  {
   "cell_type": "markdown",
   "id": "27aa6aa3",
   "metadata": {},
   "source": [
    "# Mesa Schelling example - Schelling Segregation Model\n",
    "\n",
    "[[Code explanation]](https://towardsdatascience.com/introduction-to-mesa-agent-based-modeling-in-python-bcb0596e1c9a) **Note that the final interactive visualization part we will cover in the later parts of the course**\n",
    "\n",
    "## Background\n",
    "\n",
    "The Schelling (1971) segregation model is a classic of agent-based modeling, demonstrating how agents following simple rules lead to the emergence of qualitatively different macro-level outcomes. Agents are randomly placed on a grid. There are two types of agents, one constituting the majority and the other the minority. All agents want a certain number (generally, 3) of their 8 surrounding neighbors to be of the same type in order for them to be happy. Unhappy agents will move to a random available grid space. While individual agents do not have a preference for a segregated outcome (e.g. they would be happy with 3 similar neighbors and 5 different ones), the aggregate outcome is nevertheless heavily segregated."
   ]
  },
  {
   "cell_type": "markdown",
   "id": "2853aae8",
   "metadata": {},
   "source": [
    "# 1. Create the Basic Agent/Model"
   ]
  },
  {
   "cell_type": "code",
   "execution_count": null,
   "id": "4529aa9f",
   "metadata": {},
   "outputs": [],
   "source": [
    "from mesa import Model, Agent\n",
    "from mesa.time import RandomActivation\n",
    "from mesa.space import SingleGrid"
   ]
  },
  {
   "cell_type": "code",
   "execution_count": null,
   "id": "2e0ea364",
   "metadata": {},
   "outputs": [],
   "source": [
    "# Agent\n",
    "\n",
    "class SchellingAgentBasic(Agent):\n",
    "    \n",
    "    def __init__(self, pos, model):\n",
    "        \n",
    "        super().__init__(pos, model)\n",
    "        \n",
    "        # 1 Initialization\n",
    "        \n",
    "    def step(self):\n",
    "        \n",
    "        # 2 Step agent function\n"
   ]
  },
  {
   "cell_type": "code",
   "execution_count": null,
   "id": "a43375fa",
   "metadata": {},
   "outputs": [],
   "source": [
    "# Model\n",
    "\n",
    "class SchellingModelBasic(Model):\n",
    "\n",
    "    def __init__(self, height, width):\n",
    "        '''\n",
    "        Create a new Schelling model.\n",
    "\n",
    "         Args:\n",
    "            width: Horizontal axis of the grid which is used together with Height to define the total number of agents in the system.\n",
    "            height: Vertical axis of the grid which is used together with Width to define the total number of agents in the system.\n",
    "         '''\n",
    "        super().__init__()\n",
    "        \n",
    "        # 1 Initialization\n",
    "\n",
    "        for cell in self.grid.coord_iter():\n",
    "            x = cell[1]\n",
    "            y = cell[2]\n",
    "            \n",
    "            # We use a grid iterator that returns the coordinates of a cell as well as its contents. (coord_iter)\n",
    "        \n",
    "            # 2 Create agents\n",
    "\n",
    "    def step(self):\n",
    "        \n",
    "        self.schedule.step()\n",
    "        \n",
    "        # 3 Step model function"
   ]
  },
  {
   "cell_type": "markdown",
   "id": "7ee83ebb",
   "metadata": {},
   "source": [
    "# 2. Run the Agent/Model Basic"
   ]
  },
  {
   "cell_type": "code",
   "execution_count": null,
   "id": "d4d00c6c",
   "metadata": {},
   "outputs": [],
   "source": [
    "model = SchellingModelBasic(10, 10, ) # < Add model parameters\n",
    "for i in range(10):\n",
    "    model.step()"
   ]
  },
  {
   "cell_type": "markdown",
   "id": "ab7f781c",
   "metadata": {},
   "source": [
    "# 3. Visualize the Agent/Model"
   ]
  },
  {
   "cell_type": "code",
   "execution_count": null,
   "id": "2f45dba8",
   "metadata": {},
   "outputs": [],
   "source": [
    "from mesa.visualization.modules import CanvasGrid\n",
    "from mesa.visualization.ModularVisualization import ModularServer\n",
    "\n",
    "\n",
    "def agent_portrayal(agent):\n",
    "    portrayal = {\"Shape\": \"circle\",\n",
    "                 \"Filled\": \"true\",\n",
    "                 \"Layer\": 0,\n",
    "                 \"r\": 0.5}\n",
    "    \n",
    "    # 1 Color the agents based on their type to Red and Blue color\n",
    "    \n",
    "    return portrayal\n",
    "\n",
    "grid = CanvasGrid(agent_portrayal, 10, 10, 500, 500)\n",
    "server = ModularServer(SchellingModelBasic,\n",
    "                       [grid],\n",
    "                       \"Schelling Model\",\n",
    "                       {\"width\":10, \"height\":10}) # < Add model parameters"
   ]
  },
  {
   "cell_type": "markdown",
   "id": "4f50af05",
   "metadata": {},
   "source": [
    "# 4. Run the Agent/Model Visualization"
   ]
  },
  {
   "cell_type": "code",
   "execution_count": null,
   "id": "19adfd6c",
   "metadata": {},
   "outputs": [],
   "source": [
    "server.port = 8521 # The default\n",
    "server.launch()"
   ]
  },
  {
   "cell_type": "markdown",
   "id": "63121b88",
   "metadata": {},
   "source": [
    "# 5. Collect data to Analyze the Agent/Model"
   ]
  },
  {
   "cell_type": "code",
   "execution_count": null,
   "id": "cf5523aa",
   "metadata": {},
   "outputs": [],
   "source": [
    "# Data collection\n",
    "\n",
    "def get_model_analysis_data(model):\n",
    "    \n",
    "    # 4. Analysis code for collecting interesting data\n",
    "    \n",
    "    return interesting_data"
   ]
  },
  {
   "cell_type": "code",
   "execution_count": null,
   "id": "8d389a5d",
   "metadata": {},
   "outputs": [],
   "source": [
    "# Agent\n",
    "\n",
    "class SchellingAgentAnalysis(Agent):\n",
    "    \n",
    "    def __init__(self, pos, model):\n",
    "        \n",
    "        super().__init__(pos, model)\n",
    "        \n",
    "        # 1 Initialization\n",
    "        \n",
    "    def step(self):\n",
    "        \n",
    "        # 2 Step agent function\n"
   ]
  },
  {
   "cell_type": "code",
   "execution_count": null,
   "id": "4074e772",
   "metadata": {},
   "outputs": [],
   "source": [
    "from mesa.datacollection import DataCollector\n",
    "\n",
    "# Model\n",
    "\n",
    "class SchellingModelAnalysis(Model):\n",
    "\n",
    "    def __init__(self, height, width):\n",
    "        '''\n",
    "        Create a new Schelling model.\n",
    "\n",
    "         Args:\n",
    "            width: Horizontal axis of the grid which is used together with Height to define the total number of agents in the system.\n",
    "            height: Vertical axis of the grid which is used together with Width to define the total number of agents in the system.\n",
    "         '''\n",
    "        super().__init__()\n",
    "        \n",
    "        # 1 Initialization\n",
    "\n",
    "        # 5. Data collector\n",
    "        self.datacollector = DataCollector(\n",
    "            {\"Interesting_data\": get_model_analysis_data},  # Model-level collection\n",
    "            {\"Agent_interesting_data\": \"variable_name_to_collect\"}) # Agent-level collection\n",
    "        \n",
    "        for cell in self.grid.coord_iter():\n",
    "            x = cell[1]\n",
    "            y = cell[2]\n",
    "            \n",
    "            # We use a grid iterator that returns the coordinates of a cell as well as its contents. (coord_iter)\n",
    "        \n",
    "            # 2 Create agents\n",
    "\n",
    "    def step(self):\n",
    "        \n",
    "        self.datacollector.collect(self)\n",
    "        self.schedule.step()\n",
    "        \n",
    "        # 3 Step model function"
   ]
  },
  {
   "cell_type": "markdown",
   "id": "b4f3754e",
   "metadata": {},
   "source": [
    "# 6. Run the Agent/Model Analysis"
   ]
  },
  {
   "cell_type": "code",
   "execution_count": null,
   "id": "e5f9248f",
   "metadata": {},
   "outputs": [],
   "source": [
    "import pandas as pd\n",
    "\n",
    "model_out = model.datacollector.get_model_vars_dataframe()\n",
    "model_out.head()"
   ]
  },
  {
   "cell_type": "code",
   "execution_count": null,
   "id": "2a1171b8",
   "metadata": {},
   "outputs": [],
   "source": [
    "model_out.plot()"
   ]
  },
  {
   "cell_type": "code",
   "execution_count": null,
   "id": "f6dded92",
   "metadata": {},
   "outputs": [],
   "source": [
    "agent_out = model.datacollector.get_agent_vars_dataframe()\n",
    "agent_out.head()"
   ]
  },
  {
   "cell_type": "code",
   "execution_count": null,
   "id": "68d36033",
   "metadata": {},
   "outputs": [],
   "source": [
    "agent_out.plot()"
   ]
  },
  {
   "cell_type": "markdown",
   "id": "972d986b",
   "metadata": {},
   "source": [
    "# 7. Create iteration Batch of the Agent/Model"
   ]
  },
  {
   "cell_type": "code",
   "execution_count": null,
   "id": "c7a768f3",
   "metadata": {},
   "outputs": [],
   "source": [
    "params = {\"height\": 10, \"width\": 10} # < Add model parameters"
   ]
  },
  {
   "cell_type": "markdown",
   "id": "932fe121",
   "metadata": {},
   "source": [
    "# 8. Run the Agent/Model Batch"
   ]
  },
  {
   "cell_type": "code",
   "execution_count": null,
   "id": "a7133db0",
   "metadata": {},
   "outputs": [],
   "source": [
    "from mesa.batchrunner import batch_run\n",
    "\n",
    "results = batch_run(\n",
    "    SchellingModelAnalysis,\n",
    "    parameters=params,\n",
    "    iterations=10,\n",
    "    max_steps=200,\n",
    "    number_processes=None,\n",
    "    data_collection_period=1,\n",
    "    display_progress=True,\n",
    ")"
   ]
  },
  {
   "cell_type": "markdown",
   "id": "d1fa2d63",
   "metadata": {},
   "source": [
    "# 9. Run the Batch data Analysis"
   ]
  },
  {
   "cell_type": "code",
   "execution_count": null,
   "id": "d4453a1f",
   "metadata": {},
   "outputs": [],
   "source": [
    "import pandas as pd\n",
    "\n",
    "results_df = pd.DataFrame(results)\n",
    "results.head()"
   ]
  },
  {
   "cell_type": "markdown",
   "id": "c26bb89f",
   "metadata": {},
   "source": [
    "Task: Find out how homophily (level of neighbour similaritly) influences the final segragation of agents using the mean or box plot."
   ]
  },
  {
   "cell_type": "code",
   "execution_count": null,
   "id": "d9210e62",
   "metadata": {},
   "outputs": [],
   "source": []
  }
 ],
 "metadata": {
  "kernelspec": {
   "display_name": "Python 3 (ipykernel)",
   "language": "python",
   "name": "python3"
  },
  "language_info": {
   "codemirror_mode": {
    "name": "ipython",
    "version": 3
   },
   "file_extension": ".py",
   "mimetype": "text/x-python",
   "name": "python",
   "nbconvert_exporter": "python",
   "pygments_lexer": "ipython3",
   "version": "3.8.10"
  }
 },
 "nbformat": 4,
 "nbformat_minor": 5
}
