{
 "cells": [
  {
   "cell_type": "markdown",
   "id": "a9dc92a5",
   "metadata": {},
   "source": [
    "# Mesa Granovetter example - Granovetter threshold model\n",
    "\n",
    "## Description\n",
    "\n",
    "Granovetter threshold model > Kempe generalize this model for the spread of ideas in social networks — linear\n",
    "threshold (LT) and independent cascade (IC) > This agent-based model (ABM) is a probabilistic graph-based model inspired by the Independent Cascade (IC) model.\n",
    "\n",
    "A \"radical\" will have a low threshold: the benefits of rioting are high to him, the cost of arrest, low. Some would be sufficiently radical to have a threshold of 0%/0-people who will riot even when no one else does. These are the \"instigators.\" Conservatives will have high thresholds: the benefits of rioting are small or negative to them and the consequences of arrest high since they are likely to be \"respectable citizens\" rather than \"known rabble-rousers.\" Thresholds of 80% or 90%0 may be common, and we may allow for those individuals who would not join under any circumstances by assigning them a threshold of 100%.\n",
    "\n",
    "the aim of the formal model presented here is the same: to predict, from the initial distribution of thresholds, the ultimate number or proportion making each of the two decisions. Mathematically, the question is one of finding an equilibrium in a process occurring over time.\n",
    "\n",
    "the variation of norms and preferences within the interacting group\n",
    "\n",
    "        # A further requirement is that the decision be one where the costs and benefits to the actor of making one or the other choice depend in part on how many others make which choice. We may take riots as an example. The cost to an individual of joining a riot declines as riot size increases, since the probability of being apprehended is smaller the larger the number involved\n",
    "        # A person's threshold for joining a riot is defined here as the proportion of the group he would have to see join before he would do so.\n",
    "        \n",
    "\n",
    "## Sample Model Description\n",
    "\n",
    "The excercise model is a very simple simulated agent threshold model. The rules of our tutorial model:\n",
    "\n",
    "1. There are some number of agents.\n",
    "2. All agents begin as randomly placed on a grid.\n",
    "3. At every step of the model, an agent considers his surrounding neighbors to be of the same type in order for them to be happy.\n",
    "4. If an agent is unhappy, it moves the the unoccupied cell with maximal happines (if such happines is at least equal to the one at the current location); otherwise, an agent doesn't move\n",
    "\n",
    "Despite its simplicity, this model yields results that are often unexpected to those not familiar with it.\n",
    "\n",
    "## How to use and modify the code\n",
    "\n",
    "These excercises are designed around a Mesa template that is given to you to reuse. You are not asked to perform any complex object programming, but instead we ask for understanding of the core features of the Mesa pyhton package. You will mostly have to modifly the existing template and code the ``Model`` and ``Agent``behavior using standard python code.\n",
    "\n",
    "**Therefore, in this excercise, you are asked to fill your code where the comments state:**\n",
    "\n",
    "``#[Your code here]``\n",
    "\n",
    "Let’s get started."
   ]
  },
  {
   "cell_type": "markdown",
   "id": "e0b465f9",
   "metadata": {},
   "source": [
    "# 1. Create the Basic Agent/Model"
   ]
  },
  {
   "cell_type": "markdown",
   "id": "07ec3e99",
   "metadata": {},
   "source": [
    "## Setting up the model\n",
    "\n",
    "To begin writing the model code, we start with two core classes: one for\n",
    "the overall model, the other for the agents. The model class holds the\n",
    "model-level attributes, manages the agents, and generally handles the\n",
    "global level of our model. Each instantiation of the model class will be\n",
    "a specific model run. Each model will contain multiple agents, all of\n",
    "which are instantiations of the agent class. Both the model and agent\n",
    "classes are child classes of Mesa’s generic ``Model`` and ``Agent``\n",
    "classes.\n",
    "\n",
    "### At the location ``# 1 Initialization [Your code here]`` you have to implement:\n",
    "\n",
    "Each agent has only one variable:\n",
    "- engagement treshold\n",
    "\n",
    "(Each agent will also have a unique identifier (i.e., a sequence position), stored in the ``unique_id`` variable. Giving each agent a unique id is a good practice when doing agent-based modeling.)\n",
    "\n",
    "### At the location ``# 2 Step agent function [Your code here]`` you have to implement:\n",
    "\n",
    "- if there are no neighbors - agent is happy and stays\n",
    "\n",
    "### At the location ``# 3 Calculate the number of similar neighbours [Your code here]`` you have to implement:\n",
    "\n",
    "- calculate the number of similar neighbours\n",
    "- if the Agent is happy with it's neighbourhood - it stays\n",
    "\n",
    "### At the location ``# 4 Move to an empty location if unhappy [Your code here]`` you have to implement:\n",
    "\n",
    "- if the Agent is unhappy - perform move to better empty cell\n",
    "- if at new location there are no neighbors - agent moves\n",
    "- build a happines priority list of all possible empty cells\n",
    "- move to a higest happines place from such list of empties, if happines is as high as at current location\n",
    "\n",
    "The beginning of both classes looks like this:"
   ]
  },
  {
   "cell_type": "code",
   "execution_count": null,
   "id": "6b163960",
   "metadata": {},
   "outputs": [],
   "source": [
    "from mesa import Model, Agent\n",
    "from mesa.time import SimultaneousActivation\n",
    "from mesa.space import SingleGrid"
   ]
  },
  {
   "cell_type": "code",
   "execution_count": null,
   "id": "bcb39711",
   "metadata": {},
   "outputs": [],
   "source": [
    "class GranovetterAgentBasic(Agent):\n",
    "    \n",
    "    def __init__(self, unique_id, engagement_treshold, model):\n",
    "        '''\n",
    "         Create a new Granovetter agent.\n",
    "\n",
    "         Args:\n",
    "            unique_id: Unique identifier for the agent.\n",
    "            engagement_treshold: Treshold\n",
    "        '''\n",
    "        \n",
    "        super().__init__(unique_id, model)\n",
    "        \n",
    "        # 1 Initialization [Your code here]\n",
    "        \n",
    "        self.engagement_treshold = engagement_treshold\n",
    "        self.decision_reached = False\n",
    "        self.engaged = False\n",
    "    \n",
    "    # agent step: 'rules' action when activated\n",
    "    def step(self):\n",
    "        '''\n",
    "        Run one step of the agent. Move if unhappy, stay otherwise\n",
    "        '''\n",
    "        # 2 Step agent function [Your code here]\n",
    "        if self.engaged == True:\n",
    "            return\n",
    "        \n",
    "        # 3 the aggregation of individual preference of similar neighbours\n",
    "        other_agents = self.model.schedule.agents\n",
    "        engagement_rate = sum(agent.engaged == True for agent in other_agents) / len(other_agents)\n",
    "        \n",
    "        # 4 binary decisions-those where an actor has two distinct and mutually exclusive behavioral alternative\n",
    "        if engagement_rate >= self.engagement_treshold:\n",
    "            self.decision_reached = True\n",
    "            \n",
    "    # agent advance: 'simultaneous' behavior when activated\n",
    "    def advance(self):\n",
    "        \n",
    "        # 5 Advance agent function [Your code here]\n",
    "        if self.engaged == True:\n",
    "            self.model.engaged += 1\n",
    "            return\n",
    "        # 6 Engage decided agents simultaneously [Your code here]\n",
    "        elif self.decision_reached == True:\n",
    "            self.model.engaged += 1\n",
    "            self.engaged = True\n"
   ]
  },
  {
   "cell_type": "markdown",
   "id": "e04e3e46",
   "metadata": {},
   "source": [
    "## Adding the scheduler\n",
    "\n",
    "Time in most agent-based models moves in steps, sometimes also called\n",
    "**ticks**. At each step of the model, one or more of the agents –\n",
    "usually all of them – are activated and take their own step, changing\n",
    "internally and/or interacting with one another or the environment.\n",
    "\n",
    "The **scheduler** is a special model component which controls the order\n",
    "in which agents are activated. For example, all the agents may activate\n",
    "in the same order every step; their order might be shuffled; we may try\n",
    "to simulate all the agents acting at the same time; and more. Mesa\n",
    "offers a few different built-in scheduler classes, with a common\n",
    "interface. That makes it easy to change the activation regime a given\n",
    "model uses, and see whether it changes the model behavior. This may not\n",
    "seem important, but scheduling patterns can have an impact on your\n",
    "results.\n",
    "\n",
    "For now, let’s use one of the simplest ones: ``SimultaneousActivation``, which\n",
    "activates all the agents once per step, in random order. Every agent is\n",
    "expected to have a ``step`` method. The step method is the action the\n",
    "agent takes when it is activated by the model schedule. We add an agent\n",
    "to the schedule using the ``add`` method; when we call the schedule’s\n",
    "``step`` method, the model shuffles the order of the agents, then\n",
    "activates and executes each agent’s ``step`` method.\n",
    "\n",
    "With that in mind, the model code with the scheduler added looks like\n",
    "this:"
   ]
  },
  {
   "cell_type": "markdown",
   "id": "61dc25a4",
   "metadata": {},
   "source": [
    "### At the location ``# 1 Initialization [Your code here]`` you have to implement:\n",
    "\n",
    "There are a number of model-level parameters: \n",
    "\n",
    "- height and width of the grid\n",
    "- density of grid population to define how many agents and empty cells the model contains\n",
    "- minority proportion to define proportion of two types of agents on the grid\n",
    "- homophily treshold to which the agent is happy with its neighbourhood\n",
    "- Use ``RandomActivation`` scheduler\n",
    "- Use ``SingleGrid`` space with torus folding\n",
    "\n",
    "### At the location ``# 2 Create agents [Your code here]`` you have to implement:\n",
    "\n",
    "- use uniform random numbers to populate the grid based on density parameter\n",
    "- use uniform random numbers to selects agent type based on minority proportion\n",
    "\n",
    "When a new model is started, we want it to populate the grid itself with the defined number of agents segregated on the given proportion between two groups."
   ]
  },
  {
   "cell_type": "code",
   "execution_count": null,
   "id": "5c550f36",
   "metadata": {},
   "outputs": [],
   "source": [
    "class GranovetterModelBasic(Model):\n",
    "\n",
    "    def __init__(self, N, mu=0.25, sigma=0.122):\n",
    "        '''\n",
    "        Create a new Granovetter model.\n",
    "\n",
    "         Args:\n",
    "            N: how many agents the model contains\n",
    "            mu: Vertical axis of the grid which is used together with Width to define the total number of agents in the system.\n",
    "            sigma: Define the population density of agent in the system. Floating value from 0 to 1.\n",
    "        '''\n",
    "        \n",
    "        super().__init__()\n",
    "        \n",
    "        # 1 Initialization [Your code here]\n",
    "        \n",
    "        self.num_agents = N\n",
    "        self.schedule = SimultaneousActivation(self)\n",
    "        \n",
    "        self.engaged = 0\n",
    "        \n",
    "        self.running = True\n",
    "        \n",
    "        # 2 Create agents [Your code here]\n",
    "        # Initial engagement rate in product basedon normal distr, clip negative to zero\n",
    "        for i in range(self.num_agents):\n",
    "            a = GranovetterAgentBasic(i, max(self.random.gauss(mu, sigma), 0.0), self)\n",
    "            self.schedule.add(a)\n",
    "\n",
    "    def step(self):\n",
    "        '''\n",
    "        Run one step of the model. If All agents are happy, halt the model.\n",
    "        '''\n",
    "        \n",
    "        # 3 Step model function\n",
    "        \n",
    "        # Reset counter of happy agents each model step\n",
    "        self.engaged = 0\n",
    "        self.schedule.step()\n",
    "        \n",
    "        # 4 Stop the model if all agents are happy\n",
    "        if self.engaged == self.schedule.get_agent_count():\n",
    "            self.running = False"
   ]
  },
  {
   "cell_type": "markdown",
   "id": "c214bb5b",
   "metadata": {},
   "source": [
    "# 2. Run the Agent/Model Basic"
   ]
  },
  {
   "cell_type": "markdown",
   "id": "ff1ff063",
   "metadata": {},
   "source": [
    "### Running the model\n",
    "\n",
    "At this point, we have a model which runs.\n",
    "You can see for yourself with a few easy lines. If you’ve been working\n",
    "in an interactive session, you can create a model object directly. \n",
    "\n",
    "With that last piece in hand, it’s time for the first rudimentary run of\n",
    "the model.\n",
    "\n",
    "Now let’s create a model with 10 x 10 agents, and run it for 10 steps."
   ]
  },
  {
   "cell_type": "markdown",
   "id": "1cd7303e",
   "metadata": {},
   "source": [
    "### At the location ``# < Add model parameters [Your code here]`` you have to implement:\n",
    "\n",
    "- specify all model-level parameters of its __init__ function\n",
    "- height and width are given already as 10 x 10\n",
    "- specify: density, minority proportion  and homophily treshold"
   ]
  },
  {
   "cell_type": "code",
   "execution_count": null,
   "id": "ff72a10c",
   "metadata": {},
   "outputs": [],
   "source": [
    "model = GranovetterModelBasic(100, 0.25, 0.122)# < Add model parameters [Your code here] )\n",
    "\n",
    "while model.running and model.schedule.steps < 100:\n",
    "    model.step()\n",
    "                            \n",
    "print('The Schelling Model ran for {} steps'.format(model.schedule.steps))"
   ]
  },
  {
   "cell_type": "markdown",
   "id": "76ca6f7d",
   "metadata": {},
   "source": [
    "# 3. Visualize the Agent/Model\n",
    "# 4. Run the Agent/Model Visualization"
   ]
  },
  {
   "cell_type": "markdown",
   "id": "875f2a8b",
   "metadata": {},
   "source": [
    "Note that the ``GranovetterModelBasic`` has no spatial element, without agents moving around and interacting with nearby neighbors. Since there is no grid import from Mesa `from mesa.space import SingleGrid, MultiGrid`, we are not able to Visualize the model space."
   ]
  },
  {
   "cell_type": "markdown",
   "id": "b182ac33",
   "metadata": {},
   "source": [
    "# 5. Collect data to Analyze the Agent/Model"
   ]
  },
  {
   "cell_type": "markdown",
   "id": "5e9a7d5a",
   "metadata": {},
   "source": [
    "### Collecting Data\n",
    "\n",
    "So far, at the end of every model run, we’ve had to go and write our own\n",
    "code to get the data out of the model. This has two problems: it isn’t\n",
    "very efficient, and it only gives us end results. If we wanted to know\n",
    "the wealth of each agent at each step, we’d have to add that to the loop\n",
    "of executing steps, and figure out some way to store the data.\n",
    "\n",
    "Since one of the main goals of agent-based modeling is generating data\n",
    "for analysis, Mesa provides a class which can handle data collection and\n",
    "storage for us and make it easier to analyze.\n",
    "\n",
    "The data collector stores three categories of data: model-level\n",
    "variables, agent-level variables, and tables (which are a catch-all for\n",
    "everything else). Model- and agent-level variables are added to the data\n",
    "collector along with a function for collecting them. Model-level\n",
    "collection functions take a model object as an input, while agent-level\n",
    "collection functions take an agent object as an input. Both then return\n",
    "a value computed from the model or each agent at their current state.\n",
    "When the data collector’s ``collect`` method is called, with a model\n",
    "object as its argument, it applies each model-level collection function\n",
    "to the model, and stores the results in a dictionary, associating the\n",
    "current value with the current step of the model. Similarly, the method\n",
    "applies each agent-level collection function to each agent currently in\n",
    "the schedule, associating the resulting value with the step of the\n",
    "model, and the agent’s ``unique_id``.\n",
    "\n",
    "Let’s add a DataCollector to the model, and collect two variables. At\n",
    "the agent level, we want to collect every agent’s position at every step.\n",
    "At the model level, let’s measure the model’s [Moran's I](https://en.wikipedia.org/wiki/Moran%27s_I), a\n",
    "measure of spatial autocorrelation.\n",
    "\n",
    "At the last step of the model, the datacollector will collect and store the\n",
    "model-level Moran's I coefficient, as well as each agent’s position,\n",
    "associating each with the last step."
   ]
  },
  {
   "cell_type": "markdown",
   "id": "05d03993",
   "metadata": {},
   "source": [
    "### At the location ``# 4. Analysis code for calculating Moran's I [Your code here]`` you have to implement:\n",
    "\n",
    "\n",
    "- calculate Moran's I for all agents and neighbours on the grid\n",
    "\n",
    "### Agent code should be the same (refer in the code above)\n",
    "\n",
    "### Model code has a ``DataCollector`` step\n",
    "\n",
    "- note the use of ``DataCollector`` to collect the following model-level data:\n",
    "- number of happy agents\n",
    "- Moran's I"
   ]
  },
  {
   "cell_type": "code",
   "execution_count": null,
   "id": "5ae5f756",
   "metadata": {},
   "outputs": [],
   "source": [
    "def get_engagement_ratio(model):\n",
    "    '''\n",
    "    Find the % of agents that are rioting.\n",
    "    '''\n",
    "    \n",
    "    agent_engeged = [agent.engaged for agent in model.schedule.agents]\n",
    "    N = model.num_agents\n",
    "    \n",
    "    engagement_rate = sum(agent_engeged) / N\n",
    "    \n",
    "    return engagement_rate"
   ]
  },
  {
   "cell_type": "code",
   "execution_count": null,
   "id": "30cc716d",
   "metadata": {},
   "outputs": [],
   "source": [
    "class GranovetterAgentAnalysis(Agent):\n",
    "    \n",
    "    def __init__(self, unique_id, engagement_treshold, model):\n",
    "        '''\n",
    "         Create a new Granovetter agent.\n",
    "\n",
    "         Args:\n",
    "            unique_id: Unique identifier for the agent.\n",
    "            engagement_treshold: Treshold\n",
    "        '''\n",
    "        \n",
    "        super().__init__(unique_id, model)\n",
    "        \n",
    "        # 1 Initialization [Your code here]\n",
    "        \n",
    "        self.engagement_treshold = engagement_treshold\n",
    "        self.decision_reached = False\n",
    "        self.engaged = False\n",
    "    \n",
    "    # agent step: 'rules' action when activated\n",
    "    def step(self):\n",
    "        '''\n",
    "        Run one step of the agent. Move if unhappy, stay otherwise\n",
    "        '''\n",
    "        # 2 Step agent function [Your code here]\n",
    "        if self.engaged == True:\n",
    "            return\n",
    "        \n",
    "        # 3 the aggregation of individual preference of similar neighbours\n",
    "        other_agents = self.model.schedule.agents\n",
    "        engagement_rate = sum(agent.engaged == True for agent in other_agents) / len(other_agents)\n",
    "        \n",
    "        # 4 binary decisions-those where an actor has two distinct and mutually exclusive behavioral alternative\n",
    "        if engagement_rate >= self.engagement_treshold:\n",
    "            self.decision_reached = True\n",
    "            \n",
    "    # agent advance: 'simultaneous' behavior when activated\n",
    "    def advance(self):\n",
    "        \n",
    "        # 5 Advance agent function [Your code here]\n",
    "        if self.engaged == True:\n",
    "            self.model.engaged += 1\n",
    "            return\n",
    "        # 6 Engage decided agents simultaneously [Your code here]\n",
    "        elif self.decision_reached == True:\n",
    "            self.model.engaged += 1\n",
    "            self.engaged = True\n"
   ]
  },
  {
   "cell_type": "code",
   "execution_count": null,
   "id": "86898bc3",
   "metadata": {},
   "outputs": [],
   "source": [
    "from mesa.datacollection import DataCollector\n",
    "\n",
    "class GranovetterModelAnalysis(Model):\n",
    "\n",
    "    def __init__(self, N, mu=0.25, sigma=0.122):\n",
    "        '''\n",
    "        Create a new Granovetter model.\n",
    "\n",
    "         Args:\n",
    "            N: how many agents the model contains\n",
    "            mu: Vertical axis of the grid which is used together with Width to define the total number of agents in the system.\n",
    "            sigma: Define the population density of agent in the system. Floating value from 0 to 1.\n",
    "        '''\n",
    "        \n",
    "        super().__init__()\n",
    "        \n",
    "        # 1 Initialization [Your code here]\n",
    "        \n",
    "        self.num_agents = N\n",
    "        self.schedule = SimultaneousActivation(self)\n",
    "        \n",
    "        self.engaged = 0\n",
    "        \n",
    "        self.datacollector = DataCollector(    # < Note that we have both an agent and model data collector\n",
    "            model_reporters={\"engagement_ratio\": get_engagement_ratio}, agent_reporters={\"engaged\": \"engaged\"}\n",
    "        )\n",
    "        \n",
    "        self.running = True\n",
    "        \n",
    "        # 2 Create agents [Your code here]\n",
    "        # Initial engagement rate in product basedon normal distr, clip negative to zero\n",
    "        for i in range(self.num_agents):\n",
    "            a = GranovetterAgentBasic(i, max(self.random.gauss(mu, sigma), 0.0), self)\n",
    "            self.schedule.add(a)\n",
    "\n",
    "    def step(self):\n",
    "        '''\n",
    "        Run one step of the model. If All agents are happy, halt the model.\n",
    "        '''\n",
    "        \n",
    "        # 3 Step model function\n",
    "        \n",
    "        # Reset counter of happy agents each model step\n",
    "        self.engaged = 0\n",
    "        self.datacollector.collect(self)\n",
    "        self.schedule.step()\n",
    "\n",
    "        # 4 Stop the model if all agents are happy\n",
    "        if self.engaged == self.schedule.get_agent_count():\n",
    "            self.running = False"
   ]
  },
  {
   "cell_type": "markdown",
   "id": "ae59abfb",
   "metadata": {},
   "source": [
    "### Running the model\n",
    "\n",
    "We run the model just as we did above. Now is when an interactive\n",
    "session, especially via a Notebook, comes in handy: the DataCollector\n",
    "can export the data it’s collected as a pandas DataFrame, for easy\n",
    "interactive analysis.\n",
    "\n",
    "Now we instantiate a model instance: a 10x10 grid, with an 98% chance of an agent being placed in each cell, approximately 50% of agents set as minorities, and agents wanting at least 3 similar neighbors.\n",
    "\n",
    "We want to run the model until all the agents are happy with where they are. However, there's no guarentee that a given model instantiation will *ever* settle down. So let's run it for either 100 steps or until it stops on its own, whichever comes first:"
   ]
  },
  {
   "cell_type": "markdown",
   "id": "1fd1e32e",
   "metadata": {},
   "source": [
    "### At the location ``# < Add model parameters [Your code here]`` you have to implement:\n",
    "\n",
    "- specify all model-level parameters of its __init__ function\n",
    "- height and width are given already as 10 x 10\n",
    "- specify: density, minority proportion  and homophily treshold"
   ]
  },
  {
   "cell_type": "code",
   "execution_count": null,
   "id": "df714e58",
   "metadata": {},
   "outputs": [],
   "source": [
    "model = GranovetterModelAnalysis(100, 0.25, 0.3)# < Add model parameters [Your code here] )\n",
    "\n",
    "while model.running and model.schedule.steps < 100:\n",
    "    model.step()\n",
    "                            \n",
    "print('The Schelling Model ran for {} steps'.format(model.schedule.steps))\n",
    "model.datacollector.collect(model)"
   ]
  },
  {
   "cell_type": "markdown",
   "id": "a9e9791e",
   "metadata": {},
   "source": [
    "# 6. Run the Agent/Model Analysis"
   ]
  },
  {
   "cell_type": "markdown",
   "id": "a5b15cb6",
   "metadata": {},
   "source": [
    "Now we can get the model-moran's I data.\n",
    "\n",
    "You’ll see that the DataFrame’s index is pairings of model step and\n",
    "agent ID. You can analyze it the way you would any other DataFrame."
   ]
  },
  {
   "cell_type": "markdown",
   "id": "ada4d90d",
   "metadata": {},
   "source": [
    "### At the location ``# Create a plot for the number of happy agents over the model steps [Your code here]`` you have to implement:\n",
    "\n",
    "- plot the number of happy agents data you collected\n",
    "\n",
    "\n",
    "### At the location ``# Create a plot for the x, y position of a single agent over the model steps [Your code here]`` you have to implement:\n",
    "\n",
    "- filter the data to select only one agent - using Pandas .xs method\n",
    "- plot the x,y position of that agent data you collected"
   ]
  },
  {
   "cell_type": "code",
   "execution_count": null,
   "id": "95567016",
   "metadata": {},
   "outputs": [],
   "source": [
    "import pandas as pd\n",
    "\n",
    "model_out = model.datacollector.get_model_vars_dataframe()\n",
    "model_out.head()"
   ]
  },
  {
   "cell_type": "code",
   "execution_count": null,
   "id": "a92aa0ed",
   "metadata": {},
   "outputs": [],
   "source": [
    "model_out.engagement_ratio.plot() # Create a plot for the number of happy agents over the model steps [Your code here]bm"
   ]
  },
  {
   "cell_type": "markdown",
   "id": "aa6c025e",
   "metadata": {},
   "source": [
    "Similarly, we can get the agent-position data:"
   ]
  },
  {
   "cell_type": "code",
   "execution_count": null,
   "id": "7404dedc",
   "metadata": {},
   "outputs": [],
   "source": [
    "agent_out = model.datacollector.get_agent_vars_dataframe()\n",
    "agent_out.head()"
   ]
  },
  {
   "cell_type": "code",
   "execution_count": null,
   "id": "35c0d360",
   "metadata": {
    "scrolled": true
   },
   "outputs": [],
   "source": [
    "agent_out.xs(0, level=\"AgentID\").engaged.astype(int).plot() # Create a plot for the x, y position of a single agent over the model steps [Your code here]"
   ]
  },
  {
   "cell_type": "markdown",
   "id": "92a5e202",
   "metadata": {},
   "source": [
    "# 7. Create iteration Batch of the Agent/Model"
   ]
  },
  {
   "cell_type": "markdown",
   "id": "5d65cad7",
   "metadata": {},
   "source": [
    "### Batch Run\n",
    "\n",
    "Like we mentioned above, you usually won’t run a model only once, but\n",
    "multiple times, with fixed parameters to find the overall distributions\n",
    "the model generates, and with varying parameters to analyze how they\n",
    "drive the model’s outputs and behaviors. Instead of needing to write\n",
    "nested for-loops for each model, Mesa provides a ``batch_run`` function\n",
    "which automates it for you.\n",
    "\n",
    "The batch runner also requires an additional variable ``self.running``\n",
    "for the Model class. This variable enables conditional shut off of\n",
    "the model once a condition is met."
   ]
  },
  {
   "cell_type": "markdown",
   "id": "05a89bb2",
   "metadata": {},
   "source": [
    "### At the location ``# < Add model parameters [Your code here]`` you have to implement:\n",
    "\n",
    "- specify all model-level parameters of its __init__ function\n",
    "- height and width are given already as 10 x 10\n",
    "- specify: density, minority proportion  and homophily treshold"
   ]
  },
  {
   "cell_type": "code",
   "execution_count": null,
   "id": "8e4e8362",
   "metadata": {},
   "outputs": [],
   "source": [
    "import numpy as np\n",
    "\n",
    "params = {\"N\": 100, \"mu\": 0.25, \"sigma\": np.linspace(0,1,11)} # < Add model parameters [Your code here] } "
   ]
  },
  {
   "cell_type": "markdown",
   "id": "b1e897e3",
   "metadata": {},
   "source": [
    "# 8. Run the Agent/Model Batch"
   ]
  },
  {
   "cell_type": "markdown",
   "id": "a7d14019",
   "metadata": {},
   "source": [
    "### Running the model\n",
    "\n",
    "We call ``batch_run`` with the following arguments:\n",
    "\n",
    "* ``model_cls``\n",
    "\n",
    "  The model class that is used for the batch run.\n",
    "\n",
    "* ``parameters``\n",
    "\n",
    "  A dictionary containing all the parameters of the model class and\n",
    "  desired values to use for the batch run as key-value pairs. Each\n",
    "  value can either be fixed ( e.g. ``{\"height\": 10, \"width\": 10}``)\n",
    "  or an iterable (e.g. ``{\"homophily\": range(0,100, 13)}``). ``batch_run``\n",
    "  will then generate all possible parameter combinations based on this\n",
    "  dictionary and run the model ``iterations`` times for each combination.\n",
    "\n",
    "* ``number_processes``\n",
    "\n",
    "  Number of processors used to run the sweep in parallel. Optional.\n",
    "  If not specified, defaults to use all the available processors.\n",
    "\n",
    "  Note: Multiprocessing does make debugging challenging. If your\n",
    "  parameter sweeps are resulting in unexpected errors set ``number_processes = 1``.\n",
    "  \n",
    "  Also, if your batcher is stuck and is not running for some reason, try also setting ``number_processes = 1``, since this issue might also be related to multiprocessing issues.\n",
    "\n",
    "* ``iterations``\n",
    "\n",
    "  The number of iterations to run each parameter combination for. Optional.\n",
    "  If not specified, defaults to 1.\n",
    "\n",
    "* ``data_collection_period``\n",
    "\n",
    "  The length of the period (number of steps) after which the model and\n",
    "  agent reporters collect data. Optional. If not specified, defaults to -1,\n",
    "  i.e. only at the end of each episode.\n",
    "\n",
    "* ``max_steps``\n",
    "\n",
    "  The maximum number of time steps after which the model halts. An episode\n",
    "  does either end when ``self.running`` of the model class is set to\n",
    "  ``False`` or when ``model.schedule.steps == max_steps`` is reached.\n",
    "  Optional. If not specified, defaults to 1000.\n",
    "\n",
    "* ``display_progress``\n",
    "\n",
    "  Display the batch run progress. Optional. If not specified, defaults to ``True``.\n",
    "\n",
    "In the following example, we hold the height and width fixed, and vary\n",
    "the homophily treshold of agents. We tell the batch runner to run 10 instantiations\n",
    "of the model with each number of agents, and to run each for 200 steps.\n",
    "\n",
    "We want to keep track of\n",
    "\n",
    "1. the Moran's I coefficient value and\n",
    "2. the individual agent’s position development."
   ]
  },
  {
   "cell_type": "code",
   "execution_count": null,
   "id": "417ca04b",
   "metadata": {},
   "outputs": [],
   "source": [
    "# If your batcher is stuck and is not running for some reason, try setting number_processes = 1\n",
    "\n",
    "from mesa.batchrunner import batch_run\n",
    "\n",
    "results = batch_run(\n",
    "    GranovetterModelAnalysis,\n",
    "    parameters=params,\n",
    "    iterations=10,\n",
    "    max_steps=100,\n",
    "    number_processes=None,\n",
    "    data_collection_period=-1,\n",
    "    display_progress=True,\n",
    ")"
   ]
  },
  {
   "cell_type": "markdown",
   "id": "c3e414a4",
   "metadata": {},
   "source": [
    "# 9. Run the Batch data Analysis"
   ]
  },
  {
   "cell_type": "markdown",
   "id": "6a670538",
   "metadata": {},
   "source": [
    "### Data visualization\n",
    "\n",
    "First, we want to take a closer look at how the Moran's I coefficient at the\n",
    "end of each episode changes as we increase the homophily treshold of the population.\n",
    "For this, we group our data on the ``RunId`` identifier and get a single value per ``RunId`` using a median. Our results to only contain the data of Moran's I for the entire population at the final step of each episode and then box-plot the values\n",
    "for the Moran's I coefficient over the the hoophily of agents. Notice there are\n",
    "10 values for each homophily treshold since we set ``iterations=10`` when\n",
    "calling the batch run."
   ]
  },
  {
   "cell_type": "code",
   "execution_count": null,
   "id": "77666a1a",
   "metadata": {},
   "outputs": [],
   "source": [
    "import pandas as pd\n",
    "\n",
    "results_df = pd.DataFrame(results)\n",
    "results_df.head()"
   ]
  },
  {
   "cell_type": "markdown",
   "id": "9bf232bc",
   "metadata": {},
   "source": [
    "Task: Find out how variance (std) influences the final number of separation using the mean or box plot. You should be able to plot the average outcome for each homophily value.\n",
    "\n",
    "**hint** Your plot should look similar to [this paper](https://www.jasss.org/15/1/6.html). Not neccesarily with Moran's I, but the transition should be visible"
   ]
  },
  {
   "cell_type": "markdown",
   "id": "2a4fc5dc",
   "metadata": {},
   "source": [
    "### At the location ``# Create a box-plot for the Moran's I over the homophily tresholds [Your code here]`` you have to implement:\n",
    "\n",
    "- plot the boxplot of Moran's I values over homophiliy treshold values from models data you collected\n",
    "- using the Pandas ``.boxplot()`` method\n",
    "- group Moran's I values by ``homophily``\n",
    "- plot the ``Morans_I`` column"
   ]
  },
  {
   "cell_type": "code",
   "execution_count": null,
   "id": "80fdf609",
   "metadata": {},
   "outputs": [],
   "source": [
    "# Create a box-plot for the Moran's I over the homophily tresholds [Your code here]\n",
    "results_df.groupby(by=[\"RunId\", \"iteration\", \"Step\"]).median()"
   ]
  },
  {
   "cell_type": "code",
   "execution_count": null,
   "id": "79fafebb",
   "metadata": {},
   "outputs": [],
   "source": [
    "results_df.groupby(by=[\"RunId\"]).median().boxplot(by ='sigma', column =['engagement_ratio'], grid=False)"
   ]
  },
  {
   "cell_type": "code",
   "execution_count": null,
   "id": "fa44e2e1",
   "metadata": {},
   "outputs": [],
   "source": [
    "# Setting up the model - agen variables and model-level parameters\n",
    "\n",
    "from mesa import Agent, Model\n",
    "from mesa.time import SimultaneousActivation\n",
    "from mesa.datacollection import DataCollector\n",
    "\n",
    "class GranovetterAgent(Agent):\n",
    "    \"\"\"An agent with fixed initial wealth.\"\"\"\n",
    "\n",
    "    # 1 Initialization\n",
    "    # the variation of norms and preferences within the interacting group\n",
    "    def __init__(self, unique_id, engagement_treshold, model):\n",
    "        super().__init__(unique_id, model)\n",
    "        \n",
    "        self.engagement_treshold = engagement_treshold\n",
    "        self.engaged = False\n",
    "        self.decision = False\n",
    "        #print(\"Hi, I am agent \" + str(self.unique_id) + \".\" + str(self.engagement_treshold))\n",
    "\n",
    "    # 2 Step function\n",
    "    # join a riot, for example-we can infer from this that most ended up sharing the same norm or belief \n",
    "    # about the situation, whether or not they did so at the beginning.\n",
    "    # the decision can be thought of as having a positive and negative side-deciding to do a thing or not to, as in deciding whether to join a riot-though this is not required for the formal analysis.\n",
    "    def step(self):    # < agent step: 'rules' action when activated\n",
    "        # 3 the aggregation of individual preference of similar neighbours\n",
    "        if self.engaged == True:\n",
    "            return\n",
    "        other_agents = self.model.schedule.agents\n",
    "        engagement_rate = sum(agent.engaged == True for agent in other_agents) / len(other_agents)\n",
    "        \n",
    "        # 4 binary decisions-those where an actor has two distinct and mutually exclusive behavioral alternative\n",
    "        # A further requirement is that the decision be one where the costs and benefits to the actor of making one or the other choice depend in part on how many others make which choice. We may take riots as an example. The cost to an individual of joining a riot declines as riot size increases, since the probability of being apprehended is smaller the larger the number involved\n",
    "        # A person's threshold for joining a riot is defined here as the proportion of the group he would have to see join before he would do so.\n",
    "        if engagement_rate >= self.engagement_treshold:\n",
    "            self.decision = True\n",
    "            \n",
    "    def advance(self):\n",
    "        if self.engaged == True:\n",
    "            return\n",
    "        elif self.decision == True:\n",
    "            self.engaged = True\n",
    "\n",
    "# Data collection\n",
    "def get_engagement_ratio(model):\n",
    "    '''\n",
    "    Find the % of agents that are rioting.\n",
    "    '''\n",
    "    \n",
    "    agent_engeged = [agent.engaged for agent in model.schedule.agents]\n",
    "    N = model.num_agents\n",
    "    \n",
    "    engagement_rate = sum(agent_engeged) / N\n",
    "    \n",
    "    return engagement_rate\n",
    "\n",
    "class GranovetterModel(Model):\n",
    "    \"\"\"A model with some number of agents.\"\"\"\n",
    "\n",
    "    def __init__(self, N, mu=0.25, sigma=0.122):\n",
    "        super().__init__()\n",
    "        \n",
    "        self.num_agents = N    # < model-level parameter: how many agents the model contains\n",
    "        self.schedule = SimultaneousActivation(self)\n",
    "        \n",
    "        # Create agents\n",
    "        # Using uniform distribution\n",
    "        # Riot situation - instigator starts\n",
    "        #for i in range(self.num_agents):\n",
    "        #    a = GranovetterAgent(i, i * (1 / self.num_agents), self)\n",
    "        #    self.schedule.add(a)\n",
    "            \n",
    "        # Another riot situation - only instigator riots\n",
    "        #a = GranovetterAgent(0, 0.0, self)\n",
    "        #self.schedule.add(a)\n",
    "        #for i in range(1, self.num_agents):\n",
    "        #    a = GranovetterAgent(i, (i+1) * (1 / self.num_agents), self)\n",
    "        #    self.schedule.add(a)\n",
    "        \n",
    "        # Using normal distribution\n",
    "        for i in range(self.num_agents):\n",
    "            a = GranovetterAgent(i, max(self.random.gauss(mu, sigma), 0.0), self) # Initial engagement rate in product basedon normal distr, clip negative to zero\n",
    "            self.schedule.add(a)\n",
    "        \n",
    "        # Using perturbed uniform distribution\n",
    "        #a = GranovetterAgent(0, 0.0, self)\n",
    "        #self.schedule.add(a)\n",
    "        #a = GranovetterAgent(1, 0.2, self)\n",
    "        #self.schedule.add(a)\n",
    "        #a = GranovetterAgent(2, 0.2, self)\n",
    "        #self.schedule.add(a)\n",
    "        #for i in range(3, self.num_agents):\n",
    "        #    a = GranovetterAgent(i, i * (1 / self.num_agents), self)\n",
    "        #    self.schedule.add(a)\n",
    "        \n",
    "        self.datacollector = DataCollector(    # < Note that we have both an agent and model data collector\n",
    "            model_reporters={\"engagement_ratio\": get_engagement_ratio}, agent_reporters={\"engaged\": \"engaged\"}\n",
    "        )\n",
    "        \n",
    "    def step(self):\n",
    "        self.datacollector.collect(self)\n",
    "        \"\"\"Advance the model by one step.\"\"\"\n",
    "        self.schedule.step()    # < model step: activate and execute each agent's step"
   ]
  },
  {
   "cell_type": "markdown",
   "id": "c29019fc",
   "metadata": {},
   "source": []
  },
  {
   "cell_type": "code",
   "execution_count": null,
   "id": "e6c02e81",
   "metadata": {},
   "outputs": [],
   "source": [
    "# Test the model\n",
    "\n",
    "model = GranovetterModel(100)\n",
    "for i in range(10):\n",
    "    model.step()"
   ]
  },
  {
   "cell_type": "code",
   "execution_count": null,
   "id": "55d921b2",
   "metadata": {},
   "outputs": [],
   "source": [
    "# Show results\n",
    "\n",
    "model_data = model.datacollector.get_model_vars_dataframe()\n",
    "model_data.engagement_ratio.plot()"
   ]
  },
  {
   "cell_type": "code",
   "execution_count": null,
   "id": "49bdc019",
   "metadata": {},
   "outputs": [],
   "source": [
    "agent_data = model.datacollector.get_agent_vars_dataframe()\n",
    "agent_data.head()"
   ]
  },
  {
   "cell_type": "code",
   "execution_count": null,
   "id": "82717a22",
   "metadata": {},
   "outputs": [],
   "source": [
    "# Test the batch model\n",
    "import numpy as np\n",
    "from mesa.batchrunner import batch_run\n",
    "\n",
    "params = {\"N\": 100, \"mu\": 0.25, \"sigma\": np.linspace(0,1,11)}\n",
    "\n",
    "results = batch_run(\n",
    "    GranovetterModel,\n",
    "    parameters=params,\n",
    "    iterations=5,\n",
    "    max_steps=10,\n",
    "    number_processes=None,\n",
    "    data_collection_period=-1,\n",
    "    display_progress=True,\n",
    ")"
   ]
  },
  {
   "cell_type": "code",
   "execution_count": null,
   "id": "451d3637",
   "metadata": {},
   "outputs": [],
   "source": [
    "# Collect batch data as Pandas dataframe\n",
    "\n",
    "import pandas as pd\n",
    "\n",
    "results_df = pd.DataFrame(results)\n",
    "print(results_df.keys())"
   ]
  },
  {
   "cell_type": "code",
   "execution_count": null,
   "id": "70d76ab5",
   "metadata": {},
   "outputs": [],
   "source": [
    "# Trend of coefficients after each iteration\n",
    "\n",
    "# For a jupyter notebook add the following line:\n",
    "%matplotlib inline\n",
    "\n",
    "# The below is needed for both notebooks and scripts\n",
    "import matplotlib.pyplot as plt\n",
    "\n",
    "plt.scatter(results_df.sigma.values, results_df.engagement_ratio.values)"
   ]
  },
  {
   "cell_type": "markdown",
   "id": "e6650d3e",
   "metadata": {},
   "source": [
    "Task: Find out how variance (std) influences the final number of separation"
   ]
  },
  {
   "cell_type": "code",
   "execution_count": null,
   "id": "17f29bdf",
   "metadata": {},
   "outputs": [],
   "source": []
  }
 ],
 "metadata": {
  "kernelspec": {
   "display_name": "Python 3 (ipykernel)",
   "language": "python",
   "name": "python3"
  },
  "language_info": {
   "codemirror_mode": {
    "name": "ipython",
    "version": 3
   },
   "file_extension": ".py",
   "mimetype": "text/x-python",
   "name": "python",
   "nbconvert_exporter": "python",
   "pygments_lexer": "ipython3",
   "version": "3.8.10"
  }
 },
 "nbformat": 4,
 "nbformat_minor": 5
}
