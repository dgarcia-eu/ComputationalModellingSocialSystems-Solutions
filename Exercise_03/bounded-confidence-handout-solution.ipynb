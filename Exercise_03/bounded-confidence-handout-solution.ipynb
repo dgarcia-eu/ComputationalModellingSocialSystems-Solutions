{
 "cells": [
  {
   "cell_type": "markdown",
   "id": "ceb250dd",
   "metadata": {},
   "source": [
    "# Mesa opinion dynamics example - Bounded confidence model\n",
    "\n",
    "## Description\n",
    "\n",
    "We present a model of opinion dynamics where agents adjust continuous opinions on the occasion of random binary encounters whenever their difference in opinion is below a given threshold. High thresholds yield convergence of opinions towards an average opinion, but low thresholds result in several opinion clusters: members of the same cluster share the same opinion but do not adjust any more with members of other clusters.\n",
    "\n",
    "What would happen if opinion were a continuous variable such as the worthiness of a choice (a utility in economics), or some belief about adjustment of a control parameter?\n",
    "\n",
    "The purpose of this model is to present results about continuous opinion dynamics when convergent opinion adjustments only pro- ceed when opinion difference is below a given threshold.\n",
    "\n",
    "The rationale for the threshold condition is that agents only interact when their opinion are already close enough; otherwise they do not even bother to discuss. The reason for such behaviour might be for instance lack of understanding, conflicts of interest or social pressure. Although there is no reason to suppose that openness to discussion, here represented by threshold , is constant across population or even symmetrical on the occasion of a binary encounter, we will allways take it as a constant simulation parameter in the present model.\n",
    "\n",
    "The analytical solution (possible for small values of the treshold d) implies that starting from an initial distribution of opinions in the population, any local higher opinion density is amplified. Peaks of opinions increase and valleys are depleted until very narrow peaks remains among a desert of intermediate opinions.\n",
    "\n",
    "## Sample Model Description\n",
    "\n",
    "The excercise model is a very simple simulated agent threshold model. The aim of the formal model presented here is the same: to predict, from the initial distribution of thresholds, the ultimate number or proportion making each of the two decisions. Mathematically, the question is one of finding an equilibrium in a process occurring over time.\n",
    "\n",
    "We will explore models concerning:\n",
    "\n",
    "- homogeneous mixing across the whole population\n",
    "- mixing across a social network\n",
    "\n",
    "The rules of our tutorial model:\n",
    "\n",
    "1. a population of N agents with i continuous opinions xi (e.g. N = 2000)\n",
    "     - convergence parameter mu [0, 0.5] (e.g. mu = 0.5)\n",
    "     - opinion difference threshold d (e.g. d = 0.5)\n",
    "2. Initially opinions were randomly generated across a uniform distribution on [0, 1]\n",
    "3. At each time step any two randomly chosen agents meet, among connected agents. \n",
    "4. They re-adjust their opinion when their difference of opinion is smaller in magnitude than a threshold d.\n",
    "5. opinions are then adjusted according to:\n",
    "    - other_agent xi = other_agent xi + mu * (self xi - other_agent xi)\n",
    "    - self xi = self xi + mu * (other_agent xi - self xi)\n",
    "\n",
    "Despite its simplicity, this model yields results that are often unexpected to those not familiar with it. \n",
    "lattice is filled with a large majority of agents which have reached consensus around x = 0.5 apart from isolated agents which have “extremists” opin- ions closer to 0 or 1: the importance of extremists is the most noticeable difference with the full mxing case described in the previous section.\n",
    "\n",
    "## How to use and modify the code\n",
    "\n",
    "These excercises are designed around a Mesa template that is given to you to reuse. You are not asked to perform any complex object programming, but instead we ask for understanding of the core features of the Mesa pyhton package. You will mostly have to modifly the existing template and code the ``Model`` and ``Agent``behavior using standard python code.\n",
    "\n",
    "**Therefore, in this excercise, you are asked to fill your code where the comments state:**\n",
    "\n",
    "``#[Your code here]``\n",
    "\n",
    "Let’s get started."
   ]
  },
  {
   "cell_type": "markdown",
   "id": "8063be84",
   "metadata": {},
   "source": [
    "# 1. Create the Basic Agent/Model"
   ]
  },
  {
   "cell_type": "markdown",
   "id": "73e19877",
   "metadata": {},
   "source": [
    "## Setting up the model\n",
    "\n",
    "To begin writing the model code, we start with two core classes: one for\n",
    "the overall model, the other for the agents. The model class holds the\n",
    "model-level attributes, manages the agents, and generally handles the\n",
    "global level of our model. Each instantiation of the model class will be\n",
    "a specific model run. Each model will contain multiple agents, all of\n",
    "which are instantiations of the agent class. Both the model and agent\n",
    "classes are child classes of Mesa’s generic ``Model`` and ``Agent``\n",
    "classes.\n",
    "\n",
    "### At the location ``# 1 Initialization [Your code here]`` you have to implement:\n",
    "\n",
    "Each agent has a few parameters:\n",
    "- engagement treshold - an agent's threshold for joining a riot is defined here as the proportion of the group he would have to see join before he would do so\n",
    "- decision_reached - has the agent observed the proportion above its treshold of other agents joining the riot\n",
    "- engaged - has the agent joined the riot\n",
    "\n",
    "(Each agent will also have a unique identifier (i.e., a sequence position), stored in the ``unique_id`` variable. Giving each agent a unique id is a good practice when doing agent-based modeling.)\n",
    "\n",
    "### At the location ``# 2 Step agent function [Your code here]`` you have to implement:\n",
    "\n",
    "- if the agent is `engaged` in a riot then no behavior is needed, agent is already rioting\n",
    "\n",
    "### At the location ``# 3 Proportion of these other agents joining the riot [Your code here]`` you have to implement:\n",
    "\n",
    "- get a list of all scheduled agents\n",
    "- calculate the proportion of these other agents joining the riot\n",
    "\n",
    "### At the location ``# 4 Binary decision [Your code here]`` you have to implement:\n",
    "\n",
    "- if the proportion of other agents joining the riot are above agent's treshold\n",
    "- set this agent to have observed the proportion above its treshold of other agents joining the riot\n",
    "\n",
    "### At the location ``# 5 Advance agent function [Your code here]`` you have to implement:\n",
    "\n",
    "- if the agent is `engaged` in a riot then no simultaneous behavior is needed, agent is already rioting\n",
    "- count up by 1 the number of rioting agents in the model\n",
    " \n",
    "### At the location ``# 6 Engage decided agents simultaneously [Your code here]`` you have to implement:\n",
    "\n",
    "- if the agent has already have observed the proportion above its treshold of other agents joining the riot\n",
    "- set the agent as `engaged` in the riot\n",
    "\n",
    "The beginning of both classes looks like this:"
   ]
  },
  {
   "cell_type": "code",
   "execution_count": 12,
   "id": "cf306600",
   "metadata": {},
   "outputs": [],
   "source": [
    "from mesa import Model, Agent\n",
    "from mesa.time import RandomActivation"
   ]
  },
  {
   "cell_type": "code",
   "execution_count": 13,
   "id": "774b1f84",
   "metadata": {},
   "outputs": [],
   "source": [
    "class BoundedConfidenceAgentBasic(Agent):\n",
    "    \n",
    "    def __init__(self, unique_id, opinion, model):\n",
    "        '''\n",
    "         Create a new bounded confidence agent.\n",
    "\n",
    "         Args:\n",
    "            unique_id: Unique identifier for the agent\n",
    "            opinion: An agent's initial opinion\n",
    "        '''\n",
    "        \n",
    "        super().__init__(unique_id, model)\n",
    "        \n",
    "        # 1 Initialization [Your code here]\n",
    "        self.opinion = opinion\n",
    "        \n",
    "    def step(self):\n",
    "        '''\n",
    "        Run one step of the agent.\n",
    "        '''\n",
    "        \n",
    "        # 2 Step agent function\n",
    "        \n",
    "        # Randomly chose agent [Your code here]\n",
    "        other_agent = self.random.choice(self.model.schedule.agents)\n",
    "        \n",
    "        # Evaluate agents difference of opinion [Your code here]\n",
    "        opinions_distance = abs(self.opinion - other_agent.opinion)\n",
    "        \n",
    "        # Re-adjust agents opinions [Your code here]\n",
    "        if opinions_distance < self.model.treshold:\n",
    "            other_agent.opinion = other_agent.opinion + self.model.convergence * (self.opinion - other_agent.opinion)\n",
    "            self.opinion = self.opinion + self.model.convergence * (other_agent.opinion - self.opinion)\n"
   ]
  },
  {
   "cell_type": "markdown",
   "id": "24aa644a",
   "metadata": {},
   "source": [
    "## Adding the scheduler\n",
    "\n",
    "Time in most agent-based models moves in steps, sometimes also called\n",
    "**ticks**. At each step of the model, one or more of the agents –\n",
    "usually all of them – are activated and take their own step, changing\n",
    "internally and/or interacting with one another or the environment.\n",
    "\n",
    "The **scheduler** is a special model component which controls the order\n",
    "in which agents are activated. For example, all the agents may activate\n",
    "in the same order every step; their order might be shuffled; we may try\n",
    "to simulate all the agents acting at the same time; and more. Mesa\n",
    "offers a few different built-in scheduler classes, with a common\n",
    "interface. That makes it easy to change the activation regime a given\n",
    "model uses, and see whether it changes the model behavior. This may not\n",
    "seem important, but scheduling patterns can have an impact on your\n",
    "results.\n",
    "\n",
    "For now, let’s use one of the simplest ones: ``RandomActivation``, which\n",
    "activates all the agents once per step, in random order. Every agent is\n",
    "expected to have a ``step`` method. The step method is the action the\n",
    "agent takes when it is activated by the model schedule. We add an agent\n",
    "to the schedule using the ``add`` method; when we call the schedule’s\n",
    "``step`` method, the model shuffles the order of the agents, then\n",
    "activates and executes each agent’s ``step`` method.\n",
    "\n",
    "With that in mind, the model code with the scheduler added looks like\n",
    "this:"
   ]
  },
  {
   "cell_type": "markdown",
   "id": "9de46855",
   "metadata": {},
   "source": [
    "### At the location ``# 1 Initialization [Your code here]`` you have to implement:\n",
    "\n",
    "There are a number of model-level parameters: \n",
    "\n",
    "- height and width of the grid\n",
    "- density of grid population to define how many agents and empty cells the model contains\n",
    "- minority proportion to define proportion of two types of agents on the grid\n",
    "- homophily treshold to which the agent is happy with its neighbourhood\n",
    "- Use ``RandomActivation`` scheduler\n",
    "- Use ``SingleGrid`` space with torus folding\n",
    "\n",
    "**Hint:** Note that homophily treshold should be defined as the ratio of similar neighbours (e.g. 30% of similar agents), instead of a fixed number of neighbouring agents (3 similar agents). The problem of fixed number lies in the possibility of empty cells in the neighbourood, which might reduce the total number of neighbours from 8 possible neighbours, to a lower total number of neighbours. Consider an example where an agent requires 3 similar agents as neigbours (Case 1 - majority: 3 similar + 2 other = 5 neighbours/3 empty spaces; Case2 - balanced: 3 similar + 3 other = 6 neighbours/3 empty spaces; Case 3 - minority: 3 similar + 5 other = 8 neighbours/0 empty spaces). Using the ratio of similar neighbours of all neighbours solves this issue.\n",
    "\n",
    "### At the location ``# 2 Create agents [Your code here]`` you have to implement:\n",
    "\n",
    "- use uniform random numbers to populate the grid based on density parameter\n",
    "- use uniform random numbers to selects agent type based on minority proportion\n",
    "\n",
    "When a new model is started, we want it to populate the grid itself with the defined number of agents segregated on the given proportion between two groups."
   ]
  },
  {
   "cell_type": "code",
   "execution_count": 14,
   "id": "9fc85506",
   "metadata": {},
   "outputs": [],
   "source": [
    "class BoundedConfidenceModelBasic(Model):\n",
    "    \n",
    "    def __init__(self, N, treshold, convergence):\n",
    "        '''\n",
    "        Create a new bounded confidence model.\n",
    "\n",
    "         Args:\n",
    "            N: how many agents the model contains\n",
    "            treshold: opinion difference threshold. Floating value from 0 to 1.\n",
    "            convergence: convergence parameter. Floating value from 0 to 0.5.\n",
    "        '''\n",
    "        \n",
    "        super().__init__()\n",
    "        \n",
    "        # 1 Initialization [Your code here]\n",
    "        self.num_agents = N\n",
    "        self.treshold = treshold\n",
    "        self.convergence = convergence\n",
    "        \n",
    "        self.schedule = RandomActivation(self)\n",
    "        \n",
    "        self.running = True\n",
    "        \n",
    "        # 2 Create agents [Your code here]\n",
    "        for i in range(self.num_agents):\n",
    "            a = BoundedConfidenceAgentBasic(i, self.random.random(), self)\n",
    "            self.schedule.add(a)\n",
    "\n",
    "    def step(self):\n",
    "        '''\n",
    "        Run one step of the model. If All agents are happy, halt the model.\n",
    "        '''\n",
    "        \n",
    "        # 3 Step model function\n",
    "        \n",
    "        self.schedule.step()\n"
   ]
  },
  {
   "cell_type": "markdown",
   "id": "41b509e6",
   "metadata": {},
   "source": [
    "# 2. Run the Agent/Model Basic"
   ]
  },
  {
   "cell_type": "markdown",
   "id": "2c1181d8",
   "metadata": {},
   "source": [
    "### Running the model\n",
    "\n",
    "At this point, we have a model which runs. \n",
    "You can see for yourself with a few easy lines. If you’ve been working in an jupyter notebook session, you can create a model object directly. \n",
    "\n",
    "With that last piece in hand, it’s time for the first rudimentary run of the model.\n",
    "\n",
    "Now let’s create a model with 2000 agents, and run it for 100 steps. Set the opinion difference treshold and convergence parameter of the model to proposal. ``treshold = 0.5`` and ``convergence = 0.5``."
   ]
  },
  {
   "cell_type": "markdown",
   "id": "46ec9d0a",
   "metadata": {},
   "source": [
    "### At the location ``# < Add model parameters [Your code here]`` you have to implement:\n",
    "\n",
    "- specify all model-level parameters of its __init__ function\n",
    "- number of agents is given already as 1000\n",
    "- specify: treshold and convergence"
   ]
  },
  {
   "cell_type": "code",
   "execution_count": 15,
   "id": "58d95069",
   "metadata": {},
   "outputs": [
    {
     "name": "stdout",
     "output_type": "stream",
     "text": [
      "The bounded confidence model ran for 100 steps\n"
     ]
    }
   ],
   "source": [
    "model = BoundedConfidenceModelBasic(1000, 0.5, 0.5)# < Add model parameters [Your code here] )\n",
    "\n",
    "while model.running and model.schedule.steps < 100:\n",
    "    model.step()\n",
    "                            \n",
    "print('The bounded confidence model ran for {} steps'.format(model.schedule.steps))"
   ]
  },
  {
   "cell_type": "markdown",
   "id": "328b74aa",
   "metadata": {},
   "source": [
    "# 5. Collect data to Analyze the Agent/Model"
   ]
  },
  {
   "cell_type": "markdown",
   "id": "67c521ab",
   "metadata": {},
   "source": [
    "### Collecting Data\n",
    "\n",
    "Since one of the main goals of agent-based modeling is generating data\n",
    "for analysis, Mesa provides a class which can handle data collection and\n",
    "storage for us and make it easier to analyze.\n",
    "\n",
    "The data collector stores three categories of data: model-level\n",
    "variables, agent-level variables, and tables (which are a catch-all for\n",
    "everything else). Model- and agent-level variables are added to the data\n",
    "collector along with a function for collecting them. Model-level\n",
    "collection functions take a model object as an input, while agent-level\n",
    "collection functions take an agent object as an input. Both then return\n",
    "a value computed from the model or each agent at their current state.\n",
    "When the data collector’s ``collect`` method is called, with a model\n",
    "object as its argument, it applies each model-level collection function\n",
    "to the model, and stores the results in a dictionary, associating the\n",
    "current value with the current step of the model. Similarly, the method\n",
    "applies each agent-level collection function to each agent currently in\n",
    "the schedule, associating the resulting value with the step of the\n",
    "model, and the agent’s ``unique_id``.\n",
    "\n",
    "Let’s add a DataCollector to the model, and collect two variables. At\n",
    "the agent level, we want to collect every agent’s engaged state at every step.\n",
    "At the model level, let’s measure the proportion of engaged agents at every step."
   ]
  },
  {
   "cell_type": "markdown",
   "id": "68eae8b4",
   "metadata": {},
   "source": [
    "### At the location ``# Analysis code for calculating proportion of engaged agents [Your code here]`` you have to implement:\n",
    "\n",
    "- calculate proportion of engaged agents over all agents\n",
    "\n",
    "### Agent code should be the same (refer to the code above)\n",
    "\n",
    "### Model code has a ``DataCollector`` step\n",
    "\n",
    "- note the use of ``DataCollector`` to collect the following model-level data:\n",
    "- model's engagement ratio\n",
    "- agent's ``engaged`` stats\n",
    "- ``collect`` data every model's ``step``"
   ]
  },
  {
   "cell_type": "code",
   "execution_count": 16,
   "id": "aaa02c46",
   "metadata": {},
   "outputs": [],
   "source": [
    "def get_engagement_ratio(model):\n",
    "    '''\n",
    "    Find the % of agents that are rioting.\n",
    "    '''\n",
    "    # Analysis code for calculating proportion of engaged agents [Your code here]\n",
    "    agent_engeged = [agent.engaged for agent in model.schedule.agents]\n",
    "    N = model.num_agents\n",
    "    \n",
    "    engagement_rate = sum(agent_engeged) / N\n",
    "    \n",
    "    return engagement_rate"
   ]
  },
  {
   "cell_type": "code",
   "execution_count": 17,
   "id": "7de235a2",
   "metadata": {},
   "outputs": [],
   "source": [
    "class BoundedConfidenceAgentAnalysis(Agent):\n",
    "    \n",
    "    def __init__(self, unique_id, opinion, model):\n",
    "        '''\n",
    "         Create a new bounded confidence agent.\n",
    "\n",
    "         Args:\n",
    "            unique_id: Unique identifier for the agent\n",
    "            opinion: An agent's initial opinion\n",
    "        '''\n",
    "        \n",
    "        super().__init__(unique_id, model)\n",
    "        \n",
    "        # 1 Initialization [Your code here]\n",
    "        self.opinion = opinion\n",
    "        \n",
    "    def step(self):\n",
    "        '''\n",
    "        Run one step of the agent.\n",
    "        '''\n",
    "        \n",
    "        # 2 Step agent function\n",
    "        \n",
    "        # Randomly chose agent [Your code here]\n",
    "        other_agent = self.random.choice(self.model.schedule.agents)\n",
    "        \n",
    "        # Evaluate agents difference of opinion [Your code here]\n",
    "        opinions_distance = abs(self.opinion - other_agent.opinion)\n",
    "        \n",
    "        # Re-adjust agents opinions [Your code here]\n",
    "        if opinions_distance < self.model.treshold:\n",
    "            other_agent.opinion = other_agent.opinion + self.model.convergence * (self.opinion - other_agent.opinion)\n",
    "            self.opinion = self.opinion + self.model.convergence * (other_agent.opinion - self.opinion)\n"
   ]
  },
  {
   "cell_type": "code",
   "execution_count": 18,
   "id": "e469a123",
   "metadata": {},
   "outputs": [],
   "source": [
    "from mesa.datacollection import DataCollector\n",
    "\n",
    "class BoundedConfidenceModelAnalysis(Model):\n",
    "    \n",
    "    def __init__(self, N, treshold, convergence):\n",
    "        '''\n",
    "        Create a new bounded confidence model.\n",
    "\n",
    "         Args:\n",
    "            N: how many agents the model contains\n",
    "            treshold: opinion difference threshold. Floating value from 0 to 1.\n",
    "            convergence: convergence parameter. Floating value from 0 to 0.5.\n",
    "        '''\n",
    "        \n",
    "        super().__init__()\n",
    "        \n",
    "        # 1 Initialization [Your code here]\n",
    "        self.num_agents = N\n",
    "        self.treshold = treshold\n",
    "        self.convergence = convergence\n",
    "        \n",
    "        self.schedule = RandomActivation(self)\n",
    "        \n",
    "        self.datacollector = DataCollector(    # < Note that we have both an agent and model data collector\n",
    "            model_reporters={\"Treshold\": \"treshold\"}, agent_reporters={\"Opinion\": \"opinion\"}\n",
    "        )\n",
    "        \n",
    "        self.running = True\n",
    "        \n",
    "        # 2 Create agents [Your code here]\n",
    "        for i in range(self.num_agents):\n",
    "            a = BoundedConfidenceAgentAnalysis(i, self.random.random(), self)\n",
    "            self.schedule.add(a)\n",
    "\n",
    "    def step(self):\n",
    "        '''\n",
    "        Run one step of the model. If All agents are happy, halt the model.\n",
    "        '''\n",
    "        \n",
    "        # 3 Step model function\n",
    "        \n",
    "        self.datacollector.collect(self)\n",
    "        self.schedule.step()\n"
   ]
  },
  {
   "cell_type": "markdown",
   "id": "8da978ac",
   "metadata": {},
   "source": [
    "### Running the model\n",
    "\n",
    "We run the model just as we did above. Now is when an interactive\n",
    "session, especially via a Notebook, comes in handy: the DataCollector\n",
    "can export the data it’s collected as a pandas DataFrame, for easy\n",
    "interactive analysis.\n",
    "\n",
    "Now we instantiate a model instance: 100 agents, with normal distribution of agent's engagement treshold to ``mu = 0.25`` and ``sigma = 0.122``. Run the model for 100 steps.\n",
    "\n",
    "We want to run the model until all the agents are rioting. However, there's no guarentee that a given model instantiation will *ever* settle down. So let's run it for either 100 steps or until it stops on its own, whichever comes first:"
   ]
  },
  {
   "cell_type": "markdown",
   "id": "cf26f59f",
   "metadata": {},
   "source": [
    "### At the location ``# < Add model parameters [Your code here]`` you have to implement:\n",
    "\n",
    "- specify all model-level parameters of its __init__ function\n",
    "- number of agents is given already as 100\n",
    "- specify: mu and sigma"
   ]
  },
  {
   "cell_type": "code",
   "execution_count": null,
   "id": "728d8071",
   "metadata": {},
   "outputs": [],
   "source": [
    "model = BoundedConfidenceModelAnalysis(1000, 0.5, 0.5)# < Add model parameters [Your code here] )\n",
    "\n",
    "while model.running and model.schedule.steps < 100:\n",
    "    model.step()\n",
    "                            \n",
    "print('The bounded confidence model ran for {} steps'.format(model.schedule.steps))"
   ]
  },
  {
   "cell_type": "markdown",
   "id": "025fa272",
   "metadata": {},
   "source": [
    "# 6. Run the Agent/Model Analysis"
   ]
  },
  {
   "cell_type": "markdown",
   "id": "affbea41",
   "metadata": {},
   "source": [
    "Now we can get the agent-engagement data:"
   ]
  },
  {
   "cell_type": "markdown",
   "id": "d9fa0ea3",
   "metadata": {},
   "source": [
    "**It is always a good practice to validate (debug) your model with visualizing agents behavior.**\n",
    "\n",
    "### At the location ``Create a plot for the engagement state of a single agent over the model steps [Your code here]`` you have to implement:\n",
    "\n",
    "- filter the data to select only one agent - using Pandas .xs method\n",
    "- plot the ``engaged`` state of that agent data you have collected"
   ]
  },
  {
   "cell_type": "code",
   "execution_count": 20,
   "id": "eb6b2a59",
   "metadata": {},
   "outputs": [
    {
     "data": {
      "text/html": [
       "<div>\n",
       "<style scoped>\n",
       "    .dataframe tbody tr th:only-of-type {\n",
       "        vertical-align: middle;\n",
       "    }\n",
       "\n",
       "    .dataframe tbody tr th {\n",
       "        vertical-align: top;\n",
       "    }\n",
       "\n",
       "    .dataframe thead th {\n",
       "        text-align: right;\n",
       "    }\n",
       "</style>\n",
       "<table border=\"1\" class=\"dataframe\">\n",
       "  <thead>\n",
       "    <tr style=\"text-align: right;\">\n",
       "      <th></th>\n",
       "      <th></th>\n",
       "      <th>Opinion</th>\n",
       "    </tr>\n",
       "    <tr>\n",
       "      <th>Step</th>\n",
       "      <th>AgentID</th>\n",
       "      <th></th>\n",
       "    </tr>\n",
       "  </thead>\n",
       "  <tbody>\n",
       "    <tr>\n",
       "      <th rowspan=\"5\" valign=\"top\">0</th>\n",
       "      <th>0</th>\n",
       "      <td>0.209998</td>\n",
       "    </tr>\n",
       "    <tr>\n",
       "      <th>1</th>\n",
       "      <td>0.111112</td>\n",
       "    </tr>\n",
       "    <tr>\n",
       "      <th>2</th>\n",
       "      <td>0.702600</td>\n",
       "    </tr>\n",
       "    <tr>\n",
       "      <th>3</th>\n",
       "      <td>0.623600</td>\n",
       "    </tr>\n",
       "    <tr>\n",
       "      <th>4</th>\n",
       "      <td>0.327662</td>\n",
       "    </tr>\n",
       "  </tbody>\n",
       "</table>\n",
       "</div>"
      ],
      "text/plain": [
       "               Opinion\n",
       "Step AgentID          \n",
       "0    0        0.209998\n",
       "     1        0.111112\n",
       "     2        0.702600\n",
       "     3        0.623600\n",
       "     4        0.327662"
      ]
     },
     "execution_count": 20,
     "metadata": {},
     "output_type": "execute_result"
    }
   ],
   "source": [
    "import pandas as pd\n",
    "\n",
    "agent_out = model.datacollector.get_agent_vars_dataframe()\n",
    "agent_out.head()"
   ]
  },
  {
   "cell_type": "code",
   "execution_count": 21,
   "id": "8c8fda38",
   "metadata": {},
   "outputs": [
    {
     "data": {
      "text/plain": [
       "<AxesSubplot:xlabel='Step', ylabel='Opinion'>"
      ]
     },
     "execution_count": 21,
     "metadata": {},
     "output_type": "execute_result"
    },
    {
     "data": {
      "image/png": "[encoded data removed]",
      "text/plain": [
       "<Figure size 432x288 with 1 Axes>"
      ]
     },
     "metadata": {
      "needs_background": "light"
     },
     "output_type": "display_data"
    }
   ],
   "source": [
    "# Create a scatter plot for the opinion state of all agents over the model steps [Your code here]\n",
    "agent_out.reset_index(level='Step', inplace=True)\n",
    "agent_out.plot.scatter(x = 'Step', y = 'Opinion')"
   ]
  },
  {
   "cell_type": "markdown",
   "id": "18313f8e",
   "metadata": {},
   "source": [
    "## Question 1\n",
    "\n",
    "In previous steps you have visualized the bounded confidence model analysis for a high opinion difference treshold (e.g., ``treshold = 0.5``).\n",
    "Now re-run the analysis for a low opinion difference treshold (e.g., ``treshold = 0.15``) and observe the difference in proportion of converged agents over all agents.\n",
    "\n",
    "- Qualitatively describe what is this difference between these two outcomes and why?\n",
    "- Do you notice polarization of opinion?\n",
    "\n",
    "Put your code in the Answer 1.1 box below.\n",
    "\n",
    "Put your text in the Answer 1.2 box below."
   ]
  },
  {
   "cell_type": "code",
   "execution_count": 22,
   "id": "e46b1654",
   "metadata": {},
   "outputs": [
    {
     "data": {
      "text/plain": [
       "<AxesSubplot:xlabel='Step', ylabel='Opinion'>"
      ]
     },
     "execution_count": 22,
     "metadata": {},
     "output_type": "execute_result"
    },
    {
     "data": {
      "image/png": "[encoded data removed]",
      "text/plain": [
       "<Figure size 432x288 with 1 Axes>"
      ]
     },
     "metadata": {
      "needs_background": "light"
     },
     "output_type": "display_data"
    }
   ],
   "source": [
    "model = BoundedConfidenceModelAnalysis(1000, 0.15, 0.5)# < Add model parameters [Your code here] )\n",
    "\n",
    "while model.running and model.schedule.steps < 100:\n",
    "    model.step()\n",
    "                            \n",
    "agent_out = model.datacollector.get_agent_vars_dataframe()\n",
    "agent_out.reset_index(level='Step', inplace=True)\n",
    "agent_out.plot.scatter(x = 'Step', y = 'Opinion')"
   ]
  },
  {
   "cell_type": "markdown",
   "id": "7097ec3c",
   "metadata": {},
   "source": [
    "## Answer 1.2\n",
    "\n",
    "[Your text answer here]\n",
    "\n",
    "Convergence of opinions is observed, but uniformity is only achieved for the larger value of d.\n",
    "\n",
    "The results are not very different from those observed with non-local opinion mix- ing described in the previous section, at least for the larger values of (d > 0.3). As seen on figure 5 the lattice is filled with a large majority of agents which have reached consensus around 0.5 apart from isolated agents which have “extremists” opin- ions closer to 0 or 1: the importance of extremists is the most noticeable difference with the full mxing case described in the previous section.\n",
    "\n",
    "Interesting differences are noticeable for the smaller values of d < 0.3 as observed in figure 6. When several values are possible for clusters of converging opinions, consensus is can only be reached on connected clusters of agents."
   ]
  },
  {
   "cell_type": "markdown",
   "id": "d4ceb01b",
   "metadata": {},
   "source": [
    "Q2: Task 3 Figure 1, 2, 3:\n",
    "- display the time evolution of opinions among a population \n",
    "- Another way to follow agents opinion dynamics is to plot final opinions as a func- tion of initial opinions.\n",
    "- A large number of simulations were carried out and we found that the qualitative dynamics mostly depend on the threshold . and only influence convergence time and the width of the distribution of final opinions (when a large number of different random sampling are made). controls the number of peaks of the final distribution of opinions as shown in figure 4.\n",
    "\n",
    "Implement the bounded confidence model in which agents interact in random pairs with their neighbours. Start the opinions of agents sampled from a uniform distribution and simulate the model for N = 100 agents, tolerance\n",
    "threshold of d = 0.2, and attraction parameter ζ = 0.5. Visualize the evolution of opinions of agents\n",
    "for 10000 iterations (you do not need to plot each iteration). Generate at least 10 visualizations of a\n",
    "simulation.\n",
    "\n",
    "- Do you always get the same number of groups?\n",
    "- What is the most typical number of groups that you get?\n",
    "- Do you ever get consensus?\n",
    "- Can you identify ”wings” of agents that get stuck towards the ends of the opinion scale?\n"
   ]
  },
  {
   "cell_type": "markdown",
   "id": "8500ae23",
   "metadata": {},
   "source": [
    "Q3: Repeat the above simulation 10 times for values of d from 0.1 to 0.6 by increases of 0.05. Implement a\n",
    "function to automatically count the number of groups by rounding the opinions to 2 decimal digits and\n",
    "counting unique values, so that you can get the number of groups after each simulation. Plot the number\n",
    "of groups versus d for each simulation.\n",
    "\n",
    "- What is the approximate relationship between the final number of groups and d?\n",
    "- Do you sometimes have more groups than you expected? Why?\n",
    "- Are there any values for which you always get consensus?\n"
   ]
  },
  {
   "cell_type": "markdown",
   "id": "d172aa3e",
   "metadata": {},
   "source": []
  },
  {
   "cell_type": "markdown",
   "id": "3429e4c2",
   "metadata": {},
   "source": [
    "# 7. Create iteration Batch of the Agent/Model"
   ]
  },
  {
   "cell_type": "markdown",
   "id": "cf309e66",
   "metadata": {},
   "source": [
    "### Batch Run\n",
    "\n",
    "Like we mentioned above, you usually won’t run a model only once, but\n",
    "multiple times, with fixed parameters to find the overall distributions\n",
    "the model generates, and with varying parameters to analyze how they\n",
    "drive the model’s outputs and behaviors. Instead of needing to write\n",
    "nested for-loops for each model, Mesa provides a ``batch_run`` function\n",
    "which automates it for you.\n",
    "\n",
    "The batch runner also requires an additional variable ``self.running``\n",
    "for the Model class. This variable enables conditional shut off of\n",
    "the model once a condition is met."
   ]
  },
  {
   "cell_type": "markdown",
   "id": "a1ff93d0",
   "metadata": {},
   "source": [
    "### At the location ``# < Add model parameters [Your code here]`` you have to implement:\n",
    "\n",
    "- specify all model-level parameters of its __init__ function\n",
    "- number of agents is given already as 100\n",
    "- specify: ``mu = 0.25`` and ``sigma`` as [0.0, 1.0, equally spaced 11 values]\n",
    "\n",
    "**Hint**: instead of using python's ``range()`` method that returns integer values, you can use ``linspace()`` method from the numpy lbrary as follows:\n",
    "\n",
    "``\n",
    "import numpy as np\n",
    "np.linspace(0,1,11)\n",
    "``"
   ]
  },
  {
   "cell_type": "code",
   "execution_count": 23,
   "id": "75c43d94",
   "metadata": {},
   "outputs": [],
   "source": [
    "import numpy as np\n",
    "\n",
    "params = {\"N\": 100, \"mu\": 0.25, \"sigma\": np.linspace(0,1,11)} # < Add model parameters [Your code here] } "
   ]
  },
  {
   "cell_type": "markdown",
   "id": "1610fad0",
   "metadata": {},
   "source": [
    "# 8. Run the Agent/Model Batch"
   ]
  },
  {
   "cell_type": "markdown",
   "id": "753def0c",
   "metadata": {},
   "source": [
    "### Running the model\n",
    "\n",
    "We call ``batch_run`` with the following arguments:\n",
    "\n",
    "* ``model_cls``\n",
    "\n",
    "  The model class that is used for the batch run.\n",
    "\n",
    "* ``parameters``\n",
    "\n",
    "  A dictionary containing all the parameters of the model class and\n",
    "  desired values to use for the batch run as key-value pairs. Each\n",
    "  value can either be fixed ( e.g. ``{\"height\": 10, \"width\": 10}``)\n",
    "  or an iterable (e.g. ``{\"homophily\": range(0,100, 13)}``). ``batch_run``\n",
    "  will then generate all possible parameter combinations based on this\n",
    "  dictionary and run the model ``iterations`` times for each combination.\n",
    "\n",
    "* ``number_processes``\n",
    "\n",
    "  Number of processors used to run the sweep in parallel. Optional.\n",
    "  If not specified, defaults to use all the available processors.\n",
    "\n",
    "  Note: Multiprocessing does make debugging challenging. If your\n",
    "  parameter sweeps are resulting in unexpected errors set ``number_processes = 1``.\n",
    "  \n",
    "  Also, if your batcher is stuck and is not running for some reason, try also setting ``number_processes = 1``, since this issue might also be related to multiprocessing issues.\n",
    "\n",
    "* ``iterations``\n",
    "\n",
    "  The number of iterations to run each parameter combination for. Optional.\n",
    "  If not specified, defaults to 1.\n",
    "\n",
    "* ``data_collection_period``\n",
    "\n",
    "  The length of the period (number of steps) after which the model and\n",
    "  agent reporters collect data. Optional. If not specified, defaults to -1,\n",
    "  i.e. only at the end of each episode.\n",
    "\n",
    "* ``max_steps``\n",
    "\n",
    "  The maximum number of time steps after which the model halts. An episode\n",
    "  does either end when ``self.running`` of the model class is set to\n",
    "  ``False`` or when ``model.schedule.steps == max_steps`` is reached.\n",
    "  Optional. If not specified, defaults to 1000.\n",
    "\n",
    "* ``display_progress``\n",
    "\n",
    "  Display the batch run progress. Optional. If not specified, defaults to ``True``.\n",
    "\n",
    "In the following example, we hold the height and width fixed, and vary\n",
    "the homophily treshold of agents. We tell the batch runner to run 10 instantiations\n",
    "of the model with each number of agents, and to run each for 200 steps.\n",
    "\n",
    "At the last step of the model (i.e., `data_collection_period=-1`), the datacollector will collect and store the model-level proportion of engaged agents, as well as each agent’s engaged state, associating each with the last step."
   ]
  },
  {
   "cell_type": "code",
   "execution_count": null,
   "id": "c5912da5",
   "metadata": {},
   "outputs": [],
   "source": [
    "# If your batcher is stuck and is not running for some reason, try setting number_processes = 1\n",
    "\n",
    "from mesa.batchrunner import batch_run\n",
    "\n",
    "results = batch_run(\n",
    "    GranovetterModelAnalysis,\n",
    "    parameters=params,\n",
    "    iterations=10,\n",
    "    max_steps=100,\n",
    "    number_processes=None,\n",
    "    data_collection_period=-1,\n",
    "    display_progress=True,\n",
    ")"
   ]
  },
  {
   "cell_type": "markdown",
   "id": "e7791f2b",
   "metadata": {},
   "source": [
    "# 9. Run the Batch data Analysis"
   ]
  },
  {
   "cell_type": "markdown",
   "id": "38a1ff71",
   "metadata": {},
   "source": [
    "### Data visualization\n",
    "\n",
    "First, we want to take a closer look at how the engagement ratio at the end of each episode changes as we increase the standard deviation (sigma) of the engagement tresholds distribution.\n",
    "For this, we group our data on the ``RunId`` identifier and get a single value per ``RunId`` using a median.\n",
    "Our results to only contain the data of engagement ratio for the entire population at the final step of each episode and then box-plot the values for the engagement ratio over the standard deviation of engagement tresholds.\n",
    "Notice there are 10 values for each sigma value since we set ``iterations=10`` when calling the batch run."
   ]
  },
  {
   "cell_type": "code",
   "execution_count": 24,
   "id": "58ef6bbd",
   "metadata": {},
   "outputs": [
    {
     "ename": "NameError",
     "evalue": "name 'results' is not defined",
     "output_type": "error",
     "traceback": [
      "\u001b[0;31m---------------------------------------------------------------------------\u001b[0m",
      "\u001b[0;31mNameError\u001b[0m                                 Traceback (most recent call last)",
      "\u001b[0;32m/tmp/ipykernel_15263/3096959036.py\u001b[0m in \u001b[0;36m<module>\u001b[0;34m\u001b[0m\n\u001b[1;32m      1\u001b[0m \u001b[0;32mimport\u001b[0m \u001b[0mpandas\u001b[0m \u001b[0;32mas\u001b[0m \u001b[0mpd\u001b[0m\u001b[0;34m\u001b[0m\u001b[0;34m\u001b[0m\u001b[0m\n\u001b[1;32m      2\u001b[0m \u001b[0;34m\u001b[0m\u001b[0m\n\u001b[0;32m----> 3\u001b[0;31m \u001b[0mresults_df\u001b[0m \u001b[0;34m=\u001b[0m \u001b[0mpd\u001b[0m\u001b[0;34m.\u001b[0m\u001b[0mDataFrame\u001b[0m\u001b[0;34m(\u001b[0m\u001b[0mresults\u001b[0m\u001b[0;34m)\u001b[0m\u001b[0;34m\u001b[0m\u001b[0;34m\u001b[0m\u001b[0m\n\u001b[0m\u001b[1;32m      4\u001b[0m \u001b[0mresults_df\u001b[0m\u001b[0;34m.\u001b[0m\u001b[0mhead\u001b[0m\u001b[0;34m(\u001b[0m\u001b[0;34m)\u001b[0m\u001b[0;34m\u001b[0m\u001b[0;34m\u001b[0m\u001b[0m\n",
      "\u001b[0;31mNameError\u001b[0m: name 'results' is not defined"
     ]
    }
   ],
   "source": [
    "import pandas as pd\n",
    "\n",
    "results_df = pd.DataFrame(results)\n",
    "results_df.head()"
   ]
  },
  {
   "cell_type": "code",
   "execution_count": 25,
   "id": "d8ba904d",
   "metadata": {},
   "outputs": [
    {
     "ename": "NameError",
     "evalue": "name 'results_df' is not defined",
     "output_type": "error",
     "traceback": [
      "\u001b[0;31m---------------------------------------------------------------------------\u001b[0m",
      "\u001b[0;31mNameError\u001b[0m                                 Traceback (most recent call last)",
      "\u001b[0;32m/tmp/ipykernel_15263/626563551.py\u001b[0m in \u001b[0;36m<module>\u001b[0;34m\u001b[0m\n\u001b[0;32m----> 1\u001b[0;31m \u001b[0mresults_df\u001b[0m\u001b[0;34m.\u001b[0m\u001b[0mgroupby\u001b[0m\u001b[0;34m(\u001b[0m\u001b[0mby\u001b[0m\u001b[0;34m=\u001b[0m\u001b[0;34m[\u001b[0m\u001b[0;34m\"RunId\"\u001b[0m\u001b[0;34m,\u001b[0m \u001b[0;34m\"iteration\"\u001b[0m\u001b[0;34m,\u001b[0m \u001b[0;34m\"Step\"\u001b[0m\u001b[0;34m]\u001b[0m\u001b[0;34m)\u001b[0m\u001b[0;34m.\u001b[0m\u001b[0mmedian\u001b[0m\u001b[0;34m(\u001b[0m\u001b[0;34m)\u001b[0m\u001b[0;34m\u001b[0m\u001b[0;34m\u001b[0m\u001b[0m\n\u001b[0m",
      "\u001b[0;31mNameError\u001b[0m: name 'results_df' is not defined"
     ]
    }
   ],
   "source": [
    "results_df.groupby(by=[\"RunId\", \"iteration\", \"Step\"]).median()"
   ]
  },
  {
   "cell_type": "code",
   "execution_count": null,
   "id": "2f257ffc",
   "metadata": {},
   "outputs": [],
   "source": [
    "import random\n",
    "import numpy as np\n",
    "\n",
    "from mesa import Agent, Model\n",
    "from mesa.time import RandomActivation, SimultaneousActivation\n",
    "from mesa.datacollection import DataCollector\n",
    "\n",
    "import networkx as nx"
   ]
  },
  {
   "cell_type": "code",
   "execution_count": null,
   "id": "e803b6d6",
   "metadata": {},
   "outputs": [],
   "source": [
    "# Agent\n",
    "\n",
    "class OpinionAgent(Agent):\n",
    "    def __init__(self, unique_id, model, pers, sup):\n",
    "        super().__init__(unique_id, model)\n",
    "        self.persuad = pers #np.random.randint(0, max_persuad)\n",
    "        self.support = sup #np.random.randint(0, max_support)\n",
    "        self.sigma_s = 0\n",
    "        self.sigma_p = 0\n",
    "\n",
    "    def interact(self):\n",
    "        agent_list = self.model.schedule.agents\n",
    "        agent_opinion = self.opinion\n",
    "        sigma_p = 0\n",
    "        sigma_s = 0\n",
    "        n = 0\n",
    "        for source_agent in agent_list:\n",
    "            immediacy = self.model.distance_func(self, source_agent)\n",
    "            if (source_agent.opinion == agent_opinion) and (immediacy != -1):  # -1 is for no connected\n",
    "                sigma_s += source_agent.support * 2 / (immediacy ** 2)  # 2 for (1+sig_i*sig_j\n",
    "            elif (source_agent.opinion != agent_opinion) and (immediacy != -1):\n",
    "                sigma_p += source_agent.persuad * 2 / (immediacy ** 2)  # 2 for (1-sig_i*sig_j\n",
    "            n += 1\n",
    "        return sigma_s, sigma_p\n",
    "\n",
    "    def step(self):\n",
    "        self.sigma_s, self.sigma_p = self.interact()\n",
    "\n",
    "    def advance(self):\n",
    "#        print(self.unique_id, ': Advance:')\n",
    "        rand_hi = random.uniform(-self.model.hi, self.model.hi)\n",
    "        if (self.sigma_p - self.sigma_s + rand_hi) > 0:\n",
    "            if self.opinion == 1:\n",
    "                self.opinion = -1\n",
    "                self.model.minus_opinion += 1\n",
    "                self.model.plus_opinion -= 1\n",
    "            elif self.opinion == -1:\n",
    "                self.opinion = +1\n",
    "                self.model.minus_opinion -= 1\n",
    "                self.model.plus_opinion += 1\n",
    "            else:\n",
    "                print(\"Incorrect opinion\")\n",
    "                exit(1)\n"
   ]
  },
  {
   "cell_type": "code",
   "execution_count": null,
   "id": "d1d4c2a1",
   "metadata": {},
   "outputs": [],
   "source": [
    "# Data collection\n",
    "\n",
    "def get_opinion_ratio(model):\n",
    "    '''\n",
    "    Find the % of agents that are of opinion.\n",
    "    '''\n",
    "    \n",
    "    N = model.Ag_num\n",
    "    opinion_n = model.plus_opinion\n",
    "    \n",
    "    return opinion_n / N"
   ]
  },
  {
   "cell_type": "code",
   "execution_count": null,
   "id": "5a22ca4b",
   "metadata": {},
   "outputs": [],
   "source": [
    "# Model\n",
    "\n",
    "class OpinionModel(Model):\n",
    "    \"\"\"A model with some number of agents.\"\"\"\n",
    "    def __init__(self, Ag, distribution, beta, rand_seed, hi_param):\n",
    "        self.Ag_num = Ag\n",
    "        self.pers_sup_dist = distribution\n",
    "        self.hi = hi_param  # to generate uniform(-hi,hi)\n",
    "\n",
    "        random.seed(rand_seed*9 +3)  # Generate different random seeds\n",
    "        np.random.seed(rand_seed*9 + 3)  # Generate different random seeds\n",
    "        self.running = True\n",
    "\n",
    "        self.self_distance = 1\n",
    "        self.pers_sup_max = 100\n",
    "        self.distance = 1\n",
    "\n",
    "        self.step_counter = 0\n",
    "        self.step_list = []\n",
    "        self.beta_final_num_list = []\n",
    "\n",
    "        self.set_opinions_degrees(beta)\n",
    "\n",
    "        self.schedule = SimultaneousActivation(self)\n",
    "        \n",
    "        self.datacollector = DataCollector(    # < Note that we have both an agent and model data collector\n",
    "            model_reporters={\"Plus_opinion\": get_opinion_ratio}, agent_reporters={\"Opinion\": \"opinion\"}\n",
    "        )\n",
    "        \n",
    "        # Create agents\n",
    "        for x in range(Ag):\n",
    "            pers, sup = self.set_pers_sup(x)\n",
    "            a = OpinionAgent(x, self, pers, sup)\n",
    "            a.opinion = self.opinion_array[x]\n",
    "            self.schedule.add(a)\n",
    "\n",
    "    def set_opinions_degrees(self, beta):\n",
    "        self.opinion_array = np.ones(self.Ag_num, int)\n",
    "        self.dmax = 0\n",
    "\n",
    "        self.G = nx.barabasi_albert_graph(self.Ag_num, 2)  # barabasi_albert parameter = 2\n",
    "        self.degree = self.G.degree()\n",
    "        node_degree = [self.degree[i] for i in range(len(self.degree))]\n",
    "        sort_index = np.argsort(node_degree)  # Ascending, needed for 'BA_most_deg'\n",
    "        sort_index = [sort_index[-i] for i in range(1, len(sort_index) + 1)]  # Descending\n",
    "        self.dmax = node_degree[sort_index[0]] # I debugged it, node-degree was forgotted\n",
    "        for i in range(int(self.Ag_num * beta / 100)):\n",
    "            self.opinion_array[i] = -1\n",
    "        self.minus_opinion = int(self.Ag_num * beta / 100)\n",
    "        self.plus_opinion = self.Ag_num - self.minus_opinion\n",
    "        np.random.shuffle(self.opinion_array)\n",
    "\n",
    "    def set_pers_sup(self, i):\n",
    "        if self.pers_sup_dist == 'uniform':\n",
    "            return random.uniform(0, self.pers_sup_max), random.uniform(0, self.pers_sup_max)\n",
    "        elif self.pers_sup_dist == 'deg_ratio':\n",
    "            return round(self.pers_sup_max * self.degree[i] / self.dmax), \\\n",
    "                   round(self.pers_sup_max * self.degree[i] / self.dmax)\n",
    "        else:\n",
    "            print(\"incorrect parameter for set_pers_sup\")\n",
    "\n",
    "    def distance_func(self, d_agent, s_agent):\n",
    "        if d_agent.unique_id == s_agent.unique_id:\n",
    "            return self.self_distance\n",
    "        elif self.G.has_edge(s_agent.unique_id, d_agent.unique_id):\n",
    "            return self.distance # distance between two connected nodes is supposed 1\n",
    "        else:\n",
    "            return -1 # means no connection\n",
    "\n",
    "    def step(self):\n",
    "        self.datacollector.collect(self)\n",
    "        \n",
    "        self.schedule.step()\n",
    "        self.step_counter += 1\n",
    "        self.step_list.append(self.step_counter)\n",
    "        self.beta_final_num_list.append(self.minus_opinion)\n"
   ]
  },
  {
   "cell_type": "code",
   "execution_count": null,
   "id": "3a811c45",
   "metadata": {},
   "outputs": [],
   "source": [
    "# Test the model\n",
    "\n",
    "ag_num = 1000  # Number of agents\n",
    "hi = 1000\n",
    "beta = 20\n",
    "seed=15\n",
    "\n",
    "model = OpinionModel(Ag=ag_num, distribution='uniform', beta=beta, rand_seed=seed, hi_param=hi)\n",
    "for i in range(100):\n",
    "    model.step()"
   ]
  },
  {
   "cell_type": "code",
   "execution_count": null,
   "id": "1d91d1bc",
   "metadata": {},
   "outputs": [],
   "source": [
    "# Show results\n",
    "\n",
    "model_data = model.datacollector.get_model_vars_dataframe()\n",
    "model_data.Plus_opinion.plot()"
   ]
  },
  {
   "cell_type": "code",
   "execution_count": null,
   "id": "a589de95",
   "metadata": {},
   "outputs": [],
   "source": [
    "opinions = model.datacollector.get_agent_vars_dataframe()\n",
    "opinions.head()"
   ]
  },
  {
   "cell_type": "markdown",
   "id": "bf4d09b7",
   "metadata": {},
   "source": [
    "## Basic model - Mixing beliefs among interacting agents"
   ]
  },
  {
   "cell_type": "code",
   "execution_count": null,
   "id": "24cf189e",
   "metadata": {},
   "outputs": [],
   "source": [
    "# Basic Agent\n",
    "\n",
    "class OpinionAgent(Agent):\n",
    "    def __init__(self, unique_id, model, treshold, convergence, opinion):\n",
    "        super().__init__(unique_id, model)\n",
    "        self.treshold = treshold\n",
    "        self.convergence = convergence\n",
    "        self.opinion = opinion\n",
    "\n",
    "    def step(self):\n",
    "        other_agent = self.random.choice(self.model.schedule.agents)\n",
    "        opinions_distance = abs(self.opinion - other_agent.opinion)\n",
    "        if opinions_distance < self.treshold:\n",
    "            other_agent.opinion = other_agent.opinion + other_agent.convergence * (self.opinion - other_agent.opinion)\n",
    "            self.opinion = self.opinion + self.convergence * (other_agent.opinion - self.opinion)\n"
   ]
  },
  {
   "cell_type": "code",
   "execution_count": null,
   "id": "48037d94",
   "metadata": {},
   "outputs": [],
   "source": [
    "# Basic Model\n",
    "\n",
    "class OpinionModel(Model):\n",
    "    \"\"\"A model with some number of agents.\"\"\"\n",
    "    def __init__(self, Ag, treshold, convergence):\n",
    "        self.Ag_num = Ag\n",
    "        self.treshold = treshold\n",
    "        self.convergence = convergence\n",
    "\n",
    "        self.schedule = RandomActivation(self)\n",
    "        \n",
    "        self.datacollector = DataCollector(    # < Note that we have both an agent and model data collector\n",
    "            model_reporters={\"Treshold\": \"treshold\"}, agent_reporters={\"Opinion\": \"opinion\"}\n",
    "        )\n",
    "        \n",
    "        # Create agents\n",
    "        for x in range(Ag):\n",
    "            a = OpinionAgent(x, self, treshold, convergence, random.random())\n",
    "            self.schedule.add(a)\n",
    "\n",
    "    def step(self):\n",
    "        self.datacollector.collect(self)\n",
    "        \n",
    "        self.schedule.step()\n"
   ]
  },
  {
   "cell_type": "code",
   "execution_count": null,
   "id": "78b96b01",
   "metadata": {},
   "outputs": [],
   "source": [
    "# Test the basic model\n",
    "\n",
    "ag_num = 1000  # Number of agents\n",
    "tresh_d = 0.5 # 0.2 Opinions distance treshold\n",
    "conver_mu = 0.5\n",
    "\n",
    "model = OpinionModel(Ag=ag_num, treshold=tresh_d, convergence=conver_mu)\n",
    "for i in range(100):\n",
    "    model.step()"
   ]
  },
  {
   "cell_type": "code",
   "execution_count": null,
   "id": "98fd1ab5",
   "metadata": {},
   "outputs": [],
   "source": [
    "# Show results\n",
    "\n",
    "opinions = model.datacollector.get_agent_vars_dataframe()\n",
    "opinions.reset_index(level='Step', inplace=True)\n",
    "opinions.plot.scatter(x = 'Step', y = 'Opinion')"
   ]
  },
  {
   "cell_type": "code",
   "execution_count": null,
   "id": "e3192428",
   "metadata": {},
   "outputs": [],
   "source": [
    "# Basic Agent with Space\n",
    "\n",
    "from mesa.space import SingleGrid\n",
    "\n",
    "class OpinionAgent(Agent):\n",
    "    def __init__(self, unique_id, pos, model, treshold, convergence, opinion):\n",
    "        super().__init__(pos, model)\n",
    "        self.treshold = treshold\n",
    "        self.convergence = convergence\n",
    "        self.opinion = opinion\n",
    "\n",
    "        self.pos = pos\n",
    "        \n",
    "    def step(self):\n",
    "        neighbors = self.model.grid.neighbor_iter(self.pos, moore=False)\n",
    "        other_agent = self.random.choice(list(neighbors))\n",
    "        opinions_distance = abs(self.opinion - other_agent.opinion)\n",
    "        if opinions_distance < self.treshold:\n",
    "            other_agent.opinion = other_agent.opinion + other_agent.convergence * (self.opinion - other_agent.opinion)\n",
    "            self.opinion = self.opinion + self.convergence * (other_agent.opinion - self.opinion)\n"
   ]
  },
  {
   "cell_type": "code",
   "execution_count": null,
   "id": "376eec21",
   "metadata": {},
   "outputs": [],
   "source": [
    "# Basic Model\n",
    "\n",
    "class OpinionModel(Model):\n",
    "    \"\"\"A model with some number of agents.\"\"\"\n",
    "    def __init__(self, height, width, Ag, treshold, convergence):\n",
    "        self.Ag_num = Ag\n",
    "        self.treshold = treshold\n",
    "        self.convergence = convergence\n",
    "\n",
    "        self.schedule = RandomActivation(self)\n",
    "        self.grid = SingleGrid(height, width, torus=True)\n",
    "        \n",
    "        self.datacollector = DataCollector(    # < Note that we have both an agent and model data collector\n",
    "            model_reporters={\"Treshold\": \"treshold\"}, agent_reporters={\"Opinion\": \"opinion\"}\n",
    "        )\n",
    "        \n",
    "        # Create agents\n",
    "        id_count = 0\n",
    "        for cell in self.grid.coord_iter():\n",
    "            x = cell[1]\n",
    "            y = cell[2]\n",
    "            a = OpinionAgent(id_count, (x, y), self, treshold, convergence, random.random())\n",
    "            self.grid.position_agent(a, (x, y))\n",
    "            self.schedule.add(a)\n",
    "            id_count = id_count + 1\n",
    "\n",
    "    def step(self):\n",
    "        self.datacollector.collect(self)\n",
    "        self.schedule.step()\n"
   ]
  },
  {
   "cell_type": "code",
   "execution_count": null,
   "id": "9a2f6bdf",
   "metadata": {},
   "outputs": [],
   "source": [
    "# Test the basic model\n",
    "\n",
    "ag_num = 1000  # Number of agents\n",
    "tresh_d = 0.3 # 0.2 Opinions distance treshold\n",
    "conver_mu = 0.3\n",
    "\n",
    "height = 29\n",
    "width = 29\n",
    "    \n",
    "model = OpinionModel(height=height, width=width, Ag=ag_num, treshold=tresh_d, convergence=conver_mu)\n",
    "for i in range(1000):\n",
    "    model.step()"
   ]
  },
  {
   "cell_type": "code",
   "execution_count": null,
   "id": "c796072e",
   "metadata": {},
   "outputs": [],
   "source": [
    "# Show results\n",
    "\n",
    "opinions = model.datacollector.get_agent_vars_dataframe()\n",
    "opinions.reset_index(level='Step', inplace=True)\n",
    "opinions.plot.scatter(x = 'Step', y = 'Opinion')"
   ]
  },
  {
   "cell_type": "markdown",
   "id": "1a61123c",
   "metadata": {},
   "source": [
    "Task: There is a PDF and R code on tasks needed to be done."
   ]
  },
  {
   "cell_type": "markdown",
   "id": "69b2e9aa",
   "metadata": {},
   "source": [
    "# Appendix - visualization using grid space\n",
    "\n",
    "If we would like to visalize this opinion dynamics model, we need to consider that agents only interact among connected agents when their opinion are already close enough; otherwise they do not even bother to discuss.\n",
    "\n",
    "We now add to our model a condition on neighborhood: agents only interact if they are directly con- nected through a social pre-existing relation. Any agent can only interact with his four connected neighbours ( N, S, E and W) - von Neuman."
   ]
  },
  {
   "cell_type": "markdown",
   "id": "15d30a76",
   "metadata": {},
   "source": [
    "## Adding space\n",
    "\n",
    "Many ABMs have a spatial element, with agents moving around and\n",
    "interacting with nearby neighbors. Mesa currently supports two overall\n",
    "kinds of spaces: grid, and continuous. Grids are divided into cells, and\n",
    "agents can only be on a particular cell, like pieces on a chess board.\n",
    "Continuous space, in contrast, allows agents to have any arbitrary\n",
    "position. Both grids and continuous spaces are frequently\n",
    "[toroidal](https://en.wikipedia.org/wiki/Toroidal_graph), meaning\n",
    "that the edges wrap around, with cells on the right edge connected to\n",
    "those on the left edge, and the top to the bottom. This prevents some\n",
    "cells having fewer neighbors than others, or agents being able to go off\n",
    "the edge of the environment.\n",
    "\n",
    "Let’s add a simple spatial element to our model by putting our agents on\n",
    "a grid and make them walk around based on the happines and homophily tershold.\n",
    "\n",
    "Mesa has two main types of grids: ``SingleGrid`` and ``MultiGrid``.\n",
    "``SingleGrid`` enforces at most one agent per cell; ``MultiGrid`` allows\n",
    "multiple agents to be in the same cell. Since we want one agent per cell, we use ``SingleGrid``.\n",
    "\n",
    "`from mesa.space import SingleGrid`\n",
    "\n",
    "We instantiate a grid with width and height parameters, and a boolean as\n",
    "to whether the grid is toroidal. Let’s make width and height model\n",
    "parameters, in addition to the number of agents, and have the grid\n",
    "always be toroidal. We can place agents on a grid with the grid’s\n",
    "``position_agent`` method, which takes an agent and an (x, y) tuple of the\n",
    "coordinates to place the agent.\n",
    "\n",
    "Under the hood, each agent’s position is stored in two ways: the agent\n",
    "is contained in the grid in the cell it is currently in, and the agent\n",
    "has a ``pos`` variable with an (x, y) coordinate tuple. The\n",
    "``position_agent`` method adds the coordinate to the agent automatically."
   ]
  },
  {
   "cell_type": "markdown",
   "id": "1ab5e8fd",
   "metadata": {},
   "source": [
    "# 3. Visualize the Agent/Model"
   ]
  },
  {
   "cell_type": "markdown",
   "id": "7a3ba64b",
   "metadata": {},
   "source": [
    "### At the location ``# Model parameters``:\n",
    "\n",
    "- specify all model-level parameters of its __init__ function\n",
    "- height and width are given already as 20 x 20, as well as density and minority proportion\n",
    "- given: homophily treshold 20%"
   ]
  },
  {
   "cell_type": "code",
   "execution_count": 5,
   "id": "9a1ee24c",
   "metadata": {},
   "outputs": [
    {
     "ename": "TypeError",
     "evalue": "__init__() got an unexpected keyword argument 'width'",
     "output_type": "error",
     "traceback": [
      "\u001b[0;31m---------------------------------------------------------------------------\u001b[0m",
      "\u001b[0;31mTypeError\u001b[0m                                 Traceback (most recent call last)",
      "\u001b[0;32m/tmp/ipykernel_15263/2261609420.py\u001b[0m in \u001b[0;36m<module>\u001b[0;34m\u001b[0m\n\u001b[1;32m     15\u001b[0m \u001b[0;34m\u001b[0m\u001b[0m\n\u001b[1;32m     16\u001b[0m \u001b[0mgrid\u001b[0m \u001b[0;34m=\u001b[0m \u001b[0mCanvasGrid\u001b[0m\u001b[0;34m(\u001b[0m\u001b[0magent_portrayal\u001b[0m\u001b[0;34m,\u001b[0m \u001b[0;36m30\u001b[0m\u001b[0;34m,\u001b[0m \u001b[0;36m30\u001b[0m\u001b[0;34m,\u001b[0m \u001b[0;36m500\u001b[0m\u001b[0;34m,\u001b[0m \u001b[0;36m500\u001b[0m\u001b[0;34m)\u001b[0m\u001b[0;34m\u001b[0m\u001b[0;34m\u001b[0m\u001b[0m\n\u001b[0;32m---> 17\u001b[0;31m server = ModularServer(BoundedConfidenceModelBasic,\n\u001b[0m\u001b[1;32m     18\u001b[0m                        \u001b[0;34m[\u001b[0m\u001b[0mgrid\u001b[0m\u001b[0;34m]\u001b[0m\u001b[0;34m,\u001b[0m\u001b[0;34m\u001b[0m\u001b[0;34m\u001b[0m\u001b[0m\n\u001b[1;32m     19\u001b[0m                        \u001b[0;34m\"Schelling Model\"\u001b[0m\u001b[0;34m,\u001b[0m\u001b[0;34m\u001b[0m\u001b[0;34m\u001b[0m\u001b[0m\n",
      "\u001b[0;32m~/.local/lib/python3.8/site-packages/mesa/visualization/ModularVisualization.py\u001b[0m in \u001b[0;36m__init__\u001b[0;34m(self, model_cls, visualization_elements, name, model_params)\u001b[0m\n\u001b[1;32m    284\u001b[0m \u001b[0;34m\u001b[0m\u001b[0m\n\u001b[1;32m    285\u001b[0m         \u001b[0mself\u001b[0m\u001b[0;34m.\u001b[0m\u001b[0mmodel_kwargs\u001b[0m \u001b[0;34m=\u001b[0m \u001b[0mmodel_params\u001b[0m\u001b[0;34m\u001b[0m\u001b[0;34m\u001b[0m\u001b[0m\n\u001b[0;32m--> 286\u001b[0;31m         \u001b[0mself\u001b[0m\u001b[0;34m.\u001b[0m\u001b[0mreset_model\u001b[0m\u001b[0;34m(\u001b[0m\u001b[0;34m)\u001b[0m\u001b[0;34m\u001b[0m\u001b[0;34m\u001b[0m\u001b[0m\n\u001b[0m\u001b[1;32m    287\u001b[0m \u001b[0;34m\u001b[0m\u001b[0m\n\u001b[1;32m    288\u001b[0m         \u001b[0;31m# Initializing the application itself:\u001b[0m\u001b[0;34m\u001b[0m\u001b[0;34m\u001b[0m\u001b[0;34m\u001b[0m\u001b[0m\n",
      "\u001b[0;32m~/.local/lib/python3.8/site-packages/mesa/visualization/ModularVisualization.py\u001b[0m in \u001b[0;36mreset_model\u001b[0;34m(self)\u001b[0m\n\u001b[1;32m    312\u001b[0m                 \u001b[0mmodel_params\u001b[0m\u001b[0;34m[\u001b[0m\u001b[0mkey\u001b[0m\u001b[0;34m]\u001b[0m \u001b[0;34m=\u001b[0m \u001b[0mval\u001b[0m\u001b[0;34m\u001b[0m\u001b[0;34m\u001b[0m\u001b[0m\n\u001b[1;32m    313\u001b[0m \u001b[0;34m\u001b[0m\u001b[0m\n\u001b[0;32m--> 314\u001b[0;31m         \u001b[0mself\u001b[0m\u001b[0;34m.\u001b[0m\u001b[0mmodel\u001b[0m \u001b[0;34m=\u001b[0m \u001b[0mself\u001b[0m\u001b[0;34m.\u001b[0m\u001b[0mmodel_cls\u001b[0m\u001b[0;34m(\u001b[0m\u001b[0;34m**\u001b[0m\u001b[0mmodel_params\u001b[0m\u001b[0;34m)\u001b[0m\u001b[0;34m\u001b[0m\u001b[0;34m\u001b[0m\u001b[0m\n\u001b[0m\u001b[1;32m    315\u001b[0m \u001b[0;34m\u001b[0m\u001b[0m\n\u001b[1;32m    316\u001b[0m     \u001b[0;32mdef\u001b[0m \u001b[0mrender_model\u001b[0m\u001b[0;34m(\u001b[0m\u001b[0mself\u001b[0m\u001b[0;34m)\u001b[0m\u001b[0;34m:\u001b[0m\u001b[0;34m\u001b[0m\u001b[0;34m\u001b[0m\u001b[0m\n",
      "\u001b[0;31mTypeError\u001b[0m: __init__() got an unexpected keyword argument 'width'"
     ]
    }
   ],
   "source": [
    "from mesa.visualization.modules import CanvasGrid\n",
    "from mesa.visualization.ModularVisualization import ModularServer\n",
    "\n",
    "\n",
    "def agent_portrayal(agent):\n",
    "    portrayal = {\"Shape\": \"circle\",\n",
    "                 \"Filled\": \"true\",\n",
    "                 \"Layer\": 0,\n",
    "                 \"r\": 0.8}\n",
    "    \n",
    "    # 1 Color the agents based on their type to Red and Blue color\n",
    "    portrayal[\"Color\"] = \"rgba(\"+ str(agent.opinion * 256) +\",128,128,1.0)\"\n",
    "        \n",
    "    return portrayal\n",
    "\n",
    "grid = CanvasGrid(agent_portrayal, 30, 30, 500, 500)\n",
    "server = ModularServer(BoundedConfidenceModelBasic,\n",
    "                       [grid],\n",
    "                       \"Schelling Model\",\n",
    "                       {\"width\":30, \"height\":30, \"treshold\":0.2, \"convergence\":0.5}) # Model parameters"
   ]
  },
  {
   "cell_type": "markdown",
   "id": "89b74f7c",
   "metadata": {},
   "source": [
    "# 4. Run the Agent/Model Visualization\n",
    "\n",
    "NOTE: Runtime server error is normal and expected when running visualization code below. This visualization code was made for command line execution (not explicitly for Jupyter Notebooks), so we are **forcing** it's use.\n",
    "\n",
    "Just make sure to increment the port number counter each visualization run, to be able to use it."
   ]
  },
  {
   "cell_type": "code",
   "execution_count": null,
   "id": "1f4fd66b",
   "metadata": {},
   "outputs": [],
   "source": [
    "server.port = 8529 # The default 8521 - increase the counter as you run the visalizations\n",
    "#server.launch() # Uncomment to run the visalization"
   ]
  }
 ],
 "metadata": {
  "kernelspec": {
   "display_name": "Python 3 (ipykernel)",
   "language": "python",
   "name": "python3"
  },
  "language_info": {
   "codemirror_mode": {
    "name": "ipython",
    "version": 3
   },
   "file_extension": ".py",
   "mimetype": "text/x-python",
   "name": "python",
   "nbconvert_exporter": "python",
   "pygments_lexer": "ipython3",
   "version": "3.8.10"
  }
 },
 "nbformat": 4,
 "nbformat_minor": 5
}
