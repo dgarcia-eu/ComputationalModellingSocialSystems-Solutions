{
 "cells": [
  {
   "cell_type": "markdown",
   "id": "ceb250dd",
   "metadata": {},
   "source": [
    "# Bounded confidence model"
   ]
  },
  {
   "cell_type": "markdown",
   "id": "f28adc94",
   "metadata": {},
   "source": []
  },
  {
   "cell_type": "code",
   "execution_count": 1,
   "id": "2f257ffc",
   "metadata": {},
   "outputs": [],
   "source": [
    "import random\n",
    "import numpy as np\n",
    "\n",
    "from mesa import Agent, Model\n",
    "from mesa.time import RandomActivation, SimultaneousActivation\n",
    "from mesa.datacollection import DataCollector\n",
    "\n",
    "import networkx as nx"
   ]
  },
  {
   "cell_type": "code",
   "execution_count": 2,
   "id": "e803b6d6",
   "metadata": {},
   "outputs": [],
   "source": [
    "# Agent\n",
    "\n",
    "class OpinionAgent(Agent):\n",
    "    def __init__(self, unique_id, model, pers, sup):\n",
    "        super().__init__(unique_id, model)\n",
    "        self.persuad = pers #np.random.randint(0, max_persuad)\n",
    "        self.support = sup #np.random.randint(0, max_support)\n",
    "        self.sigma_s = 0\n",
    "        self.sigma_p = 0\n",
    "\n",
    "    def interact(self):\n",
    "        agent_list = self.model.schedule.agents\n",
    "        agent_opinion = self.opinion\n",
    "        sigma_p = 0\n",
    "        sigma_s = 0\n",
    "        n = 0\n",
    "        for source_agent in agent_list:\n",
    "            immediacy = self.model.distance_func(self, source_agent)\n",
    "            if (source_agent.opinion == agent_opinion) and (immediacy != -1):  # -1 is for no connected\n",
    "                sigma_s += source_agent.support * 2 / (immediacy ** 2)  # 2 for (1+sig_i*sig_j\n",
    "            elif (source_agent.opinion != agent_opinion) and (immediacy != -1):\n",
    "                sigma_p += source_agent.persuad * 2 / (immediacy ** 2)  # 2 for (1-sig_i*sig_j\n",
    "            n += 1\n",
    "        return sigma_s, sigma_p\n",
    "\n",
    "    def step(self):\n",
    "        self.sigma_s, self.sigma_p = self.interact()\n",
    "\n",
    "    def advance(self):\n",
    "#        print(self.unique_id, ': Advance:')\n",
    "        rand_hi = random.uniform(-self.model.hi, self.model.hi)\n",
    "        if (self.sigma_p - self.sigma_s + rand_hi) > 0:\n",
    "            if self.opinion == 1:\n",
    "                self.opinion = -1\n",
    "                self.model.minus_opinion += 1\n",
    "                self.model.plus_opinion -= 1\n",
    "            elif self.opinion == -1:\n",
    "                self.opinion = +1\n",
    "                self.model.minus_opinion -= 1\n",
    "                self.model.plus_opinion += 1\n",
    "            else:\n",
    "                print(\"Incorrect opinion\")\n",
    "                exit(1)\n"
   ]
  },
  {
   "cell_type": "code",
   "execution_count": 18,
   "id": "d1d4c2a1",
   "metadata": {},
   "outputs": [],
   "source": [
    "# Data collection\n",
    "\n",
    "def get_opinion_ratio(model):\n",
    "    '''\n",
    "    Find the % of agents that are of opinion.\n",
    "    '''\n",
    "    \n",
    "    N = model.Ag_num\n",
    "    opinion_n = model.plus_opinion\n",
    "    \n",
    "    return opinion_n / N"
   ]
  },
  {
   "cell_type": "code",
   "execution_count": 19,
   "id": "5a22ca4b",
   "metadata": {},
   "outputs": [],
   "source": [
    "# Model\n",
    "\n",
    "class OpinionModel(Model):\n",
    "    \"\"\"A model with some number of agents.\"\"\"\n",
    "    def __init__(self, Ag, distribution, beta, rand_seed, hi_param):\n",
    "        self.Ag_num = Ag\n",
    "        self.pers_sup_dist = distribution\n",
    "        self.hi = hi_param  # to generate uniform(-hi,hi)\n",
    "\n",
    "        random.seed(rand_seed*9 +3)  # Generate different random seeds\n",
    "        np.random.seed(rand_seed*9 + 3)  # Generate different random seeds\n",
    "        self.running = True\n",
    "\n",
    "        self.self_distance = 1\n",
    "        self.pers_sup_max = 100\n",
    "        self.distance = 1\n",
    "\n",
    "        self.step_counter = 0\n",
    "        self.step_list = []\n",
    "        self.beta_final_num_list = []\n",
    "\n",
    "        self.set_opinions_degrees(beta)\n",
    "\n",
    "        self.schedule = SimultaneousActivation(self)\n",
    "        \n",
    "        self.datacollector = DataCollector(    # < Note that we have both an agent and model data collector\n",
    "            model_reporters={\"Plus_opinion\": get_opinion_ratio}, agent_reporters={\"Opinion\": \"opinion\"}\n",
    "        )\n",
    "        \n",
    "        # Create agents\n",
    "        for x in range(Ag):\n",
    "            pers, sup = self.set_pers_sup(x)\n",
    "            a = OpinionAgent(x, self, pers, sup)\n",
    "            a.opinion = self.opinion_array[x]\n",
    "            self.schedule.add(a)\n",
    "\n",
    "    def set_opinions_degrees(self, beta):\n",
    "        self.opinion_array = np.ones(self.Ag_num, int)\n",
    "        self.dmax = 0\n",
    "\n",
    "        self.G = nx.barabasi_albert_graph(self.Ag_num, 2)  # barabasi_albert parameter = 2\n",
    "        self.degree = self.G.degree()\n",
    "        node_degree = [self.degree[i] for i in range(len(self.degree))]\n",
    "        sort_index = np.argsort(node_degree)  # Ascending, needed for 'BA_most_deg'\n",
    "        sort_index = [sort_index[-i] for i in range(1, len(sort_index) + 1)]  # Descending\n",
    "        self.dmax = node_degree[sort_index[0]] # I debugged it, node-degree was forgotted\n",
    "        for i in range(int(self.Ag_num * beta / 100)):\n",
    "            self.opinion_array[i] = -1\n",
    "        self.minus_opinion = int(self.Ag_num * beta / 100)\n",
    "        self.plus_opinion = self.Ag_num - self.minus_opinion\n",
    "        np.random.shuffle(self.opinion_array)\n",
    "\n",
    "    def set_pers_sup(self, i):\n",
    "        if self.pers_sup_dist == 'uniform':\n",
    "            return random.uniform(0, self.pers_sup_max), random.uniform(0, self.pers_sup_max)\n",
    "        elif self.pers_sup_dist == 'deg_ratio':\n",
    "            return round(self.pers_sup_max * self.degree[i] / self.dmax), \\\n",
    "                   round(self.pers_sup_max * self.degree[i] / self.dmax)\n",
    "        else:\n",
    "            print(\"incorrect parameter for set_pers_sup\")\n",
    "\n",
    "    def distance_func(self, d_agent, s_agent):\n",
    "        if d_agent.unique_id == s_agent.unique_id:\n",
    "            return self.self_distance\n",
    "        elif self.G.has_edge(s_agent.unique_id, d_agent.unique_id):\n",
    "            return self.distance # distance between two connected nodes is supposed 1\n",
    "        else:\n",
    "            return -1 # means no connection\n",
    "\n",
    "    def step(self):\n",
    "        self.datacollector.collect(self)\n",
    "        \n",
    "        self.schedule.step()\n",
    "        self.step_counter += 1\n",
    "        self.step_list.append(self.step_counter)\n",
    "        self.beta_final_num_list.append(self.minus_opinion)\n"
   ]
  },
  {
   "cell_type": "code",
   "execution_count": 24,
   "id": "3a811c45",
   "metadata": {},
   "outputs": [],
   "source": [
    "# Test the model\n",
    "\n",
    "ag_num = 1000  # Number of agents\n",
    "hi = 1000\n",
    "beta = 20\n",
    "seed=15\n",
    "\n",
    "model = OpinionModel(Ag=ag_num, distribution='uniform', beta=beta, rand_seed=seed, hi_param=hi)\n",
    "for i in range(100):\n",
    "    model.step()"
   ]
  },
  {
   "cell_type": "code",
   "execution_count": 25,
   "id": "1d91d1bc",
   "metadata": {},
   "outputs": [
    {
     "data": {
      "text/plain": [
       "<AxesSubplot:>"
      ]
     },
     "execution_count": 25,
     "metadata": {},
     "output_type": "execute_result"
    },
    {
     "data": {
      "image/png": "[encoded data removed]",
      "text/plain": [
       "<Figure size 432x288 with 1 Axes>"
      ]
     },
     "metadata": {
      "needs_background": "light"
     },
     "output_type": "display_data"
    }
   ],
   "source": [
    "# Show results\n",
    "\n",
    "model_data = model.datacollector.get_model_vars_dataframe()\n",
    "model_data.Plus_opinion.plot()"
   ]
  },
  {
   "cell_type": "code",
   "execution_count": 26,
   "id": "a589de95",
   "metadata": {},
   "outputs": [
    {
     "data": {
      "text/html": [
       "<div>\n",
       "<style scoped>\n",
       "    .dataframe tbody tr th:only-of-type {\n",
       "        vertical-align: middle;\n",
       "    }\n",
       "\n",
       "    .dataframe tbody tr th {\n",
       "        vertical-align: top;\n",
       "    }\n",
       "\n",
       "    .dataframe thead th {\n",
       "        text-align: right;\n",
       "    }\n",
       "</style>\n",
       "<table border=\"1\" class=\"dataframe\">\n",
       "  <thead>\n",
       "    <tr style=\"text-align: right;\">\n",
       "      <th></th>\n",
       "      <th></th>\n",
       "      <th>Opinion</th>\n",
       "    </tr>\n",
       "    <tr>\n",
       "      <th>Step</th>\n",
       "      <th>AgentID</th>\n",
       "      <th></th>\n",
       "    </tr>\n",
       "  </thead>\n",
       "  <tbody>\n",
       "    <tr>\n",
       "      <th rowspan=\"5\" valign=\"top\">0</th>\n",
       "      <th>0</th>\n",
       "      <td>-1</td>\n",
       "    </tr>\n",
       "    <tr>\n",
       "      <th>1</th>\n",
       "      <td>-1</td>\n",
       "    </tr>\n",
       "    <tr>\n",
       "      <th>2</th>\n",
       "      <td>1</td>\n",
       "    </tr>\n",
       "    <tr>\n",
       "      <th>3</th>\n",
       "      <td>1</td>\n",
       "    </tr>\n",
       "    <tr>\n",
       "      <th>4</th>\n",
       "      <td>-1</td>\n",
       "    </tr>\n",
       "  </tbody>\n",
       "</table>\n",
       "</div>"
      ],
      "text/plain": [
       "              Opinion\n",
       "Step AgentID         \n",
       "0    0             -1\n",
       "     1             -1\n",
       "     2              1\n",
       "     3              1\n",
       "     4             -1"
      ]
     },
     "execution_count": 26,
     "metadata": {},
     "output_type": "execute_result"
    }
   ],
   "source": [
    "opinions = model.datacollector.get_agent_vars_dataframe()\n",
    "opinions.head()"
   ]
  },
  {
   "cell_type": "code",
   "execution_count": null,
   "id": "3fa90587",
   "metadata": {},
   "outputs": [],
   "source": []
  }
 ],
 "metadata": {
  "kernelspec": {
   "display_name": "Python 3 (ipykernel)",
   "language": "python",
   "name": "python3"
  },
  "language_info": {
   "codemirror_mode": {
    "name": "ipython",
    "version": 3
   },
   "file_extension": ".py",
   "mimetype": "text/x-python",
   "name": "python",
   "nbconvert_exporter": "python",
   "pygments_lexer": "ipython3",
   "version": "3.8.10"
  }
 },
 "nbformat": 4,
 "nbformat_minor": 5
}
