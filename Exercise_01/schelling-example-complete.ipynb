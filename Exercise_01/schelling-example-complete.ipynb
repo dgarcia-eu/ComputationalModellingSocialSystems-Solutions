{
 "cells": [
  {
   "cell_type": "markdown",
   "id": "27aa6aa3",
   "metadata": {},
   "source": [
    "# Mesa Schelling example - Schelling Segregation Model\n",
    "\n",
    "[[Code explanation]](https://towardsdatascience.com/introduction-to-mesa-agent-based-modeling-in-python-bcb0596e1c9a) **Note that the final interactive visualization part we will cover in the later parts of the course**\n",
    "\n",
    "## Background\n",
    "\n",
    "The Schelling (1971) segregation model is a classic of agent-based modeling, demonstrating how agents following simple rules lead to the emergence of qualitatively different macro-level outcomes. Agents are randomly placed on a grid. There are two types of agents, one constituting the majority and the other the minority. All agents want a certain number (generally, 3) of their 8 surrounding neighbors to be of the same type in order for them to be happy. Unhappy agents will move to a random available grid space. While individual agents do not have a preference for a segregated outcome (e.g. they would be happy with 3 similar neighbors and 5 different ones), the aggregate outcome is nevertheless heavily segregated."
   ]
  },
  {
   "cell_type": "code",
   "execution_count": null,
   "id": "4529aa9f",
   "metadata": {},
   "outputs": [],
   "source": [
    "import random\n",
    "\n",
    "from mesa import Model, Agent\n",
    "from mesa.time import RandomActivation\n",
    "from mesa.space import SingleGrid\n",
    "from mesa.datacollection import DataCollector\n",
    "\n",
    "import matplotlib.pyplot as plt\n",
    "%matplotlib inline"
   ]
  },
  {
   "cell_type": "code",
   "execution_count": null,
   "id": "2e0ea364",
   "metadata": {},
   "outputs": [],
   "source": [
    "# Agent\n",
    "\n",
    "class SchellingAgent(Agent):\n",
    "    '''\n",
    "    Schelling segregation agent\n",
    "    '''\n",
    "    \n",
    "    # 1 Initialization\n",
    "    def __init__(self, pos, model, agent_type):\n",
    "        '''\n",
    "         Create a new Schelling agent.\n",
    "\n",
    "         Args:\n",
    "            unique_id: Unique identifier for the agent.\n",
    "            x, y: Agent initial location.\n",
    "            agent_type: Indicator for the agent's type (minority=1, majority=0)\n",
    "        '''\n",
    "        super().__init__(pos, model)\n",
    "        self.pos = pos\n",
    "        self.type = agent_type\n",
    "\n",
    "    # 2 Step function\n",
    "    def step(self):\n",
    "    \n",
    "        n_neighbors = len(self.model.grid.get_neighbors(self.pos, True))\n",
    "\n",
    "        # Is no neighbors - agent happy\n",
    "        if n_neighbors == 0:\n",
    "            self.model.happy += 1\n",
    "            return\n",
    "        \n",
    "        similar_neighbors = 0\n",
    "        neighbors = self.model.grid.neighbor_iter(self.pos)\n",
    "            \n",
    "        # 3 Calculate the number of similar neighbours\n",
    "        for neighbor in neighbors:\n",
    "            if neighbor.type == self.type:\n",
    "                similar_neighbors += 1\n",
    "                        \n",
    "        # Is Agent already happy with it's location\n",
    "        loc_happines = (similar_neighbors/n_neighbors) * 100\n",
    "        if loc_happines >= self.model.homophily:\n",
    "            self.model.happy += 1\n",
    "            return\n",
    "            \n",
    "        # if Unhappy move to better empty cell\n",
    "        empty_happines_list = {}\n",
    "        for empty in self.model.grid.empties:\n",
    "            \n",
    "            n_empty_neighbors = len(self.model.grid.get_neighbors(empty, True))\n",
    "            \n",
    "            # Is no neighbors - agent happy\n",
    "            if n_empty_neighbors == 0:\n",
    "                self.model.grid.move_agent(self, empty)\n",
    "                return\n",
    "            \n",
    "            similar = 0\n",
    "            empty_neighbors = self.model.grid.neighbor_iter(empty)\n",
    "            \n",
    "            for neighbor in empty_neighbors:\n",
    "                if neighbor.type == self.type:\n",
    "                    similar += 1\n",
    "                    \n",
    "            # 4 Move to a random empty location if unhappy\n",
    "            empty_loc_happines = (similar / n_empty_neighbors) * 100\n",
    "            #if empty_loc_happines >= self.model.homophily:\n",
    "            #    self.model.grid.move_agent(self, empty)\n",
    "            #    return\n",
    "            \n",
    "            empty_happines_list[empty] = empty_loc_happines\n",
    "            \n",
    "        # Move to a maximal better place from the list of empties\n",
    "        max_happines_empty_loc = max(empty_happines_list, key=empty_happines_list.get)\n",
    "        \n",
    "        if empty_happines_list[max_happines_empty_loc] >= loc_happines:\n",
    "            self.model.grid.move_agent(self, max_happines_empty_loc)"
   ]
  },
  {
   "cell_type": "code",
   "execution_count": null,
   "id": "652ad059",
   "metadata": {},
   "outputs": [],
   "source": [
    "# Data collection\n",
    "\n",
    "def get_morans_i(model):\n",
    "    '''\n",
    "    Find Moran's I for all agents and neighbours on the grid.\n",
    "    '''\n",
    "    \n",
    "    x_kappa = model.minority_pc\n",
    "    N = model.schedule.get_agent_count()\n",
    "    edges_var = 0\n",
    "    edges_sum = 0\n",
    "    total_edges = 0\n",
    "    \n",
    "    for agent in model.schedule.agents:\n",
    "        edges_var += (agent.type - x_kappa) ** 2\n",
    "        for neighbor in model.grid.neighbor_iter(agent.pos):\n",
    "            total_edges += 1\n",
    "            edges_sum += (agent.type - x_kappa) * (neighbor.type - x_kappa)\n",
    "            \n",
    "    return (N * edges_sum) / (total_edges * edges_var)\n",
    "\n",
    "def get_segregation_edges(model):\n",
    "    '''\n",
    "    Find the % of agents that only have neighbors of their same type.\n",
    "    '''\n",
    "    segregated_edges = 0\n",
    "    total_edges = 0\n",
    "    for agent in model.schedule.agents:\n",
    "        for neighbor in model.grid.neighbor_iter(agent.pos):\n",
    "            total_edges += 1\n",
    "            if neighbor.type == agent.type:\n",
    "                segregated_edges += 1\n",
    "    return segregated_edges / total_edges\n",
    "\n",
    "def get_segregation(model):\n",
    "    '''\n",
    "    Find the % of agents that only have neighbors of their same type.\n",
    "    '''\n",
    "    segregated_agents = 0\n",
    "    for agent in model.schedule.agents:\n",
    "        segregated = True\n",
    "        for neighbor in model.grid.neighbor_iter(agent.pos):\n",
    "            if neighbor.type != agent.type:\n",
    "                segregated = False\n",
    "                break\n",
    "        if segregated:\n",
    "            segregated_agents += 1\n",
    "    return segregated_agents / model.schedule.get_agent_count()"
   ]
  },
  {
   "cell_type": "code",
   "execution_count": null,
   "id": "a43375fa",
   "metadata": {},
   "outputs": [],
   "source": [
    "# Model\n",
    "\n",
    "class SchellingModel(Model):\n",
    "    '''\n",
    "    Model class for the Schelling segregation model.\n",
    "    '''\n",
    "\n",
    "    def __init__(self, height, width, density, minority_pc, homophily):\n",
    "        '''\n",
    "        Create a new Schelling model.\n",
    "\n",
    "         Args:\n",
    "            width: Horizontal axis of the grid which is used together with Height to define the total number of agents in the system.\n",
    "            height: Vertical axis of the grid which is used together with Width to define the total number of agents in the system.\n",
    "            density: Define the population density of agent in the system. Floating value from 0 to 1.\n",
    "            fraction minority: The ratio between blue and red. Blue is represented as the minority while red is represented as the majority. Floating value from 0 to 1. If the value is higher than 0.5, blue will become the majority instead.\n",
    "            homophily: Define the number of similar neighbors required for the agents to be happy. Integer value range from 0 to 8 since you can only be surrounded by 8 neighbors.\n",
    "        '''\n",
    "        super().__init__()\n",
    "        self.height = height\n",
    "        self.width = width\n",
    "        self.density = density\n",
    "        self.minority_pc = minority_pc\n",
    "        self.homophily = homophily\n",
    "\n",
    "        self.schedule = RandomActivation(self)\n",
    "        self.grid = SingleGrid(height, width, torus=True)\n",
    "\n",
    "        self.happy = 0\n",
    "        self.datacollector = DataCollector(\n",
    "            {\"Happy\": \"happy\", \"Segregated_Agents\": get_segregation, \"Segregated_Edges\": get_segregation_edges, \"Morans_I\": get_morans_i},  # Model-level count of happy agents\n",
    "            # For testing purposes, agent's individual x and y\n",
    "            {\"x\": lambda a: a.pos[0], \"y\": lambda a: a.pos[1]})\n",
    "\n",
    "        self.running = True\n",
    "\n",
    "        # Set up agents\n",
    "        # We use a grid iterator that returns\n",
    "        # the coordinates of a cell as well as\n",
    "        # its contents. (coord_iter)\n",
    "        for cell in self.grid.coord_iter():\n",
    "            x = cell[1]\n",
    "            y = cell[2]\n",
    "            if random.random() < self.density:\n",
    "                if random.random() < self.minority_pc:\n",
    "                    agent_type = 1\n",
    "                else:\n",
    "                    agent_type = 0\n",
    "\n",
    "                agent = SchellingAgent((x, y), self, agent_type)\n",
    "                self.grid.position_agent(agent, (x, y))\n",
    "                self.schedule.add(agent)\n",
    "\n",
    "    def step(self):\n",
    "        '''\n",
    "        Run one step of the model. If All agents are happy, halt the model.\n",
    "        '''\n",
    "        \n",
    "        # Spontaneous move 1%\n",
    "        spontaneous_agents_count = 0\n",
    "        shuffled_agents = self.schedule.agent_buffer(shuffled = True)\n",
    "        for agent in shuffled_agents:\n",
    "            if spontaneous_agents_count / self.schedule.get_agent_count() <= 0.01:\n",
    "                agent.spontaneous_move = True\n",
    "                spontaneous_agents_count += 1\n",
    "            else:\n",
    "                break\n",
    "            \n",
    "        self.happy = 0  # 1 Reset counter of happy agents\n",
    "        self.schedule.step()\n",
    "        \n",
    "        # 2 collect data\n",
    "        self.datacollector.collect(self)\n",
    "        \n",
    "        # 3 Stop the model if all agents are happy\n",
    "        if self.happy == self.schedule.get_agent_count():\n",
    "            self.running = False"
   ]
  },
  {
   "cell_type": "markdown",
   "id": "e720bcb5",
   "metadata": {},
   "source": [
    "Now we instantiate a model instance: a 10x10 grid, with an 80% chance of an agent being placed in each cell, approximately 20% of agents set as minorities, and agents wanting at least 3 similar neighbors."
   ]
  },
  {
   "cell_type": "code",
   "execution_count": null,
   "id": "aa5b92f5",
   "metadata": {},
   "outputs": [],
   "source": [
    "model = SchellingModel(50, 50, 0.98, 0.5, 60)"
   ]
  },
  {
   "cell_type": "markdown",
   "id": "6c84b3a3",
   "metadata": {},
   "source": [
    "We want to run the model until all the agents are happy with where they are. However, there's no guarentee that a given model instantiation will *ever* settle down. So let's run it for either 100 steps or until it stops on its own, whichever comes first:"
   ]
  },
  {
   "cell_type": "code",
   "execution_count": null,
   "id": "f0d36fc6",
   "metadata": {},
   "outputs": [],
   "source": [
    "while model.running and model.schedule.steps < 100:\n",
    "    model.step()\n",
    "\n",
    "print('The Schelling Model ran for {} steps'.format(model.schedule.steps))"
   ]
  },
  {
   "cell_type": "markdown",
   "id": "2cb6b6d6",
   "metadata": {},
   "source": [
    "# Visualization of data"
   ]
  },
  {
   "cell_type": "code",
   "execution_count": null,
   "id": "36eca015",
   "metadata": {},
   "outputs": [],
   "source": [
    "from mesa.visualization.modules import CanvasGrid\n",
    "from mesa.visualization.ModularVisualization import ModularServer\n",
    "\n",
    "\n",
    "def agent_portrayal(agent):\n",
    "    portrayal = {\"Shape\": \"circle\",\n",
    "                 \"Filled\": \"true\",\n",
    "                 \"Layer\": 0,\n",
    "                 \"r\": 0.5}\n",
    "    \n",
    "    if agent.type == 0:\n",
    "        portrayal[\"Color\"] = \"Red\"\n",
    "    else:\n",
    "        portrayal[\"Color\"] = \"Blue\"\n",
    "\n",
    "    return portrayal\n",
    "\n",
    "grid = CanvasGrid(agent_portrayal, 20, 20, 500, 500)\n",
    "server = ModularServer(SchellingModel,\n",
    "                       [grid],\n",
    "                       \"Schelling Model\",\n",
    "                       {\"density\":0.98, \"width\":20, \"height\":20, \"minority_pc\":0.5, \"homophily\":20})\n",
    "server.port = 8540 # The default\n",
    "server.launch()"
   ]
  },
  {
   "cell_type": "markdown",
   "id": "b9462d33",
   "metadata": {},
   "source": [
    "The model has a DataCollector object, which checks and stores how many agents are happy at the end of each step. It can also generate a pandas DataFrame of the data it has collected:"
   ]
  },
  {
   "cell_type": "code",
   "execution_count": null,
   "id": "d0aacdb1",
   "metadata": {},
   "outputs": [],
   "source": [
    "model_out = model.datacollector.get_model_vars_dataframe()\n",
    "model_out.head()"
   ]
  },
  {
   "cell_type": "markdown",
   "id": "fa92eb0c",
   "metadata": {},
   "source": [
    "Finally, we can plot the 'happy' series:"
   ]
  },
  {
   "cell_type": "code",
   "execution_count": null,
   "id": "8a574496",
   "metadata": {},
   "outputs": [],
   "source": [
    "model_out.Happy.plot()"
   ]
  },
  {
   "cell_type": "markdown",
   "id": "fff29048",
   "metadata": {},
   "source": [
    "For testing purposes, here is a table giving each agent's x and y values at each step."
   ]
  },
  {
   "cell_type": "code",
   "execution_count": null,
   "id": "466d4ad5",
   "metadata": {},
   "outputs": [],
   "source": [
    "x_positions = model.datacollector.get_agent_vars_dataframe()\n",
    "x_positions.head()"
   ]
  },
  {
   "cell_type": "markdown",
   "id": "08be6c50",
   "metadata": {},
   "source": [
    "# Effect of Homophily on segregation\n",
    "\n",
    "Now, we can do a parameter sweep to see how segregation changes with homophily.\n",
    "\n",
    "First, we create a function which takes a model instance and returns what fraction of agents are segregated -- that is, have no neighbors of the opposite type."
   ]
  },
  {
   "cell_type": "code",
   "execution_count": null,
   "id": "93cc096b",
   "metadata": {},
   "outputs": [],
   "source": [
    "from mesa.batchrunner import batch_run\n",
    "\n",
    "params = {\"height\": 20, \"width\": 20, \"density\": 0.98, \"minority_pc\": 0.5, \n",
    "              \"homophily\": range(0,100, 13)}\n",
    "\n",
    "results = batch_run(\n",
    "    SchellingModel,\n",
    "    parameters=params,\n",
    "    iterations=10,\n",
    "    max_steps=200,\n",
    "    number_processes=1,\n",
    "    display_progress=True,\n",
    ")"
   ]
  },
  {
   "cell_type": "markdown",
   "id": "301669aa",
   "metadata": {},
   "source": [
    "### Complete data is available for each model instantiation for each agent for each step"
   ]
  },
  {
   "cell_type": "code",
   "execution_count": null,
   "id": "baaaddaf",
   "metadata": {},
   "outputs": [],
   "source": [
    "import pandas as pd\n",
    "\n",
    "results_df = pd.DataFrame(results)\n",
    "print(results_df.keys())"
   ]
  },
  {
   "cell_type": "code",
   "execution_count": null,
   "id": "833da501",
   "metadata": {},
   "outputs": [],
   "source": [
    "results_df.boxplot(by ='homophily', column =['Segregated_Agents'], grid=False)"
   ]
  },
  {
   "cell_type": "code",
   "execution_count": null,
   "id": "c583ea2e",
   "metadata": {},
   "outputs": [],
   "source": [
    "results_df.groupby(by=[\"RunId\"]).median().boxplot(by ='homophily', column =['Segregated_Agents'], grid=False)"
   ]
  },
  {
   "cell_type": "code",
   "execution_count": null,
   "id": "591d5bb5",
   "metadata": {},
   "outputs": [],
   "source": [
    "results_df.boxplot(by ='homophily', column =['Segregated_Edges'], grid=False)"
   ]
  },
  {
   "cell_type": "code",
   "execution_count": null,
   "id": "9a8f1dee",
   "metadata": {},
   "outputs": [],
   "source": [
    "results_df.groupby(by=[\"RunId\"]).median().boxplot(by ='homophily', column =['Segregated_Edges'], grid=False)"
   ]
  },
  {
   "cell_type": "code",
   "execution_count": null,
   "id": "f2ca8006",
   "metadata": {},
   "outputs": [],
   "source": [
    "results_df.groupby(by=[\"RunId\"]).median().boxplot(by ='homophily', column =['Morans_I'], grid=False)\n",
    "plt.suptitle(None)\n",
    "plt.title(None)\n",
    "plt.ylabel(\"Moran's I\")\n",
    "plt.savefig('morans_i_plot.eps')"
   ]
  },
  {
   "cell_type": "code",
   "execution_count": null,
   "id": "6f6f799c",
   "metadata": {},
   "outputs": [],
   "source": []
  }
 ],
 "metadata": {
  "kernelspec": {
   "display_name": "Python 3 (ipykernel)",
   "language": "python",
   "name": "python3"
  },
  "language_info": {
   "codemirror_mode": {
    "name": "ipython",
    "version": 3
   },
   "file_extension": ".py",
   "mimetype": "text/x-python",
   "name": "python",
   "nbconvert_exporter": "python",
   "pygments_lexer": "ipython3",
   "version": "3.8.10"
  }
 },
 "nbformat": 4,
 "nbformat_minor": 5
}
