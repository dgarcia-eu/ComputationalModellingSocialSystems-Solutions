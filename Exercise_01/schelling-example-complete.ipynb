{
 "cells": [
  {
   "cell_type": "markdown",
   "id": "27aa6aa3",
   "metadata": {},
   "source": [
    "# Mesa Schelling example - Schelling Segregation Model\n",
    "\n",
    "[[Code explanation]](https://towardsdatascience.com/introduction-to-mesa-agent-based-modeling-in-python-bcb0596e1c9a) **Note that the final interactive visualization part we will cover in the later parts of the course**\n",
    "\n",
    "## Background\n",
    "\n",
    "The Schelling (1971) segregation model is a classic of agent-based modeling, demonstrating how agents following simple rules lead to the emergence of qualitatively different macro-level outcomes. Agents are randomly placed on a grid. There are two types of agents, one constituting the majority and the other the minority. All agents want a certain number (generally, 3) of their 8 surrounding neighbors to be of the same type in order for them to be happy. Unhappy agents will move to a random available grid space. While individual agents do not have a preference for a segregated outcome (e.g. they would be happy with 3 similar neighbors and 5 different ones), the aggregate outcome is nevertheless heavily segregated."
   ]
  },
  {
   "cell_type": "code",
   "execution_count": 1,
   "id": "4529aa9f",
   "metadata": {},
   "outputs": [],
   "source": [
    "import random\n",
    "\n",
    "from mesa import Model, Agent\n",
    "from mesa.time import RandomActivation\n",
    "from mesa.space import SingleGrid\n",
    "from mesa.datacollection import DataCollector\n",
    "\n",
    "import matplotlib.pyplot as plt\n",
    "%matplotlib inline"
   ]
  },
  {
   "cell_type": "code",
   "execution_count": 2,
   "id": "2e0ea364",
   "metadata": {},
   "outputs": [],
   "source": [
    "# Agent\n",
    "\n",
    "class SchellingAgent(Agent):\n",
    "    '''\n",
    "    Schelling segregation agent\n",
    "    '''\n",
    "    \n",
    "    # 1 Initialization\n",
    "    def __init__(self, pos, model, agent_type):\n",
    "        '''\n",
    "         Create a new Schelling agent.\n",
    "\n",
    "         Args:\n",
    "            unique_id: Unique identifier for the agent.\n",
    "            x, y: Agent initial location.\n",
    "            agent_type: Indicator for the agent's type (minority=1, majority=0)\n",
    "        '''\n",
    "        super().__init__(pos, model)\n",
    "        self.pos = pos\n",
    "        self.type = agent_type\n",
    "\n",
    "    # 2 Step function\n",
    "    def step(self):\n",
    "    \n",
    "        n_neighbors = len(self.model.grid.get_neighbors(self.pos, True))\n",
    "\n",
    "        # Is no neighbors - agent happy\n",
    "        if n_neighbors == 0:\n",
    "            self.model.happy += 1\n",
    "            return\n",
    "        \n",
    "        similar_neighbors = 0\n",
    "        neighbors = self.model.grid.neighbor_iter(self.pos)\n",
    "            \n",
    "        # 3 Calculate the number of similar neighbours\n",
    "        for neighbor in neighbors:\n",
    "            if neighbor.type == self.type:\n",
    "                similar_neighbors += 1\n",
    "                        \n",
    "        # Is Agent already happy with it's location\n",
    "        loc_happines = (similar_neighbors/n_neighbors) * 100\n",
    "        if loc_happines >= self.model.homophily:\n",
    "            self.model.happy += 1\n",
    "            return\n",
    "            \n",
    "        # if Unhappy move to better empty cell\n",
    "        empty_happines_list = {}\n",
    "        for empty in self.model.grid.empties:\n",
    "            \n",
    "            n_empty_neighbors = len(self.model.grid.get_neighbors(empty, True))\n",
    "            \n",
    "            # Is no neighbors - agent happy\n",
    "            if n_empty_neighbors == 0:\n",
    "                self.model.grid.move_agent(self, empty)\n",
    "                return\n",
    "            \n",
    "            similar = 0\n",
    "            empty_neighbors = self.model.grid.neighbor_iter(empty)\n",
    "            \n",
    "            for neighbor in empty_neighbors:\n",
    "                if neighbor.type == self.type:\n",
    "                    similar += 1\n",
    "                    \n",
    "            # 4 Move to a random empty location if unhappy\n",
    "            empty_loc_happines = (similar / n_empty_neighbors) * 100\n",
    "            #if empty_loc_happines >= self.model.homophily:\n",
    "            #    self.model.grid.move_agent(self, empty)\n",
    "            #    return\n",
    "            \n",
    "            empty_happines_list[empty] = empty_loc_happines\n",
    "            \n",
    "        # Move to a maximal better place from the list of empties\n",
    "        max_happines_empty_loc = max(empty_happines_list, key=empty_happines_list.get)\n",
    "        \n",
    "        if empty_happines_list[max_happines_empty_loc] >= loc_happines:\n",
    "            self.model.grid.move_agent(self, max_happines_empty_loc)"
   ]
  },
  {
   "cell_type": "code",
   "execution_count": 3,
   "id": "652ad059",
   "metadata": {},
   "outputs": [],
   "source": [
    "# Data collection\n",
    "\n",
    "def get_morans_i(model):\n",
    "    '''\n",
    "    Find Moran's I for all agents.\n",
    "    '''\n",
    "    \n",
    "    x_kappa = model.minority_pc\n",
    "    N = model.schedule.get_agent_count()\n",
    "    edges_var = 0\n",
    "    edges_sum = 0\n",
    "    total_edges = 0\n",
    "    \n",
    "    for agent in model.schedule.agents:\n",
    "        edges_var += (agent.type - x_kappa) ** 2\n",
    "        for neighbor in model.grid.neighbor_iter(agent.pos):\n",
    "            total_edges += 1\n",
    "            edges_sum += (agent.type - x_kappa) * (neighbor.type - x_kappa)\n",
    "            \n",
    "    return (N * edges_sum) / (total_edges * edges_var)\n",
    "\n",
    "def get_segregation_edges(model):\n",
    "    '''\n",
    "    Find the % of agents that only have neighbors of their same type.\n",
    "    '''\n",
    "    segregated_edges = 0\n",
    "    total_edges = 0\n",
    "    for agent in model.schedule.agents:\n",
    "        for neighbor in model.grid.neighbor_iter(agent.pos):\n",
    "            total_edges += 1\n",
    "            if neighbor.type == agent.type:\n",
    "                segregated_edges += 1\n",
    "    return segregated_edges / total_edges\n",
    "\n",
    "def get_segregation(model):\n",
    "    '''\n",
    "    Find the % of agents that only have neighbors of their same type.\n",
    "    '''\n",
    "    segregated_agents = 0\n",
    "    for agent in model.schedule.agents:\n",
    "        segregated = True\n",
    "        for neighbor in model.grid.neighbor_iter(agent.pos):\n",
    "            if neighbor.type != agent.type:\n",
    "                segregated = False\n",
    "                break\n",
    "        if segregated:\n",
    "            segregated_agents += 1\n",
    "    return segregated_agents / model.schedule.get_agent_count()"
   ]
  },
  {
   "cell_type": "code",
   "execution_count": 4,
   "id": "a43375fa",
   "metadata": {},
   "outputs": [],
   "source": [
    "# Model\n",
    "\n",
    "class SchellingModel(Model):\n",
    "    '''\n",
    "    Model class for the Schelling segregation model.\n",
    "    '''\n",
    "\n",
    "    def __init__(self, height, width, density, minority_pc, homophily):\n",
    "        '''\n",
    "        Create a new Schelling model.\n",
    "\n",
    "         Args:\n",
    "            width: Horizontal axis of the grid which is used together with Height to define the total number of agents in the system.\n",
    "            height: Vertical axis of the grid which is used together with Width to define the total number of agents in the system.\n",
    "            density: Define the population density of agent in the system. Floating value from 0 to 1.\n",
    "            fraction minority: The ratio between blue and red. Blue is represented as the minority while red is represented as the majority. Floating value from 0 to 1. If the value is higher than 0.5, blue will become the majority instead.\n",
    "            homophily: Define the number of similar neighbors required for the agents to be happy. Integer value range from 0 to 8 since you can only be surrounded by 8 neighbors.\n",
    "        '''\n",
    "        super().__init__()\n",
    "        self.height = height\n",
    "        self.width = width\n",
    "        self.density = density\n",
    "        self.minority_pc = minority_pc\n",
    "        self.homophily = homophily\n",
    "\n",
    "        self.schedule = RandomActivation(self)\n",
    "        self.grid = SingleGrid(height, width, torus=True)\n",
    "\n",
    "        self.happy = 0\n",
    "        self.datacollector = DataCollector(\n",
    "            {\"Happy\": \"happy\", \"Segregated_Agents\": get_segregation, \"Segregated_Edges\": get_segregation_edges, \"Morans_I\": get_morans_i},  # Model-level count of happy agents\n",
    "            # For testing purposes, agent's individual x and y\n",
    "            {\"x\": lambda a: a.pos[0], \"y\": lambda a: a.pos[1]})\n",
    "\n",
    "        self.running = True\n",
    "\n",
    "        # Set up agents\n",
    "        # We use a grid iterator that returns\n",
    "        # the coordinates of a cell as well as\n",
    "        # its contents. (coord_iter)\n",
    "        for cell in self.grid.coord_iter():\n",
    "            x = cell[1]\n",
    "            y = cell[2]\n",
    "            if random.random() < self.density:\n",
    "                if random.random() < self.minority_pc:\n",
    "                    agent_type = 1\n",
    "                else:\n",
    "                    agent_type = 0\n",
    "\n",
    "                agent = SchellingAgent((x, y), self, agent_type)\n",
    "                self.grid.position_agent(agent, (x, y))\n",
    "                self.schedule.add(agent)\n",
    "\n",
    "    def step(self):\n",
    "        '''\n",
    "        Run one step of the model. If All agents are happy, halt the model.\n",
    "        '''\n",
    "        \n",
    "        # Spontaneous move 1%\n",
    "        spontaneous_agents_count = 0\n",
    "        shuffled_agents = self.schedule.agent_buffer(shuffled = True)\n",
    "        for agent in shuffled_agents:\n",
    "            if spontaneous_agents_count / self.schedule.get_agent_count() <= 0.01:\n",
    "                agent.spontaneous_move = True\n",
    "                spontaneous_agents_count += 1\n",
    "            else:\n",
    "                break\n",
    "            \n",
    "        self.happy = 0  # 1 Reset counter of happy agents\n",
    "        self.schedule.step()\n",
    "        \n",
    "        # 2 collect data\n",
    "        self.datacollector.collect(self)\n",
    "        \n",
    "        # 3 Stop the model if all agents are happy\n",
    "        if self.happy == self.schedule.get_agent_count():\n",
    "            self.running = False"
   ]
  },
  {
   "cell_type": "markdown",
   "id": "e720bcb5",
   "metadata": {},
   "source": [
    "Now we instantiate a model instance: a 10x10 grid, with an 80% chance of an agent being placed in each cell, approximately 20% of agents set as minorities, and agents wanting at least 3 similar neighbors."
   ]
  },
  {
   "cell_type": "code",
   "execution_count": 5,
   "id": "aa5b92f5",
   "metadata": {},
   "outputs": [],
   "source": [
    "model = SchellingModel(50, 50, 0.98, 0.5, 30)"
   ]
  },
  {
   "cell_type": "markdown",
   "id": "6c84b3a3",
   "metadata": {},
   "source": [
    "We want to run the model until all the agents are happy with where they are. However, there's no guarentee that a given model instantiation will *ever* settle down. So let's run it for either 100 steps or until it stops on its own, whichever comes first:"
   ]
  },
  {
   "cell_type": "code",
   "execution_count": 6,
   "id": "f0d36fc6",
   "metadata": {},
   "outputs": [
    {
     "name": "stdout",
     "output_type": "stream",
     "text": [
      "9\n"
     ]
    }
   ],
   "source": [
    "while model.running and model.schedule.steps < 100:\n",
    "    model.step()\n",
    "print(model.schedule.steps) # Show how many steps have actually run"
   ]
  },
  {
   "cell_type": "markdown",
   "id": "2cb6b6d6",
   "metadata": {},
   "source": [
    "# Visualization of data"
   ]
  },
  {
   "cell_type": "code",
   "execution_count": 19,
   "id": "36eca015",
   "metadata": {},
   "outputs": [
    {
     "name": "stdout",
     "output_type": "stream",
     "text": [
      "Interface starting at http://127.0.0.1:8540\n"
     ]
    },
    {
     "ename": "RuntimeError",
     "evalue": "This event loop is already running",
     "output_type": "error",
     "traceback": [
      "\u001b[0;31m---------------------------------------------------------------------------\u001b[0m",
      "\u001b[0;31mRuntimeError\u001b[0m                              Traceback (most recent call last)",
      "\u001b[0;32m/tmp/ipykernel_53700/1956673064.py\u001b[0m in \u001b[0;36m<module>\u001b[0;34m\u001b[0m\n\u001b[1;32m     22\u001b[0m                        {\"density\":0.98, \"width\":20, \"height\":20, \"minority_pc\":0.5, \"homophily\":20})\n\u001b[1;32m     23\u001b[0m \u001b[0mserver\u001b[0m\u001b[0;34m.\u001b[0m\u001b[0mport\u001b[0m \u001b[0;34m=\u001b[0m \u001b[0;36m8540\u001b[0m \u001b[0;31m# The default\u001b[0m\u001b[0;34m\u001b[0m\u001b[0;34m\u001b[0m\u001b[0m\n\u001b[0;32m---> 24\u001b[0;31m \u001b[0mserver\u001b[0m\u001b[0;34m.\u001b[0m\u001b[0mlaunch\u001b[0m\u001b[0;34m(\u001b[0m\u001b[0;34m)\u001b[0m\u001b[0;34m\u001b[0m\u001b[0;34m\u001b[0m\u001b[0m\n\u001b[0m",
      "\u001b[0;32m~/.local/lib/python3.8/site-packages/mesa/visualization/ModularVisualization.py\u001b[0m in \u001b[0;36mlaunch\u001b[0;34m(self, port, open_browser)\u001b[0m\n\u001b[1;32m    335\u001b[0m             \u001b[0mwebbrowser\u001b[0m\u001b[0;34m.\u001b[0m\u001b[0mopen\u001b[0m\u001b[0;34m(\u001b[0m\u001b[0murl\u001b[0m\u001b[0;34m)\u001b[0m\u001b[0;34m\u001b[0m\u001b[0;34m\u001b[0m\u001b[0m\n\u001b[1;32m    336\u001b[0m         \u001b[0mtornado\u001b[0m\u001b[0;34m.\u001b[0m\u001b[0mautoreload\u001b[0m\u001b[0;34m.\u001b[0m\u001b[0mstart\u001b[0m\u001b[0;34m(\u001b[0m\u001b[0;34m)\u001b[0m\u001b[0;34m\u001b[0m\u001b[0;34m\u001b[0m\u001b[0m\n\u001b[0;32m--> 337\u001b[0;31m         \u001b[0mtornado\u001b[0m\u001b[0;34m.\u001b[0m\u001b[0mioloop\u001b[0m\u001b[0;34m.\u001b[0m\u001b[0mIOLoop\u001b[0m\u001b[0;34m.\u001b[0m\u001b[0mcurrent\u001b[0m\u001b[0;34m(\u001b[0m\u001b[0;34m)\u001b[0m\u001b[0;34m.\u001b[0m\u001b[0mstart\u001b[0m\u001b[0;34m(\u001b[0m\u001b[0;34m)\u001b[0m\u001b[0;34m\u001b[0m\u001b[0;34m\u001b[0m\u001b[0m\n\u001b[0m",
      "\u001b[0;32m~/.local/lib/python3.8/site-packages/tornado/platform/asyncio.py\u001b[0m in \u001b[0;36mstart\u001b[0;34m(self)\u001b[0m\n\u001b[1;32m    197\u001b[0m             \u001b[0mself\u001b[0m\u001b[0;34m.\u001b[0m\u001b[0m_setup_logging\u001b[0m\u001b[0;34m(\u001b[0m\u001b[0;34m)\u001b[0m\u001b[0;34m\u001b[0m\u001b[0;34m\u001b[0m\u001b[0m\n\u001b[1;32m    198\u001b[0m             \u001b[0masyncio\u001b[0m\u001b[0;34m.\u001b[0m\u001b[0mset_event_loop\u001b[0m\u001b[0;34m(\u001b[0m\u001b[0mself\u001b[0m\u001b[0;34m.\u001b[0m\u001b[0masyncio_loop\u001b[0m\u001b[0;34m)\u001b[0m\u001b[0;34m\u001b[0m\u001b[0;34m\u001b[0m\u001b[0m\n\u001b[0;32m--> 199\u001b[0;31m             \u001b[0mself\u001b[0m\u001b[0;34m.\u001b[0m\u001b[0masyncio_loop\u001b[0m\u001b[0;34m.\u001b[0m\u001b[0mrun_forever\u001b[0m\u001b[0;34m(\u001b[0m\u001b[0;34m)\u001b[0m\u001b[0;34m\u001b[0m\u001b[0;34m\u001b[0m\u001b[0m\n\u001b[0m\u001b[1;32m    200\u001b[0m         \u001b[0;32mfinally\u001b[0m\u001b[0;34m:\u001b[0m\u001b[0;34m\u001b[0m\u001b[0;34m\u001b[0m\u001b[0m\n\u001b[1;32m    201\u001b[0m             \u001b[0masyncio\u001b[0m\u001b[0;34m.\u001b[0m\u001b[0mset_event_loop\u001b[0m\u001b[0;34m(\u001b[0m\u001b[0mold_loop\u001b[0m\u001b[0;34m)\u001b[0m\u001b[0;34m\u001b[0m\u001b[0;34m\u001b[0m\u001b[0m\n",
      "\u001b[0;32m/usr/lib/python3.8/asyncio/base_events.py\u001b[0m in \u001b[0;36mrun_forever\u001b[0;34m(self)\u001b[0m\n\u001b[1;32m    558\u001b[0m         \u001b[0;34m\"\"\"Run until stop() is called.\"\"\"\u001b[0m\u001b[0;34m\u001b[0m\u001b[0;34m\u001b[0m\u001b[0m\n\u001b[1;32m    559\u001b[0m         \u001b[0mself\u001b[0m\u001b[0;34m.\u001b[0m\u001b[0m_check_closed\u001b[0m\u001b[0;34m(\u001b[0m\u001b[0;34m)\u001b[0m\u001b[0;34m\u001b[0m\u001b[0;34m\u001b[0m\u001b[0m\n\u001b[0;32m--> 560\u001b[0;31m         \u001b[0mself\u001b[0m\u001b[0;34m.\u001b[0m\u001b[0m_check_running\u001b[0m\u001b[0;34m(\u001b[0m\u001b[0;34m)\u001b[0m\u001b[0;34m\u001b[0m\u001b[0;34m\u001b[0m\u001b[0m\n\u001b[0m\u001b[1;32m    561\u001b[0m         \u001b[0mself\u001b[0m\u001b[0;34m.\u001b[0m\u001b[0m_set_coroutine_origin_tracking\u001b[0m\u001b[0;34m(\u001b[0m\u001b[0mself\u001b[0m\u001b[0;34m.\u001b[0m\u001b[0m_debug\u001b[0m\u001b[0;34m)\u001b[0m\u001b[0;34m\u001b[0m\u001b[0;34m\u001b[0m\u001b[0m\n\u001b[1;32m    562\u001b[0m         \u001b[0mself\u001b[0m\u001b[0;34m.\u001b[0m\u001b[0m_thread_id\u001b[0m \u001b[0;34m=\u001b[0m \u001b[0mthreading\u001b[0m\u001b[0;34m.\u001b[0m\u001b[0mget_ident\u001b[0m\u001b[0;34m(\u001b[0m\u001b[0;34m)\u001b[0m\u001b[0;34m\u001b[0m\u001b[0;34m\u001b[0m\u001b[0m\n",
      "\u001b[0;32m/usr/lib/python3.8/asyncio/base_events.py\u001b[0m in \u001b[0;36m_check_running\u001b[0;34m(self)\u001b[0m\n\u001b[1;32m    550\u001b[0m     \u001b[0;32mdef\u001b[0m \u001b[0m_check_running\u001b[0m\u001b[0;34m(\u001b[0m\u001b[0mself\u001b[0m\u001b[0;34m)\u001b[0m\u001b[0;34m:\u001b[0m\u001b[0;34m\u001b[0m\u001b[0;34m\u001b[0m\u001b[0m\n\u001b[1;32m    551\u001b[0m         \u001b[0;32mif\u001b[0m \u001b[0mself\u001b[0m\u001b[0;34m.\u001b[0m\u001b[0mis_running\u001b[0m\u001b[0;34m(\u001b[0m\u001b[0;34m)\u001b[0m\u001b[0;34m:\u001b[0m\u001b[0;34m\u001b[0m\u001b[0;34m\u001b[0m\u001b[0m\n\u001b[0;32m--> 552\u001b[0;31m             \u001b[0;32mraise\u001b[0m \u001b[0mRuntimeError\u001b[0m\u001b[0;34m(\u001b[0m\u001b[0;34m'This event loop is already running'\u001b[0m\u001b[0;34m)\u001b[0m\u001b[0;34m\u001b[0m\u001b[0;34m\u001b[0m\u001b[0m\n\u001b[0m\u001b[1;32m    553\u001b[0m         \u001b[0;32mif\u001b[0m \u001b[0mevents\u001b[0m\u001b[0;34m.\u001b[0m\u001b[0m_get_running_loop\u001b[0m\u001b[0;34m(\u001b[0m\u001b[0;34m)\u001b[0m \u001b[0;32mis\u001b[0m \u001b[0;32mnot\u001b[0m \u001b[0;32mNone\u001b[0m\u001b[0;34m:\u001b[0m\u001b[0;34m\u001b[0m\u001b[0;34m\u001b[0m\u001b[0m\n\u001b[1;32m    554\u001b[0m             raise RuntimeError(\n",
      "\u001b[0;31mRuntimeError\u001b[0m: This event loop is already running"
     ]
    },
    {
     "name": "stdout",
     "output_type": "stream",
     "text": [
      "Socket opened!\n",
      "{\"type\":\"reset\"}\n"
     ]
    },
    {
     "name": "stderr",
     "output_type": "stream",
     "text": [
      "WARNING:tornado.access:404 GET /favicon.ico (127.0.0.1) 0.88ms\n"
     ]
    },
    {
     "name": "stdout",
     "output_type": "stream",
     "text": [
      "{\"type\":\"get_step\",\"step\":1}\n",
      "{\"type\":\"get_step\",\"step\":2}\n",
      "{\"type\":\"get_step\",\"step\":3}\n",
      "{\"type\":\"get_step\",\"step\":4}\n",
      "{\"type\":\"get_step\",\"step\":5}\n",
      "{\"type\":\"get_step\",\"step\":6}\n",
      "{\"type\":\"get_step\",\"step\":7}\n",
      "{\"type\":\"get_step\",\"step\":8}\n",
      "{\"type\":\"get_step\",\"step\":9}\n",
      "{\"type\":\"get_step\",\"step\":10}\n",
      "{\"type\":\"get_step\",\"step\":11}\n",
      "{\"type\":\"get_step\",\"step\":12}\n",
      "{\"type\":\"get_step\",\"step\":13}\n",
      "{\"type\":\"get_step\",\"step\":14}\n",
      "{\"type\":\"get_step\",\"step\":15}\n",
      "{\"type\":\"get_step\",\"step\":16}\n",
      "{\"type\":\"get_step\",\"step\":17}\n",
      "{\"type\":\"get_step\",\"step\":18}\n",
      "{\"type\":\"get_step\",\"step\":19}\n",
      "{\"type\":\"get_step\",\"step\":20}\n",
      "{\"type\":\"get_step\",\"step\":21}\n",
      "{\"type\":\"get_step\",\"step\":22}\n",
      "{\"type\":\"get_step\",\"step\":23}\n",
      "{\"type\":\"get_step\",\"step\":24}\n",
      "{\"type\":\"get_step\",\"step\":25}\n",
      "{\"type\":\"get_step\",\"step\":26}\n",
      "{\"type\":\"get_step\",\"step\":27}\n",
      "{\"type\":\"get_step\",\"step\":28}\n",
      "{\"type\":\"get_step\",\"step\":29}\n",
      "{\"type\":\"get_step\",\"step\":30}\n",
      "{\"type\":\"get_step\",\"step\":31}\n",
      "{\"type\":\"get_step\",\"step\":32}\n",
      "{\"type\":\"get_step\",\"step\":33}\n",
      "{\"type\":\"get_step\",\"step\":34}\n",
      "{\"type\":\"get_step\",\"step\":35}\n",
      "{\"type\":\"get_step\",\"step\":36}\n",
      "{\"type\":\"get_step\",\"step\":37}\n",
      "{\"type\":\"get_step\",\"step\":38}\n",
      "{\"type\":\"get_step\",\"step\":39}\n",
      "{\"type\":\"get_step\",\"step\":40}\n",
      "{\"type\":\"get_step\",\"step\":41}\n",
      "{\"type\":\"get_step\",\"step\":42}\n",
      "{\"type\":\"get_step\",\"step\":43}\n",
      "{\"type\":\"get_step\",\"step\":44}\n",
      "{\"type\":\"get_step\",\"step\":45}\n",
      "{\"type\":\"get_step\",\"step\":46}\n",
      "{\"type\":\"get_step\",\"step\":47}\n",
      "{\"type\":\"get_step\",\"step\":48}\n",
      "{\"type\":\"get_step\",\"step\":49}\n",
      "{\"type\":\"get_step\",\"step\":50}\n",
      "{\"type\":\"get_step\",\"step\":51}\n",
      "{\"type\":\"get_step\",\"step\":52}\n",
      "{\"type\":\"get_step\",\"step\":53}\n",
      "{\"type\":\"get_step\",\"step\":54}\n",
      "{\"type\":\"get_step\",\"step\":55}\n",
      "{\"type\":\"get_step\",\"step\":56}\n",
      "{\"type\":\"get_step\",\"step\":57}\n",
      "{\"type\":\"get_step\",\"step\":58}\n",
      "{\"type\":\"get_step\",\"step\":59}\n",
      "{\"type\":\"get_step\",\"step\":60}\n",
      "{\"type\":\"get_step\",\"step\":61}\n",
      "{\"type\":\"get_step\",\"step\":62}\n",
      "{\"type\":\"get_step\",\"step\":63}\n",
      "{\"type\":\"get_step\",\"step\":64}\n",
      "{\"type\":\"get_step\",\"step\":65}\n",
      "{\"type\":\"get_step\",\"step\":66}\n",
      "{\"type\":\"get_step\",\"step\":67}\n",
      "{\"type\":\"get_step\",\"step\":68}\n",
      "{\"type\":\"get_step\",\"step\":69}\n",
      "{\"type\":\"get_step\",\"step\":70}\n",
      "{\"type\":\"get_step\",\"step\":71}\n",
      "{\"type\":\"get_step\",\"step\":72}\n",
      "{\"type\":\"get_step\",\"step\":73}\n",
      "{\"type\":\"get_step\",\"step\":74}\n",
      "{\"type\":\"get_step\",\"step\":75}\n"
     ]
    }
   ],
   "source": [
    "from mesa.visualization.modules import CanvasGrid\n",
    "from mesa.visualization.ModularVisualization import ModularServer\n",
    "\n",
    "\n",
    "def agent_portrayal(agent):\n",
    "    portrayal = {\"Shape\": \"circle\",\n",
    "                 \"Filled\": \"true\",\n",
    "                 \"Layer\": 0,\n",
    "                 \"r\": 0.5}\n",
    "    \n",
    "    if agent.type == 0:\n",
    "        portrayal[\"Color\"] = \"Red\"\n",
    "    else:\n",
    "        portrayal[\"Color\"] = \"Blue\"\n",
    "\n",
    "    return portrayal\n",
    "\n",
    "grid = CanvasGrid(agent_portrayal, 20, 20, 500, 500)\n",
    "server = ModularServer(SchellingModel,\n",
    "                       [grid],\n",
    "                       \"Schelling Model\",\n",
    "                       {\"density\":0.98, \"width\":20, \"height\":20, \"minority_pc\":0.5, \"homophily\":20})\n",
    "server.port = 8540 # The default\n",
    "server.launch()"
   ]
  },
  {
   "cell_type": "markdown",
   "id": "b9462d33",
   "metadata": {},
   "source": [
    "The model has a DataCollector object, which checks and stores how many agents are happy at the end of each step. It can also generate a pandas DataFrame of the data it has collected:"
   ]
  },
  {
   "cell_type": "code",
   "execution_count": 8,
   "id": "d0aacdb1",
   "metadata": {},
   "outputs": [
    {
     "data": {
      "text/html": [
       "<div>\n",
       "<style scoped>\n",
       "    .dataframe tbody tr th:only-of-type {\n",
       "        vertical-align: middle;\n",
       "    }\n",
       "\n",
       "    .dataframe tbody tr th {\n",
       "        vertical-align: top;\n",
       "    }\n",
       "\n",
       "    .dataframe thead th {\n",
       "        text-align: right;\n",
       "    }\n",
       "</style>\n",
       "<table border=\"1\" class=\"dataframe\">\n",
       "  <thead>\n",
       "    <tr style=\"text-align: right;\">\n",
       "      <th></th>\n",
       "      <th>Happy</th>\n",
       "      <th>Segregated_Agents</th>\n",
       "      <th>Segregated_Edges</th>\n",
       "      <th>Morans_I</th>\n",
       "    </tr>\n",
       "  </thead>\n",
       "  <tbody>\n",
       "    <tr>\n",
       "      <th>0</th>\n",
       "      <td>2052</td>\n",
       "      <td>0.173842</td>\n",
       "      <td>0.702650</td>\n",
       "      <td>0.405300</td>\n",
       "    </tr>\n",
       "    <tr>\n",
       "      <th>1</th>\n",
       "      <td>2365</td>\n",
       "      <td>0.272949</td>\n",
       "      <td>0.750077</td>\n",
       "      <td>0.500155</td>\n",
       "    </tr>\n",
       "    <tr>\n",
       "      <th>2</th>\n",
       "      <td>2431</td>\n",
       "      <td>0.311942</td>\n",
       "      <td>0.766203</td>\n",
       "      <td>0.532406</td>\n",
       "    </tr>\n",
       "    <tr>\n",
       "      <th>3</th>\n",
       "      <td>2459</td>\n",
       "      <td>0.315597</td>\n",
       "      <td>0.767622</td>\n",
       "      <td>0.535243</td>\n",
       "    </tr>\n",
       "    <tr>\n",
       "      <th>4</th>\n",
       "      <td>2460</td>\n",
       "      <td>0.317628</td>\n",
       "      <td>0.768470</td>\n",
       "      <td>0.536940</td>\n",
       "    </tr>\n",
       "  </tbody>\n",
       "</table>\n",
       "</div>"
      ],
      "text/plain": [
       "   Happy  Segregated_Agents  Segregated_Edges  Morans_I\n",
       "0   2052           0.173842          0.702650  0.405300\n",
       "1   2365           0.272949          0.750077  0.500155\n",
       "2   2431           0.311942          0.766203  0.532406\n",
       "3   2459           0.315597          0.767622  0.535243\n",
       "4   2460           0.317628          0.768470  0.536940"
      ]
     },
     "execution_count": 8,
     "metadata": {},
     "output_type": "execute_result"
    }
   ],
   "source": [
    "model_out = model.datacollector.get_model_vars_dataframe()\n",
    "model_out.head()"
   ]
  },
  {
   "cell_type": "markdown",
   "id": "fa92eb0c",
   "metadata": {},
   "source": [
    "Finally, we can plot the 'happy' series:"
   ]
  },
  {
   "cell_type": "code",
   "execution_count": 9,
   "id": "8a574496",
   "metadata": {},
   "outputs": [
    {
     "data": {
      "text/plain": [
       "<AxesSubplot:>"
      ]
     },
     "execution_count": 9,
     "metadata": {},
     "output_type": "execute_result"
    },
    {
     "data": {
      "image/png": "[encoded data removed]",
      "text/plain": [
       "<Figure size 432x288 with 1 Axes>"
      ]
     },
     "metadata": {
      "needs_background": "light"
     },
     "output_type": "display_data"
    }
   ],
   "source": [
    "model_out.Happy.plot()"
   ]
  },
  {
   "cell_type": "markdown",
   "id": "fff29048",
   "metadata": {},
   "source": [
    "For testing purposes, here is a table giving each agent's x and y values at each step."
   ]
  },
  {
   "cell_type": "code",
   "execution_count": 10,
   "id": "466d4ad5",
   "metadata": {},
   "outputs": [
    {
     "data": {
      "text/html": [
       "<div>\n",
       "<style scoped>\n",
       "    .dataframe tbody tr th:only-of-type {\n",
       "        vertical-align: middle;\n",
       "    }\n",
       "\n",
       "    .dataframe tbody tr th {\n",
       "        vertical-align: top;\n",
       "    }\n",
       "\n",
       "    .dataframe thead th {\n",
       "        text-align: right;\n",
       "    }\n",
       "</style>\n",
       "<table border=\"1\" class=\"dataframe\">\n",
       "  <thead>\n",
       "    <tr style=\"text-align: right;\">\n",
       "      <th></th>\n",
       "      <th></th>\n",
       "      <th>x</th>\n",
       "      <th>y</th>\n",
       "    </tr>\n",
       "    <tr>\n",
       "      <th>Step</th>\n",
       "      <th>AgentID</th>\n",
       "      <th></th>\n",
       "      <th></th>\n",
       "    </tr>\n",
       "  </thead>\n",
       "  <tbody>\n",
       "    <tr>\n",
       "      <th rowspan=\"5\" valign=\"top\">1</th>\n",
       "      <th>(0, 0)</th>\n",
       "      <td>19</td>\n",
       "      <td>29</td>\n",
       "    </tr>\n",
       "    <tr>\n",
       "      <th>(0, 1)</th>\n",
       "      <td>10</td>\n",
       "      <td>39</td>\n",
       "    </tr>\n",
       "    <tr>\n",
       "      <th>(0, 2)</th>\n",
       "      <td>28</td>\n",
       "      <td>49</td>\n",
       "    </tr>\n",
       "    <tr>\n",
       "      <th>(0, 3)</th>\n",
       "      <td>26</td>\n",
       "      <td>0</td>\n",
       "    </tr>\n",
       "    <tr>\n",
       "      <th>(0, 4)</th>\n",
       "      <td>17</td>\n",
       "      <td>15</td>\n",
       "    </tr>\n",
       "  </tbody>\n",
       "</table>\n",
       "</div>"
      ],
      "text/plain": [
       "               x   y\n",
       "Step AgentID        \n",
       "1    (0, 0)   19  29\n",
       "     (0, 1)   10  39\n",
       "     (0, 2)   28  49\n",
       "     (0, 3)   26   0\n",
       "     (0, 4)   17  15"
      ]
     },
     "execution_count": 10,
     "metadata": {},
     "output_type": "execute_result"
    }
   ],
   "source": [
    "x_positions = model.datacollector.get_agent_vars_dataframe()\n",
    "x_positions.head()"
   ]
  },
  {
   "cell_type": "markdown",
   "id": "08be6c50",
   "metadata": {},
   "source": [
    "# Effect of Homophily on segregation\n",
    "\n",
    "Now, we can do a parameter sweep to see how segregation changes with homophily.\n",
    "\n",
    "First, we create a function which takes a model instance and returns what fraction of agents are segregated -- that is, have no neighbors of the opposite type."
   ]
  },
  {
   "cell_type": "code",
   "execution_count": 11,
   "id": "93cc096b",
   "metadata": {},
   "outputs": [
    {
     "name": "stderr",
     "output_type": "stream",
     "text": [
      "80it [00:23,  3.35it/s]\n"
     ]
    }
   ],
   "source": [
    "from mesa.batchrunner import batch_run\n",
    "\n",
    "params = {\"height\": 20, \"width\": 20, \"density\": 0.98, \"minority_pc\": 0.5, \n",
    "              \"homophily\": range(0,100, 13)}\n",
    "\n",
    "results = batch_run(\n",
    "    SchellingModel,\n",
    "    parameters=params,\n",
    "    iterations=10,\n",
    "    max_steps=200,\n",
    "    display_progress=True,\n",
    ")"
   ]
  },
  {
   "cell_type": "markdown",
   "id": "301669aa",
   "metadata": {},
   "source": [
    "### Complete data is available for each model instantiation for each agent for each step"
   ]
  },
  {
   "cell_type": "code",
   "execution_count": 12,
   "id": "baaaddaf",
   "metadata": {},
   "outputs": [
    {
     "name": "stdout",
     "output_type": "stream",
     "text": [
      "Index(['RunId', 'iteration', 'Step', 'height', 'width', 'density',\n",
      "       'minority_pc', 'homophily', 'Happy', 'Segregated_Agents',\n",
      "       'Segregated_Edges', 'Morans_I', 'AgentID', 'x', 'y'],\n",
      "      dtype='object')\n"
     ]
    }
   ],
   "source": [
    "import pandas as pd\n",
    "\n",
    "results_df = pd.DataFrame(results)\n",
    "print(results_df.keys())"
   ]
  },
  {
   "cell_type": "code",
   "execution_count": 13,
   "id": "833da501",
   "metadata": {},
   "outputs": [
    {
     "data": {
      "text/plain": [
       "<AxesSubplot:title={'center':'Segregated_Agents'}, xlabel='homophily'>"
      ]
     },
     "execution_count": 13,
     "metadata": {},
     "output_type": "execute_result"
    },
    {
     "data": {
      "image/png": "[encoded data removed]",
      "text/plain": [
       "<Figure size 432x288 with 1 Axes>"
      ]
     },
     "metadata": {
      "needs_background": "light"
     },
     "output_type": "display_data"
    }
   ],
   "source": [
    "results_df.boxplot(by ='homophily', column =['Segregated_Agents'], grid=False)"
   ]
  },
  {
   "cell_type": "code",
   "execution_count": 14,
   "id": "c583ea2e",
   "metadata": {},
   "outputs": [
    {
     "data": {
      "text/plain": [
       "<AxesSubplot:title={'center':'Segregated_Agents'}, xlabel='homophily'>"
      ]
     },
     "execution_count": 14,
     "metadata": {},
     "output_type": "execute_result"
    },
    {
     "data": {
      "image/png": "[encoded data removed]",
      "text/plain": [
       "<Figure size 432x288 with 1 Axes>"
      ]
     },
     "metadata": {
      "needs_background": "light"
     },
     "output_type": "display_data"
    }
   ],
   "source": [
    "results_df.groupby(by=[\"RunId\"]).median().boxplot(by ='homophily', column =['Segregated_Agents'], grid=False)"
   ]
  },
  {
   "cell_type": "code",
   "execution_count": 15,
   "id": "591d5bb5",
   "metadata": {},
   "outputs": [
    {
     "data": {
      "text/plain": [
       "<AxesSubplot:title={'center':'Segregated_Edges'}, xlabel='homophily'>"
      ]
     },
     "execution_count": 15,
     "metadata": {},
     "output_type": "execute_result"
    },
    {
     "data": {
      "image/png": "[encoded data removed]",
      "text/plain": [
       "<Figure size 432x288 with 1 Axes>"
      ]
     },
     "metadata": {
      "needs_background": "light"
     },
     "output_type": "display_data"
    }
   ],
   "source": [
    "results_df.boxplot(by ='homophily', column =['Segregated_Edges'], grid=False)"
   ]
  },
  {
   "cell_type": "code",
   "execution_count": 16,
   "id": "9a8f1dee",
   "metadata": {},
   "outputs": [
    {
     "data": {
      "text/plain": [
       "<AxesSubplot:title={'center':'Segregated_Edges'}, xlabel='homophily'>"
      ]
     },
     "execution_count": 16,
     "metadata": {},
     "output_type": "execute_result"
    },
    {
     "data": {
      "image/png": "[encoded data removed]",
      "text/plain": [
       "<Figure size 432x288 with 1 Axes>"
      ]
     },
     "metadata": {
      "needs_background": "light"
     },
     "output_type": "display_data"
    }
   ],
   "source": [
    "results_df.groupby(by=[\"RunId\"]).median().boxplot(by ='homophily', column =['Segregated_Edges'], grid=False)"
   ]
  },
  {
   "cell_type": "code",
   "execution_count": 17,
   "id": "f2ca8006",
   "metadata": {},
   "outputs": [
    {
     "data": {
      "image/png": "[encoded data removed]",
      "text/plain": [
       "<Figure size 432x288 with 1 Axes>"
      ]
     },
     "metadata": {
      "needs_background": "light"
     },
     "output_type": "display_data"
    }
   ],
   "source": [
    "results_df.groupby(by=[\"RunId\"]).median().boxplot(by ='homophily', column =['Morans_I'], grid=False)\n",
    "plt.suptitle(None)\n",
    "plt.title(None)\n",
    "plt.ylabel(\"Moran's I\")\n",
    "plt.savefig('morans_i_plot.eps')"
   ]
  },
  {
   "cell_type": "code",
   "execution_count": null,
   "id": "6f6f799c",
   "metadata": {},
   "outputs": [],
   "source": []
  }
 ],
 "metadata": {
  "kernelspec": {
   "display_name": "Python 3 (ipykernel)",
   "language": "python",
   "name": "python3"
  },
  "language_info": {
   "codemirror_mode": {
    "name": "ipython",
    "version": 3
   },
   "file_extension": ".py",
   "mimetype": "text/x-python",
   "name": "python",
   "nbconvert_exporter": "python",
   "pygments_lexer": "ipython3",
   "version": "3.8.10"
  }
 },
 "nbformat": 4,
 "nbformat_minor": 5
}
